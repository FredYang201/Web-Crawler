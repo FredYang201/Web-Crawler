{
 "cells": [
  {
   "cell_type": "code",
   "execution_count": 11,
   "metadata": {},
   "outputs": [],
   "source": [
    "# 导入相关的库，requests库时下载网页源码，lxml是用于对源码进行解析，提取元素\n",
    "import requests\n",
    "from lxml import etree"
   ]
  },
  {
   "cell_type": "code",
   "execution_count": 2,
   "metadata": {},
   "outputs": [],
   "source": [
    "# 最开始的url链接，即首页\n",
    "base_url = 'http://bxjg.circ.gov.cn/tabid/5253/ctl/ViewOrgList/mid/16658/OrgTypeID/1/Default.aspx?ctlmode=none'"
   ]
  },
  {
   "cell_type": "code",
   "execution_count": 3,
   "metadata": {},
   "outputs": [],
   "source": [
    "# 定义下载源码的函数\n",
    "def get_html(url):\n",
    "    # 定义头部信息，模拟浏览器访问服务器\n",
    "    headers = {\n",
    "        'User-Agent':'Mozilla/5.0 (Windows NT 10.0; Win64; x64) AppleWebKit/537.36 (KHTML, like Gecko) Chrome/62.0.3202.62 Safari/537.36',\n",
    "        'Host':'bxjg.circ.gov.cn',\n",
    "        'Referer':'http://bxjg.circ.gov.cn/tabid/6757/Default.aspx'\n",
    "    }\n",
    "    # 采用get方法获取网页源码\n",
    "    response = requests.get(url,headers = headers)\n",
    "    # 对返回的信息的编码进行处理\n",
    "    response.encoding = response.apparent_encoding\n",
    "    # 返回相应的文本\n",
    "    return response.text"
   ]
  },
  {
   "cell_type": "code",
   "execution_count": 6,
   "metadata": {},
   "outputs": [
    {
     "data": {
      "text/plain": [
       "'<!DOCTYPE html PUBLIC \"-//W3C//DTD XHTML 1.0 Transitional//EN\" \"http://www.w3.org/TR/xhtml1/DTD/xhtml1-transitional.dtd\">\\r\\n<html xml:lang=\"zh-CN\" lang=\"zh-CN\" xmlns=\"http://www.w3.org/1999/xhtml\">\\r\\n<head id=\"Head\">\\r\\n<!--**********************************************************************************-->\\r\\n<!-- EasySite?- http://www.huilan.com                                          -->\\r\\n<!-- Copyright (c) 2002-2011                                                          -->\\r\\n<!-- by Huilan Information Technology Co., Ltd.                                                        -->\\r\\n<!--**********************************************************************************-->\\r\\n<meta http-equiv=\"X-UA-Compatible\" content=\"IE=8\" /><meta id=\"MetaConentType\" http-equiv=\"Content-Type\" content=\"text/html; charset=UTF-8\" /><meta http-equiv=\"Content-Script-Type\" content=\"text/javascript\" /><meta http-equiv=\"Content-Style-Type\" content=\"text/css\" /><meta id=\"MetaDescription\" name=\"DESCRIPTION\" content=\"备案产品查询\" /><meta id=\"MetaKeywords\" name=\"KEYWORDS\" content=\"中国保险监督管理委员会,EasySite,ESS\" /><meta id=\"MetaCopyright\" name=\"COPYRIGHT\" content=\"Copyright 2011 by Huilan Information Technology Co., Ltd.\" /><meta id=\"MetaGenerator\" name=\"GENERATOR\" content=\"EasySite \" /><meta id=\"MetaAuthor\" name=\"AUTHOR\" content=\"中国保险监督管理委员会\" /><meta name=\"RESOURCE-TYPE\" content=\"DOCUMENT\" /><meta name=\"DISTRIBUTION\" content=\"GLOBAL\" /><meta id=\"MetaRobots\" name=\"ROBOTS\" content=\"INDEX, FOLLOW\" /><meta name=\"REVISIT-AFTER\" content=\"1 DAYS\" /><meta name=\"RATING\" content=\"GENERAL\" /><meta http-equiv=\"PAGE-ENTER\" content=\"RevealTrans(Duration=0,Transition=1)\" /><style id=\"StylePlaceholder\" type=\"text/css\"></style><link id=\"APortals__default_\" rel=\"stylesheet\" type=\"text/css\" href=\"/Portals/_default/default.css\" /><script type=\"text/javascript\" src=\"/Resources/Shared/scripts/jquery/jquery.min.js\" ></script><title>\\r\\n\\t中国保险监督管理委员会 > 办事服务 > 备案产品查询\\r\\n</title></head>\\r\\n<body id=\"Body\">\\r\\n    <form name=\"Form\" method=\"post\" action=\"/tabid/5253/ctl/ViewOrgList/mid/16658/OrgTypeID/1/Default.aspx?ctlmode=none\" id=\"Form\" enctype=\"multipart/form-data\">\\r\\n<div>\\r\\n<input type=\"hidden\" name=\"__EVENTTARGET\" id=\"__EVENTTARGET\" value=\"\" />\\r\\n<input type=\"hidden\" name=\"__EVENTARGUMENT\" id=\"__EVENTARGUMENT\" value=\"\" />\\r\\n<input type=\"hidden\" name=\"__VIEWSTATE\" id=\"__VIEWSTATE\" value=\"/wEPDwUJNjcwNjk2ODMxD2QWBmYPFgIeBFRleHQFeTwhRE9DVFlQRSBodG1sIFBVQkxJQyAiLS8vVzNDLy9EVEQgWEhUTUwgMS4wIFRyYW5zaXRpb25hbC8vRU4iICJodHRwOi8vd3d3LnczLm9yZy9UUi94aHRtbDEvRFREL3hodG1sMS10cmFuc2l0aW9uYWwuZHRkIj5kAgEPZBYOAgUPFgIeB1Zpc2libGVoZAIGDxYCHgdjb250ZW50BRLlpIfmoYjkuqflk4Hmn6Xor6JkAgcPFgIfAgUu5Lit5Zu95L+d6Zmp55uR552j566h55CG5aeU5ZGY5LyaLEVhc3lTaXRlLEVTU2QCCA8WAh8CBTlDb3B5cmlnaHQgMjAxMSBieSBIdWlsYW4gSW5mb3JtYXRpb24gVGVjaG5vbG9neSBDby4sIEx0ZC5kAgkPFgIfAgUJRWFzeVNpdGUgZAIKDxYCHwIFIeS4reWbveS/nemZqeebkeedo+euoeeQhuWnlOWRmOS8mmQCDQ8WAh8CBQ1JTkRFWCwgRk9MTE9XZAICD2QWAgIBD2QWBAIJD2QWAmYPZBYCZg9kFgICAQ9kFgJmD2QWAmYPD2QWAh4FY2xhc3MFIE1vZEVTU0NvcnBDSVJDRVNTNlJlY29yZFByb2R1Y3RDFgICAQ8PFgIeCU9yZ1R5cGVJRAIBZBYCZg8PFgIfAAUP5Lq66Lqr6Zmp5Lqn5ZOBZGQCCw8UKwACFCsAA2RkZGRkZA==\" />\\r\\n</div>\\r\\n\\r\\n<script type=\"text/javascript\">\\r\\n//<![CDATA[\\r\\nvar theForm = document.forms[\\'Form\\'];\\r\\nif (!theForm) {\\r\\n    theForm = document.Form;\\r\\n}\\r\\nfunction __doPostBack(eventTarget, eventArgument) {\\r\\n    if (!theForm.onsubmit || (theForm.onsubmit() != false)) {\\r\\n        theForm.__EVENTTARGET.value = eventTarget;\\r\\n        theForm.__EVENTARGUMENT.value = eventArgument;\\r\\n        theForm.submit();\\r\\n    }\\r\\n}\\r\\n//]]>\\r\\n</script>\\r\\n\\r\\n\\r\\n<script src=\"/WebResource.axd?d=wB_4gyFtQgNCH5tDff9b9A2&amp;t=635800887873618750\" type=\"text/javascript\"></script>\\r\\n\\r\\n\\r\\n<script src=\"/js/esscore.js\" type=\"text/javascript\"></script>\\r\\n<script src=\"/Resources/Shared/scripts/MSAJAX/MicrosoftAjax.js\" type=\"text/javascript\"></script>\\r\\n<script src=\"/Resources/Shared/scripts/MSAJAX/MicrosoftAjaxWebForms.js\" type=\"text/javascript\"></script>\\r\\n        <script type=\"text/javascript\">\\r\\n//<![CDATA[\\r\\nSys.WebForms.PageRequestManager._initialize(\\'ScriptManager\\', document.getElementById(\\'Form\\'));\\r\\nSys.WebForms.PageRequestManager.getInstance()._updateControls([], [], [], 90);\\r\\n//]]>\\r\\n</script>\\r\\n\\r\\n        <input name=\"ScrollTop\" type=\"hidden\" id=\"ScrollTop\" />\\r\\n        <input name=\"__essVariable\" type=\"hidden\" id=\"__essVariable\" />    \\r\\n        \\r\\n        <div id=\"ess_ContentPane\" align=\"left\">\\r\\n<div id=\"ess_ctr16658_ContentPane\" style=\"text-align:left;\"><div id=\"ess_ctr16658_ModuleContent\" class=\"ModESSCorpCIRCESS6RecordProductC\">\\r\\n\\t\\r\\n<link href=\\'/DesktopModules/ESSCorp/CIRC_ESS6_RecordProduct/css/style.css\\' rel=\"stylesheet\" type=\"text/css\" />\\r\\n<style type=\"text/css\">\\r\\n    .orglist_main { width:740px; margin: 0 auto; }\\r\\n    .orglist_table {width:740px;border-collapse:collapse; margin: 0 auto;border-right:1px solid #E0E0E0; border-left:1px solid #E0E0E0;}\\r\\n\\t.orglist_table td {  } \\r\\n    \\r\\n    .orglist_td { font-size:14px; width:45%;}\\r\\n    .img_ico { padding: 0 8px 2px 2px; }\\r\\n.tbl_th{ padding-bottom:0;}\\r\\n</style>\\r\\n\\r\\n<table cellspacing=\"0\" cellpadding=\"0\" border=\"0\" class=\"orglist_main\">\\r\\n\\t<tr>\\r\\n\\t\\t<td class=\"tbl_th\" >\\r\\n            <span class=\"tbl_th_01\"></span>\\r\\n\\t\\t\\t<table cellspacing=\"0\" cellpadding=\"3\" width=\"100%\" border=\"0\">\\r\\n\\t\\t\\t\\t<tr>\\r\\n\\t\\t\\t\\t\\t<td>&nbsp;&nbsp;<span id=\"ess_ctr16658_ViewOrgList_lblClassName\" style=\"font-size:15px; color:#003A82; height:32px; line-height:32px;\">人身险产品</span><A name=\"1\"></A></td>\\r\\n\\t\\t\\t\\t</tr>\\r\\n\\t\\t\\t</table>\\r\\n\\t\\t</td>\\r\\n\\t</tr>\\r\\n    <tr>\\r\\n\\t\\t<td>\\r\\n            <table cellspacing=\"0\" cellpadding=\"3\" border=\"0\" class=\"orglist_table\">    <tbody>    <tr>        <td colspan=\"2\" class=\"orglist_th\" ></td>    </tr>    <tr>        <td valign=\"top\" class=\"orglist_td\"><img Width=\"3\" Height=\"5\" src=\"/images/CIRC/io_title_bg03.png\" class=\"img_ico\" /><a href=\"/tabid/5253/ctl/ViewOrg/mid/16658/ItemID/336474/Default.aspx\" target=\"_blank\" >英大泰和人寿保险股份有限公司</a></td>        <td valign=\"top\" class=\"orglist_td\"><img Width=\"3\" Height=\"5\" src=\"/images/CIRC/io_title_bg03.png\" class=\"img_ico\" /><a href=\"/tabid/5253/ctl/ViewOrg/mid/16658/ItemID/336587/Default.aspx\" target=\"_blank\" >友邦保险有限公司上海分公司(代表友邦在华各分支公司)</a></td>    </tr>    <tr>        <td valign=\"top\" class=\"orglist_td\"><img Width=\"3\" Height=\"5\" src=\"/images/CIRC/io_title_bg03.png\" class=\"img_ico\" /><a href=\"/tabid/5253/ctl/ViewOrg/mid/16658/ItemID/336950/Default.aspx\" target=\"_blank\" >长城人寿保险股份有限公司</a></td>        <td valign=\"top\" class=\"orglist_td\"><img Width=\"3\" Height=\"5\" src=\"/images/CIRC/io_title_bg03.png\" class=\"img_ico\" /><a href=\"/tabid/5253/ctl/ViewOrg/mid/16658/ItemID/337119/Default.aspx\" target=\"_blank\" >招商信诺人寿保险有限公司</a></td>    </tr>    <tr>        <td valign=\"top\" class=\"orglist_td\"><img Width=\"3\" Height=\"5\" src=\"/images/CIRC/io_title_bg03.png\" class=\"img_ico\" /><a href=\"/tabid/5253/ctl/ViewOrg/mid/16658/ItemID/337358/Default.aspx\" target=\"_blank\" >正德人寿保险股份有限公司</a></td>        <td valign=\"top\" class=\"orglist_td\"><img Width=\"3\" Height=\"5\" src=\"/images/CIRC/io_title_bg03.png\" class=\"img_ico\" /><a href=\"/tabid/5253/ctl/ViewOrg/mid/16658/ItemID/337396/Default.aspx\" target=\"_blank\" >中德安联人寿保险有限公司</a></td>    </tr>    <tr>        <td valign=\"top\" class=\"orglist_td\"><img Width=\"3\" Height=\"5\" src=\"/images/CIRC/io_title_bg03.png\" class=\"img_ico\" /><a href=\"/tabid/5253/ctl/ViewOrg/mid/16658/ItemID/337514/Default.aspx\" target=\"_blank\" >中法人寿保险有限责任公司</a></td>        <td valign=\"top\" class=\"orglist_td\"><img Width=\"3\" Height=\"5\" src=\"/images/CIRC/io_title_bg03.png\" class=\"img_ico\" /><a href=\"/tabid/5253/ctl/ViewOrg/mid/16658/ItemID/337517/Default.aspx\" target=\"_blank\" >中国人寿保险股份有限公司</a></td>    </tr>    <tr>        <td valign=\"top\" class=\"orglist_td\"><img Width=\"3\" Height=\"5\" src=\"/images/CIRC/io_title_bg03.png\" class=\"img_ico\" /><a href=\"/tabid/5253/ctl/ViewOrg/mid/16658/ItemID/337807/Default.aspx\" target=\"_blank\" >中韩人寿保险有限公司</a></td>        <td valign=\"top\" class=\"orglist_td\"><img Width=\"3\" Height=\"5\" src=\"/images/CIRC/io_title_bg03.png\" class=\"img_ico\" /><a href=\"/tabid/5253/ctl/ViewOrg/mid/16658/ItemID/337835/Default.aspx\" target=\"_blank\" >中银三星人寿保险有限公司</a></td>    </tr>    <tr>        <td valign=\"top\" class=\"orglist_td\"><img Width=\"3\" Height=\"5\" src=\"/images/CIRC/io_title_bg03.png\" class=\"img_ico\" /><a href=\"/tabid/5253/ctl/ViewOrg/mid/16658/ItemID/337943/Default.aspx\" target=\"_blank\" >中荷人寿保险有限公司</a></td>        <td valign=\"top\" class=\"orglist_td\"><img Width=\"3\" Height=\"5\" src=\"/images/CIRC/io_title_bg03.png\" class=\"img_ico\" /><a href=\"/tabid/5253/ctl/ViewOrg/mid/16658/ItemID/338105/Default.aspx\" target=\"_blank\" >中美联泰大都会人寿保险有限公司</a></td>    </tr>    <tr>        <td valign=\"top\" class=\"orglist_td\"><img Width=\"3\" Height=\"5\" src=\"/images/CIRC/io_title_bg03.png\" class=\"img_ico\" /><a href=\"/tabid/5253/ctl/ViewOrg/mid/16658/ItemID/338313/Default.aspx\" target=\"_blank\" >恒大人寿保险有限公司</a></td>        <td valign=\"top\" class=\"orglist_td\"><img Width=\"3\" Height=\"5\" src=\"/images/CIRC/io_title_bg03.png\" class=\"img_ico\" /><a href=\"/tabid/5253/ctl/ViewOrg/mid/16658/ItemID/338406/Default.aspx\" target=\"_blank\" >中意人寿保险有限公司</a></td>    </tr>    <tr>        <td valign=\"top\" class=\"orglist_td\"><img Width=\"3\" Height=\"5\" src=\"/images/CIRC/io_title_bg03.png\" class=\"img_ico\" /><a href=\"/tabid/5253/ctl/ViewOrg/mid/16658/ItemID/338609/Default.aspx\" target=\"_blank\" >中英人寿保险有限公司</a></td>        <td valign=\"top\" class=\"orglist_td\"><img Width=\"3\" Height=\"5\" src=\"/images/CIRC/io_title_bg03.png\" class=\"img_ico\" /><a href=\"/tabid/5253/ctl/ViewOrg/mid/16658/ItemID/338775/Default.aspx\" target=\"_blank\" >珠江人寿保险股份有限公司</a></td>    </tr>    <tr>        <td valign=\"top\" class=\"orglist_td\"><img Width=\"3\" Height=\"5\" src=\"/images/CIRC/io_title_bg03.png\" class=\"img_ico\" /><a href=\"/tabid/5253/ctl/ViewOrg/mid/16658/ItemID/338812/Default.aspx\" target=\"_blank\" >安邦人寿保险股份有限公司</a></td>        <td valign=\"top\" class=\"orglist_td\"><img Width=\"3\" Height=\"5\" src=\"/images/CIRC/io_title_bg03.png\" class=\"img_ico\" /><a href=\"/tabid/5253/ctl/ViewOrg/mid/16658/ItemID/338922/Default.aspx\" target=\"_blank\" >百年人寿保险股份有限公司</a></td>    </tr>    <tr>        <td valign=\"top\" class=\"orglist_td\"><img Width=\"3\" Height=\"5\" src=\"/images/CIRC/io_title_bg03.png\" class=\"img_ico\" /><a href=\"/tabid/5253/ctl/ViewOrg/mid/16658/ItemID/339016/Default.aspx\" target=\"_blank\" >北大方正人寿保险有限公司</a></td>        <td valign=\"top\" class=\"orglist_td\"><img Width=\"3\" Height=\"5\" src=\"/images/CIRC/io_title_bg03.png\" class=\"img_ico\" /><a href=\"/tabid/5253/ctl/ViewOrg/mid/16658/ItemID/339180/Default.aspx\" target=\"_blank\" >工银安盛人寿保险有限公司</a></td>    </tr>    <tr>        <td valign=\"top\" class=\"orglist_td\"><img Width=\"3\" Height=\"5\" src=\"/images/CIRC/io_title_bg03.png\" class=\"img_ico\" /><a href=\"/tabid/5253/ctl/ViewOrg/mid/16658/ItemID/339254/Default.aspx\" target=\"_blank\" >光大永明人寿保险有限公司</a></td>        <td valign=\"top\" class=\"orglist_td\"><img Width=\"3\" Height=\"5\" src=\"/images/CIRC/io_title_bg03.png\" class=\"img_ico\" /><a href=\"/tabid/5253/ctl/ViewOrg/mid/16658/ItemID/339450/Default.aspx\" target=\"_blank\" >国泰人寿保险有限责任公司</a></td>    </tr>    <tr>        <td valign=\"top\" class=\"orglist_td\"><img Width=\"3\" Height=\"5\" src=\"/images/CIRC/io_title_bg03.png\" class=\"img_ico\" /><a href=\"/tabid/5253/ctl/ViewOrg/mid/16658/ItemID/339525/Default.aspx\" target=\"_blank\" >海康人寿保险有限公司</a></td>        <td valign=\"top\" class=\"orglist_td\"><img Width=\"3\" Height=\"5\" src=\"/images/CIRC/io_title_bg03.png\" class=\"img_ico\" /><a href=\"/tabid/5253/ctl/ViewOrg/mid/16658/ItemID/339610/Default.aspx\" target=\"_blank\" >合众人寿保险股份有限公司</a></td>    </tr>    <tr>        <td valign=\"top\" class=\"orglist_td\"><img Width=\"3\" Height=\"5\" src=\"/images/CIRC/io_title_bg03.png\" class=\"img_ico\" /><a href=\"/tabid/5253/ctl/ViewOrg/mid/16658/ItemID/339742/Default.aspx\" target=\"_blank\" >和谐健康保险股份有限公司</a></td>        <td valign=\"top\" class=\"orglist_td\"><img Width=\"3\" Height=\"5\" src=\"/images/CIRC/io_title_bg03.png\" class=\"img_ico\" /><a href=\"/tabid/5253/ctl/ViewOrg/mid/16658/ItemID/339826/Default.aspx\" target=\"_blank\" >恒安标准人寿保险有限公司</a></td>    </tr>    <tr>        <td valign=\"top\" class=\"orglist_td\"><img Width=\"3\" Height=\"5\" src=\"/images/CIRC/io_title_bg03.png\" class=\"img_ico\" /><a href=\"/tabid/5253/ctl/ViewOrg/mid/16658/ItemID/339941/Default.aspx\" target=\"_blank\" >华汇人寿保险股份有限公司</a></td>        <td valign=\"top\" class=\"orglist_td\"><img Width=\"3\" Height=\"5\" src=\"/images/CIRC/io_title_bg03.png\" class=\"img_ico\" /><a href=\"/tabid/5253/ctl/ViewOrg/mid/16658/ItemID/340077/Default.aspx\" target=\"_blank\" >汇丰人寿保险有限公司</a></td>    </tr>    <tr>        <td valign=\"top\" class=\"orglist_td\"><img Width=\"3\" Height=\"5\" src=\"/images/CIRC/io_title_bg03.png\" class=\"img_ico\" /><a href=\"/tabid/5253/ctl/ViewOrg/mid/16658/ItemID/340116/Default.aspx\" target=\"_blank\" >吉祥人寿保险股份有限公司</a></td>        <td valign=\"top\" class=\"orglist_td\"><img Width=\"3\" Height=\"5\" src=\"/images/CIRC/io_title_bg03.png\" class=\"img_ico\" /><a href=\"/tabid/5253/ctl/ViewOrg/mid/16658/ItemID/340612/Default.aspx\" target=\"_blank\" >君龙人寿保险有限公司</a></td>    </tr>    <tr>        <td valign=\"top\" class=\"orglist_td\"><img Width=\"3\" Height=\"5\" src=\"/images/CIRC/io_title_bg03.png\" class=\"img_ico\" /><a href=\"/tabid/5253/ctl/ViewOrg/mid/16658/ItemID/340682/Default.aspx\" target=\"_blank\" >昆仑健康保险股份有限公司</a></td>        <td valign=\"top\" class=\"orglist_td\"><img Width=\"3\" Height=\"5\" src=\"/images/CIRC/io_title_bg03.png\" class=\"img_ico\" /><a href=\"/tabid/5253/ctl/ViewOrg/mid/16658/ItemID/340778/Default.aspx\" target=\"_blank\" >利安人寿保险股份有限公司</a></td>    </tr>    <tr>        <td valign=\"top\" class=\"orglist_td\"><img Width=\"3\" Height=\"5\" src=\"/images/CIRC/io_title_bg03.png\" class=\"img_ico\" /><a href=\"/tabid/5253/ctl/ViewOrg/mid/16658/ItemID/340848/Default.aspx\" target=\"_blank\" >民生人寿保险股份有限公司</a></td>        <td valign=\"top\" class=\"orglist_td\"><img Width=\"3\" Height=\"5\" src=\"/images/CIRC/io_title_bg03.png\" class=\"img_ico\" /><a href=\"/tabid/5253/ctl/ViewOrg/mid/16658/ItemID/340952/Default.aspx\" target=\"_blank\" >农银人寿保险股份有限公司</a></td>    </tr>    <tr>        <td valign=\"top\" class=\"orglist_td\"><img Width=\"3\" Height=\"5\" src=\"/images/CIRC/io_title_bg03.png\" class=\"img_ico\" /><a href=\"/tabid/5253/ctl/ViewOrg/mid/16658/ItemID/341032/Default.aspx\" target=\"_blank\" >平安健康保险股份有限公司</a></td>        <td valign=\"top\" class=\"orglist_td\"><img Width=\"3\" Height=\"5\" src=\"/images/CIRC/io_title_bg03.png\" class=\"img_ico\" /><a href=\"/tabid/5253/ctl/ViewOrg/mid/16658/ItemID/341065/Default.aspx\" target=\"_blank\" >中国平安人寿保险股份有限公司</a></td>    </tr>    <tr>        <td valign=\"top\" class=\"orglist_td\"><img Width=\"3\" Height=\"5\" src=\"/images/CIRC/io_title_bg03.png\" class=\"img_ico\" /><a href=\"/tabid/5253/ctl/ViewOrg/mid/16658/ItemID/341211/Default.aspx\" target=\"_blank\" >平安养老保险股份有限公司</a></td>        <td valign=\"top\" class=\"orglist_td\"><img Width=\"3\" Height=\"5\" src=\"/images/CIRC/io_title_bg03.png\" class=\"img_ico\" /><a href=\"/tabid/5253/ctl/ViewOrg/mid/16658/ItemID/341306/Default.aspx\" target=\"_blank\" >前海人寿保险股份有限公司</a></td>    </tr>    <tr>        <td valign=\"top\" class=\"orglist_td\"><img Width=\"3\" Height=\"5\" src=\"/images/CIRC/io_title_bg03.png\" class=\"img_ico\" /><a href=\"/tabid/5253/ctl/ViewOrg/mid/16658/ItemID/341347/Default.aspx\" target=\"_blank\" >中国人民健康保险股份有限公司</a></td>        <td valign=\"top\" class=\"orglist_td\"><img Width=\"3\" Height=\"5\" src=\"/images/CIRC/io_title_bg03.png\" class=\"img_ico\" /><a href=\"/tabid/5253/ctl/ViewOrg/mid/16658/ItemID/341500/Default.aspx\" target=\"_blank\" >中国人民人寿保险股份有限公司</a></td>    </tr>    <tr>        <td valign=\"top\" class=\"orglist_td\"><img Width=\"3\" Height=\"5\" src=\"/images/CIRC/io_title_bg03.png\" class=\"img_ico\" /><a href=\"/tabid/5253/ctl/ViewOrg/mid/16658/ItemID/341663/Default.aspx\" target=\"_blank\" >瑞泰人寿保险有限公司</a></td>        <td valign=\"top\" class=\"orglist_td\"><img Width=\"3\" Height=\"5\" src=\"/images/CIRC/io_title_bg03.png\" class=\"img_ico\" /><a href=\"/tabid/5253/ctl/ViewOrg/mid/16658/ItemID/377454/Default.aspx\" target=\"_blank\" >生命人寿保险股份有限公司</a></td>    </tr>    <tr>        <td valign=\"top\" class=\"orglist_td\"><img Width=\"3\" Height=\"5\" src=\"/images/CIRC/io_title_bg03.png\" class=\"img_ico\" /><a href=\"/tabid/5253/ctl/ViewOrg/mid/16658/ItemID/377543/Default.aspx\" target=\"_blank\" >太平人寿保险有限公司</a></td>        <td valign=\"top\" class=\"orglist_td\"><img Width=\"3\" Height=\"5\" src=\"/images/CIRC/io_title_bg03.png\" class=\"img_ico\" /><a href=\"/tabid/5253/ctl/ViewOrg/mid/16658/ItemID/377726/Default.aspx\" target=\"_blank\" >中国太平洋人寿保险股份有限公司</a></td>    </tr>    <tr>        <td valign=\"top\" class=\"orglist_td\"><img Width=\"3\" Height=\"5\" src=\"/images/CIRC/io_title_bg03.png\" class=\"img_ico\" /><a href=\"/tabid/5253/ctl/ViewOrg/mid/16658/ItemID/377981/Default.aspx\" target=\"_blank\" >太平养老保险股份有限公司</a></td>        <td valign=\"top\" class=\"orglist_td\"><img Width=\"3\" Height=\"5\" src=\"/images/CIRC/io_title_bg03.png\" class=\"img_ico\" /><a href=\"/tabid/5253/ctl/ViewOrg/mid/16658/ItemID/378039/Default.aspx\" target=\"_blank\" >泰康人寿保险股份有限公司</a></td>    </tr>    <tr>        <td valign=\"top\" class=\"orglist_td\"><img Width=\"3\" Height=\"5\" src=\"/images/CIRC/io_title_bg03.png\" class=\"img_ico\" /><a href=\"/tabid/5253/ctl/ViewOrg/mid/16658/ItemID/378300/Default.aspx\" target=\"_blank\" >泰康养老保险股份有限公司</a></td>        <td valign=\"top\" class=\"orglist_td\"><img Width=\"3\" Height=\"5\" src=\"/images/CIRC/io_title_bg03.png\" class=\"img_ico\" /><a href=\"/tabid/5253/ctl/ViewOrg/mid/16658/ItemID/378303/Default.aspx\" target=\"_blank\" >天安人寿保险股份有限公司</a></td>    </tr>    <tr>        <td valign=\"top\" class=\"orglist_td\"><img Width=\"3\" Height=\"5\" src=\"/images/CIRC/io_title_bg03.png\" class=\"img_ico\" /><a href=\"/tabid/5253/ctl/ViewOrg/mid/16658/ItemID/378362/Default.aspx\" target=\"_blank\" >新光海航人寿保险有限责任公司</a></td>        <td valign=\"top\" class=\"orglist_td\"><img Width=\"3\" Height=\"5\" src=\"/images/CIRC/io_title_bg03.png\" class=\"img_ico\" /><a href=\"/tabid/5253/ctl/ViewOrg/mid/16658/ItemID/378439/Default.aspx\" target=\"_blank\" >新华人寿保险股份有限公司</a></td>    </tr>    <tr>        <td valign=\"top\" class=\"orglist_td\"><img Width=\"3\" Height=\"5\" src=\"/images/CIRC/io_title_bg03.png\" class=\"img_ico\" /><a href=\"/tabid/5253/ctl/ViewOrg/mid/16658/ItemID/378824/Default.aspx\" target=\"_blank\" >幸福人寿保险股份有限公司</a></td>        <td valign=\"top\" class=\"orglist_td\"><img Width=\"3\" Height=\"5\" src=\"/images/CIRC/io_title_bg03.png\" class=\"img_ico\" /><a href=\"/tabid/5253/ctl/ViewOrg/mid/16658/ItemID/378915/Default.aspx\" target=\"_blank\" >阳光人寿保险股份有限公司</a></td>    </tr>    <tr>        <td valign=\"top\" class=\"orglist_td\"><img Width=\"3\" Height=\"5\" src=\"/images/CIRC/io_title_bg03.png\" class=\"img_ico\" /><a href=\"/tabid/5253/ctl/ViewOrg/mid/16658/ItemID/465795/Default.aspx\" target=\"_blank\" >国华人寿保险股份有限公司</a></td>        <td valign=\"top\" class=\"orglist_td\"><img Width=\"3\" Height=\"5\" src=\"/images/CIRC/io_title_bg03.png\" class=\"img_ico\" /><a href=\"/tabid/5253/ctl/ViewOrg/mid/16658/ItemID/465859/Default.aspx\" target=\"_blank\" >弘康人寿保险股份有限公司</a></td>    </tr>    <tr>        <td valign=\"top\" class=\"orglist_td\"><img Width=\"3\" Height=\"5\" src=\"/images/CIRC/io_title_bg03.png\" class=\"img_ico\" /><a href=\"/tabid/5253/ctl/ViewOrg/mid/16658/ItemID/466581/Default.aspx\" target=\"_blank\" >中融人寿保险股份有限公司</a></td>        <td valign=\"top\" class=\"orglist_td\"><img Width=\"3\" Height=\"5\" src=\"/images/CIRC/io_title_bg03.png\" class=\"img_ico\" /><a href=\"/tabid/5253/ctl/ViewOrg/mid/16658/ItemID/466696/Default.aspx\" target=\"_blank\" >华夏人寿保险股份有限公司</a></td>    </tr>    <tr>        <td valign=\"top\" class=\"orglist_td\"><img Width=\"3\" Height=\"5\" src=\"/images/CIRC/io_title_bg03.png\" class=\"img_ico\" /><a href=\"/tabid/5253/ctl/ViewOrg/mid/16658/ItemID/476145/Default.aspx\" target=\"_blank\" >中邮人寿保险股份有限公司</a></td>        <td valign=\"top\" class=\"orglist_td\"><img Width=\"3\" Height=\"5\" src=\"/images/CIRC/io_title_bg03.png\" class=\"img_ico\" /><a href=\"/tabid/5253/ctl/ViewOrg/mid/16658/ItemID/476171/Default.aspx\" target=\"_blank\" >德华安顾人寿保险有限公司</a></td>    </tr>    <tr>        <td valign=\"top\" class=\"orglist_td\"><img Width=\"3\" Height=\"5\" src=\"/images/CIRC/io_title_bg03.png\" class=\"img_ico\" /><a href=\"/tabid/5253/ctl/ViewOrg/mid/16658/ItemID/476182/Default.aspx\" target=\"_blank\" >交银康联人寿保险有限公司</a></td>        <td valign=\"top\" class=\"orglist_td\"><img Width=\"3\" Height=\"5\" src=\"/images/CIRC/io_title_bg03.png\" class=\"img_ico\" /><a href=\"/tabid/5253/ctl/ViewOrg/mid/16658/ItemID/476323/Default.aspx\" target=\"_blank\" >建信人寿保险有限公司</a></td>    </tr>    <tr>        <td valign=\"top\" class=\"orglist_td\"><img Width=\"3\" Height=\"5\" src=\"/images/CIRC/io_title_bg03.png\" class=\"img_ico\" /><a href=\"/tabid/5253/ctl/ViewOrg/mid/16658/ItemID/476449/Default.aspx\" target=\"_blank\" >信诚人寿保险有限公司</a></td>        <td valign=\"top\" class=\"orglist_td\"><img Width=\"3\" Height=\"5\" src=\"/images/CIRC/io_title_bg03.png\" class=\"img_ico\" /><a href=\"/tabid/5253/ctl/ViewOrg/mid/16658/ItemID/476597/Default.aspx\" target=\"_blank\" >信泰人寿保险股份有限公司</a></td>    </tr>    <tr>        <td valign=\"top\" class=\"orglist_td\"><img Width=\"3\" Height=\"5\" src=\"/images/CIRC/io_title_bg03.png\" class=\"img_ico\" /><a href=\"/tabid/5253/ctl/ViewOrg/mid/16658/ItemID/476738/Default.aspx\" target=\"_blank\" >东吴人寿保险股份有限公司</a></td>        <td valign=\"top\" class=\"orglist_td\"><img Width=\"3\" Height=\"5\" src=\"/images/CIRC/io_title_bg03.png\" class=\"img_ico\" /><a href=\"/tabid/5253/ctl/ViewOrg/mid/16658/ItemID/476792/Default.aspx\" target=\"_blank\" >华泰人寿保险股份有限公司</a></td>    </tr>    <tr>        <td valign=\"top\" class=\"orglist_td\"><img Width=\"3\" Height=\"5\" src=\"/images/CIRC/io_title_bg03.png\" class=\"img_ico\" /><a href=\"/tabid/5253/ctl/ViewOrg/mid/16658/ItemID/476908/Default.aspx\" target=\"_blank\" >长生人寿保险有限公司</a></td>        <td valign=\"top\" class=\"orglist_td\"><img Width=\"3\" Height=\"5\" src=\"/images/CIRC/io_title_bg03.png\" class=\"img_ico\" /><a href=\"/tabid/5253/ctl/ViewOrg/mid/16658/ItemID/494229/Default.aspx\" target=\"_blank\" >复星保德信人寿保险有限公司</a></td>    </tr>    <tr>        <td valign=\"top\" class=\"orglist_td\"><img Width=\"3\" Height=\"5\" src=\"/images/CIRC/io_title_bg03.png\" class=\"img_ico\" /><a href=\"/tabid/5253/ctl/ViewOrg/mid/16658/ItemID/494284/Default.aspx\" target=\"_blank\" >中宏人寿保险有限公司</a></td>        <td valign=\"top\" class=\"orglist_td\"><img Width=\"3\" Height=\"5\" src=\"/images/CIRC/io_title_bg03.png\" class=\"img_ico\" /><a href=\"/tabid/5253/ctl/ViewOrg/mid/16658/ItemID/494825/Default.aspx\" target=\"_blank\" >安邦养老保险股份有限公司</a></td>    </tr>    <tr>        <td valign=\"top\" class=\"orglist_td\"><img Width=\"3\" Height=\"5\" src=\"/images/CIRC/io_title_bg03.png\" class=\"img_ico\" /><a href=\"/tabid/5253/ctl/ViewOrg/mid/16658/ItemID/496059/Default.aspx\" target=\"_blank\" >渤海人寿保险股份有限公司</a></td>        <td valign=\"top\" class=\"orglist_td\"><img Width=\"3\" Height=\"5\" src=\"/images/CIRC/io_title_bg03.png\" class=\"img_ico\" /><a href=\"/tabid/5253/ctl/ViewOrg/mid/16658/ItemID/496137/Default.aspx\" target=\"_blank\" >陆家嘴国泰人寿保险有限责任公司</a></td>    </tr>    <tr>        <td valign=\"top\" class=\"orglist_td\"><img Width=\"3\" Height=\"5\" src=\"/images/CIRC/io_title_bg03.png\" class=\"img_ico\" /><a href=\"/tabid/5253/ctl/ViewOrg/mid/16658/ItemID/496379/Default.aspx\" target=\"_blank\" >太保安联健康保险股份有限公司</a></td>        <td valign=\"top\" class=\"orglist_td\"><img Width=\"3\" Height=\"5\" src=\"/images/CIRC/io_title_bg03.png\" class=\"img_ico\" /><a href=\"/tabid/5253/ctl/ViewOrg/mid/16658/ItemID/496742/Default.aspx\" target=\"_blank\" >富德生命人寿保险股份有限公司</a></td>    </tr>    <tr>        <td valign=\"top\" class=\"orglist_td\"><img Width=\"3\" Height=\"5\" src=\"/images/CIRC/io_title_bg03.png\" class=\"img_ico\" /><a href=\"/tabid/5253/ctl/ViewOrg/mid/16658/ItemID/496746/Default.aspx\" target=\"_blank\" >国联人寿保险股份有限公司</a></td>        <td valign=\"top\" class=\"orglist_td\"><img Width=\"3\" Height=\"5\" src=\"/images/CIRC/io_title_bg03.png\" class=\"img_ico\" /><a href=\"/tabid/5253/ctl/ViewOrg/mid/16658/ItemID/496769/Default.aspx\" target=\"_blank\" >上海人寿保险股份有限公司</a></td>    </tr>    <tr>        <td valign=\"top\" class=\"orglist_td\"><img Width=\"3\" Height=\"5\" src=\"/images/CIRC/io_title_bg03.png\" class=\"img_ico\" /><a href=\"/tabid/5253/ctl/ViewOrg/mid/16658/ItemID/497955/Default.aspx\" target=\"_blank\" >同方全球人寿保险有限公司</a></td>        <td valign=\"top\" class=\"orglist_td\"><img Width=\"3\" Height=\"5\" src=\"/images/CIRC/io_title_bg03.png\" class=\"img_ico\" /><a href=\"/tabid/5253/ctl/ViewOrg/mid/16658/ItemID/499540/Default.aspx\" target=\"_blank\" >君康人寿保险股份有限公司</a></td>    </tr>    <tr>        <td valign=\"top\" class=\"orglist_td\"><img Width=\"3\" Height=\"5\" src=\"/images/CIRC/io_title_bg03.png\" class=\"img_ico\" /><a href=\"/tabid/5253/ctl/ViewOrg/mid/16658/ItemID/500145/Default.aspx\" target=\"_blank\" >中华联合人寿保险股份有限公司</a></td>        <td valign=\"top\" class=\"orglist_td\"><img Width=\"3\" Height=\"5\" src=\"/images/CIRC/io_title_bg03.png\" class=\"img_ico\" /><a href=\"/tabid/5253/ctl/ViewOrg/mid/16658/ItemID/527674/Default.aspx\" target=\"_blank\" >横琴人寿保险有限公司</a></td>    </tr>    <tr>        <td valign=\"top\" class=\"orglist_td\"><img Width=\"3\" Height=\"5\" src=\"/images/CIRC/io_title_bg03.png\" class=\"img_ico\" /><a href=\"/tabid/5253/ctl/ViewOrg/mid/16658/ItemID/527867/Default.aspx\" target=\"_blank\" >和泰人寿保险股份有限公司</a></td>        <td valign=\"top\" class=\"orglist_td\"><img Width=\"3\" Height=\"5\" src=\"/images/CIRC/io_title_bg03.png\" class=\"img_ico\" /><a href=\"/tabid/5253/ctl/ViewOrg/mid/16658/ItemID/528168/Default.aspx\" target=\"_blank\" >复星联合健康保险股份有限公司</a></td>    </tr>    <tr>        <td valign=\"top\" class=\"orglist_td\"><img Width=\"3\" Height=\"5\" src=\"/images/CIRC/io_title_bg03.png\" class=\"img_ico\" /><a href=\"/tabid/5253/ctl/ViewOrg/mid/16658/ItemID/528249/Default.aspx\" target=\"_blank\" >华贵人寿保险股份有限公司</a></td>        <td valign=\"top\" class=\"orglist_td\"><img Width=\"3\" Height=\"5\" src=\"/images/CIRC/io_title_bg03.png\" class=\"img_ico\" /><a href=\"/tabid/5253/ctl/ViewOrg/mid/16658/ItemID/529003/Default.aspx\" target=\"_blank\" >信美人寿相互保险社</a></td>    </tr>    <tr>        <td valign=\"top\" class=\"orglist_td\"><img Width=\"3\" Height=\"5\" src=\"/images/CIRC/io_title_bg03.png\" class=\"img_ico\" /><a href=\"/tabid/5253/ctl/ViewOrg/mid/16658/ItemID/529240/Default.aspx\" target=\"_blank\" >招商局仁和人寿保险股份有限公司</a></td>        <td valign=\"top\" class=\"orglist_td\"><img Width=\"3\" Height=\"5\" src=\"/images/CIRC/io_title_bg03.png\" class=\"img_ico\" /><a href=\"/tabid/5253/ctl/ViewOrg/mid/16658/ItemID/529301/Default.aspx\" target=\"_blank\" >爱心人寿保险股份有限公司</a></td>    </tr>    <tr>        <td valign=\"top\" class=\"orglist_td\"><img Width=\"3\" Height=\"5\" src=\"/images/CIRC/io_title_bg03.png\" class=\"img_ico\" /><a href=\"/tabid/5253/ctl/ViewOrg/mid/16658/ItemID/531512/Default.aspx\" target=\"_blank\" >中航三星保险有限公司</a></td>        <td valign=\"top\" class=\"orglist_td\"><img Width=\"3\" Height=\"5\" src=\"/images/CIRC/io_title_bg03.png\" class=\"img_ico\" /><a href=\"/tabid/5253/ctl/ViewOrg/mid/16658/ItemID/531597/Default.aspx\" target=\"_blank\" >中新大东方人寿保险有限公司</a></td>    </tr>    <tr>        <td valign=\"top\" class=\"orglist_td\"><img Width=\"3\" Height=\"5\" src=\"/images/CIRC/io_title_bg03.png\" class=\"img_ico\" /><a href=\"/tabid/5253/ctl/ViewOrg/mid/16658/ItemID/532602/Default.aspx\" target=\"_blank\" >中信保诚人寿保险有限公司</a></td>        <td valign=\"top\" class=\"orglist_td\"><img Width=\"3\" Height=\"5\" src=\"/images/CIRC/io_title_bg03.png\" class=\"img_ico\" /><a href=\"/tabid/5253/ctl/ViewOrg/mid/16658/ItemID/532893/Default.aspx\" target=\"_blank\" >三峡人寿保险股份有限公司</a></td>    </tr>    <tr>        <td valign=\"top\" class=\"orglist_td\"><img Width=\"3\" Height=\"5\" src=\"/images/CIRC/io_title_bg03.png\" class=\"img_ico\" /><a href=\"/tabid/5253/ctl/ViewOrg/mid/16658/ItemID/533228/Default.aspx\" target=\"_blank\" >北京人寿保险股份有限公司</a></td>        <td valign=\"top\" class=\"orglist_td\"><img Width=\"3\" Height=\"5\" src=\"/images/CIRC/io_title_bg03.png\" class=\"img_ico\" /><a href=\"/tabid/5253/ctl/ViewOrg/mid/16658/ItemID/533784/Default.aspx\" target=\"_blank\" >国宝人寿保险股份有限公司</a></td>    </tr>    <tr>        <td valign=\"top\" class=\"orglist_td\"><img Width=\"3\" Height=\"5\" src=\"/images/CIRC/io_title_bg03.png\" class=\"img_ico\" /><a href=\"/tabid/5253/ctl/ViewOrg/mid/16658/ItemID/533802/Default.aspx\" target=\"_blank\" >海保人寿保险股份有限公司</a></td>    </tbody></table>\\r\\n        </td>\\r\\n    </tr>\\r\\n    <tr>\\r\\n\\t\\t<td>\\r\\n            <table width=\"100%\" cellspacing=\"0\" cellpadding=\"3\" border=\"0\" align=\"center\" class=\"tbl_td_pager\">\\r\\n                <tr><td>&nbsp;</td></tr>\\r\\n\\t\\t    </table>\\r\\n        </td>\\r\\n    </tr>\\r\\n</table>\\r\\n</div></div>\\r\\n</div>\\r\\n\\r\\n        \\r\\n    \\r\\n\\r\\n<script type=\"text/javascript\">\\r\\n//<![CDATA[\\r\\nSys.Application.initialize();\\r\\n//]]>\\r\\n</script>\\r\\n</form>\\r\\n\\r\\n</body>\\r\\n</html>\\r\\n'"
      ]
     },
     "execution_count": 6,
     "metadata": {},
     "output_type": "execute_result"
    }
   ],
   "source": [
    "# 调用上述函数获取网页源码，保存到html中\n",
    "html = get_html(base_url)"
   ]
  },
  {
   "cell_type": "code",
   "execution_count": 29,
   "metadata": {},
   "outputs": [],
   "source": [
    "# 定义新的函数，在网页源码中获取下一级别网页的url链接和保险公司名字\n",
    "def get_info(htmls):\n",
    "    # 对得到的html进行解析\n",
    "    Obj = etree.HTML(htmls)\n",
    "    # 采用xapth方法提取元素，返回一个列表\n",
    "    next_urls = Obj.xpath('//td[@class=\"orglist_td\"]/a/@href')\n",
    "    Names = Obj.xpath('//td[@class=\"orglist_td\"]/a/text()')\n",
    "    # 得到的url链接是一个相对url，补全得到完整的url\n",
    "    Entire_urls = []\n",
    "    for each in next_urls:\n",
    "        Entire_urls.append('http://bxjg.circ.gov.cn'+each )\n",
    "    # 返回完整的url和对应的保险公司名字\n",
    "    return Entire_urls,Names"
   ]
  },
  {
   "cell_type": "code",
   "execution_count": 30,
   "metadata": {},
   "outputs": [],
   "source": [
    "# 调用上述函数获取链接和名字\n",
    "Next_urls,Next_Names = get_info(html)"
   ]
  },
  {
   "cell_type": "code",
   "execution_count": 33,
   "metadata": {},
   "outputs": [],
   "source": [
    "# 对新网页的内容进行提取，得到各保险产品名称，备案时间和种类\n",
    "def get_Info(htmls):\n",
    "    # 先解析\n",
    "    inner = etree.HTML(htmls)\n",
    "    # 后提取元素内容，返回值均为列表\n",
    "    Product_names = inner.xpath('//table[@class=\"tableRecordProduct\"]/tr/td[1]/text()')\n",
    "    Dates = inner.xpath('//table[@class=\"tableRecordProduct\"]/tr/td[2]/text()')\n",
    "    Kinds = inner.xpath('//table[@class=\"tableRecordProduct\"]/tr/td[3]/text()')\n",
    "    # 将获取到的所有信息汇集成一个总列表，列表每一个元素包含每一个产品名称和备案时间，种类\n",
    "    final_list = []\n",
    "    for j,k,l in zip(Product_names,Dates,Kinds):\n",
    "        final_list.append(([j,k,l])\n",
    "    # 返回总的列表\n",
    "    return final_list"
   ]
  },
  {
   "cell_type": "code",
   "execution_count": 34,
   "metadata": {},
   "outputs": [],
   "source": [
    "# 写入csv文件\n",
    "import csv\n",
    "def write_file(filename,datas):\n",
    "    # 打开文件\n",
    "    with open(filename,'a+',encoding='gbk',errors='ignore') as fp:\n",
    "        # 写入文件\n",
    "        writer = csv.writer(fp)\n",
    "        writer.writerows(datas)"
   ]
  },
  {
   "cell_type": "code",
   "execution_count": 36,
   "metadata": {},
   "outputs": [],
   "source": [
    "# 对已有的链接列表和名字列表进行迭代，获取信息\n",
    "for each_url,each_name in zip(Next_urls,Next_Names):\n",
    "#     对次级的url获取源码\n",
    "    inter_html = get_html(each_url)\n",
    "    # 在次级url的源码中获取信息，并得到列表\n",
    "    results  = get_Info(inter_html)\n",
    "    # 根据保险公司的名字来创建文件名\n",
    "    file = 'C:/Users/dell/desktop/Data/%s.csv' % each_name\n",
    "    #　调用函数，将所得的列表写入文件中\n",
    "    write_file(file,results)"
   ]
  },
  {
   "cell_type": "code",
   "execution_count": null,
   "metadata": {},
   "outputs": [],
   "source": []
  }
 ],
 "metadata": {
  "kernelspec": {
   "display_name": "Python 3",
   "language": "python",
   "name": "python3"
  },
  "language_info": {
   "codemirror_mode": {
    "name": "ipython",
    "version": 3
   },
   "file_extension": ".py",
   "mimetype": "text/x-python",
   "name": "python",
   "nbconvert_exporter": "python",
   "pygments_lexer": "ipython3",
   "version": "3.6.2"
  }
 },
 "nbformat": 4,
 "nbformat_minor": 2
}
