{
 "cells": [
  {
   "cell_type": "code",
   "execution_count": 1,
   "metadata": {
    "ExecuteTime": {
     "end_time": "2019-07-08T02:48:46.986863Z",
     "start_time": "2019-07-08T02:48:45.884258Z"
    }
   },
   "outputs": [],
   "source": [
    "import requests\n",
    "import pandas as pd\n",
    "from lxml import etree\n",
    "import re\n",
    "from urllib import parse\n",
    "import gevent\n",
    "from gevent import monkey"
   ]
  },
  {
   "cell_type": "code",
   "execution_count": 2,
   "metadata": {
    "ExecuteTime": {
     "end_time": "2019-07-08T02:48:49.256062Z",
     "start_time": "2019-07-08T02:48:49.250118Z"
    }
   },
   "outputs": [],
   "source": [
    "def gethtml(url):\n",
    "    headers = {\n",
    "        'Cookie': 'has_js=1; _ga=GA1.2.1719013560.1562545535; _gid=GA1.2.1545089207.1562545535; device=3; device_type=0',\n",
    "        'authority': 'www.clarkconstruction.com',\n",
    "        'User-Agent': 'Mozilla/5.0 (Windows NT 10.0; Win64; x64) AppleWebKit/537.36 (KHTML, like Gecko) Chrome/75.0.3770.80 Safari/537.36'\n",
    "    }\n",
    "    response = requests.get(url, headers=headers)\n",
    "    response.encoding = response.apparent_encoding\n",
    "    return response"
   ]
  },
  {
   "cell_type": "code",
   "execution_count": 3,
   "metadata": {
    "ExecuteTime": {
     "end_time": "2019-07-08T02:48:53.098553Z",
     "start_time": "2019-07-08T02:48:53.087640Z"
    }
   },
   "outputs": [],
   "source": [
    "def get_infos(html):\n",
    "    inner_obj = etree.HTML(html)\n",
    "\n",
    "    label_reg = '//div[@class=\"field-label\"]'\n",
    "    labels = inner_obj.xpath(label_reg)\n",
    "    if len(labels) == 0:\n",
    "        attributes = None\n",
    "    else:\n",
    "        combine = ''\n",
    "        for each in labels:\n",
    "            key = each.xpath('./text()')[0].strip()\n",
    "            values = ' '.join([single.strip() for single in each.xpath(\n",
    "                'string(./following-sibling::div[1])').split('\\n')])\n",
    "            values = values.split('Additional')[0]\n",
    "            combine += key + values + '\\n'\n",
    "        attributes = combine.strip('\\n')\n",
    "\n",
    "    content_reg = '//div[contains(@class,\"field-type-text-long\")]'\n",
    "    contents = inner_obj.xpath(content_reg)\n",
    "    if len(contents) == 0:\n",
    "        contents = None\n",
    "    else:\n",
    "        content = '\\n'.join([single.xpath('string(.)').strip()\n",
    "                             for single in contents])\n",
    "\n",
    "    return attributes, content"
   ]
  },
  {
   "cell_type": "code",
   "execution_count": 4,
   "metadata": {
    "ExecuteTime": {
     "end_time": "2019-07-08T02:49:08.189665Z",
     "start_time": "2019-07-08T02:49:08.179744Z"
    }
   },
   "outputs": [],
   "source": [
    "def get_links(item, lists):\n",
    "    baseUrl = 'https://www.clarkconstruction.com/our-work/sector/'\n",
    "    final_url = baseUrl + item\n",
    "\n",
    "    html = gethtml(final_url).text\n",
    "    obj = etree.HTML(html)\n",
    "\n",
    "    link_reg = '//span[@class=\"field-content\"]/a/@href'\n",
    "    title_reg = '//span[@class=\"field-content\"]/a/text()'\n",
    "    links = obj.xpath(link_reg)[45:]\n",
    "    titles = obj.xpath(title_reg)[38:]\n",
    "\n",
    "    for link, title in zip(links, titles):\n",
    "        inner_dict = {}\n",
    "        link = 'https://www.clarkconstruction.com' + link\n",
    "        inner_html = gethtml(link).text\n",
    "        attribute, content = get_infos(inner_html)\n",
    "        inner_dict['type'] = item\n",
    "        inner_dict['link'] = link\n",
    "        inner_dict['attribute'] = attribute\n",
    "        inner_dict['content'] = content\n",
    "        inner_dict['title'] = title\n",
    "\n",
    "        lists.append(inner_dict)"
   ]
  },
  {
   "cell_type": "code",
   "execution_count": null,
   "metadata": {
    "ExecuteTime": {
     "start_time": "2019-07-08T02:49:20.805Z"
    }
   },
   "outputs": [
    {
     "name": "stderr",
     "output_type": "stream",
     "text": [
      "d:\\language\\python\\lib\\site-packages\\ipykernel_launcher.py:1: MonkeyPatchWarning: Monkey-patching ssl after ssl has already been imported may lead to errors, including RecursionError on Python 3.6. It may also silently lead to incorrect behaviour on Python 3.7. Please monkey-patch earlier. See https://github.com/gevent/gevent/issues/1016. Modules that had direct imports (NOT patched): ['urllib3.util (d:\\\\language\\\\python\\\\lib\\\\site-packages\\\\urllib3\\\\util\\\\__init__.py)', 'urllib3.contrib.pyopenssl (d:\\\\language\\\\python\\\\lib\\\\site-packages\\\\urllib3\\\\contrib\\\\pyopenssl.py)']. \n",
      "  \"\"\"Entry point for launching an IPython kernel.\n"
     ]
    }
   ],
   "source": [
    "monkey.patch_all()\n",
    "\n",
    "item_lists = ['government', 'education',\n",
    "              'healthcare', 'mixed-use-retail', 'residential']\n",
    "finals = []\n",
    "gens = []\n",
    "for item in item_lists:\n",
    "    gens.append(gevent.spawn(get_links, item, finals))\n",
    "\n",
    "gevent.joinall(gens)"
   ]
  },
  {
   "cell_type": "code",
   "execution_count": 6,
   "metadata": {
    "ExecuteTime": {
     "end_time": "2019-07-08T01:53:04.050057Z",
     "start_time": "2019-07-08T01:53:04.009384Z"
    }
   },
   "outputs": [
    {
     "name": "stdout",
     "output_type": "stream",
     "text": [
      "The history saving thread hit an unexpected error (This operation would block forever\n",
      "\tHub: <Hub '' at 0x1d37875b8d0 default pending=0 ref=0 thread_ident=0x5ccc8>\n",
      "\tHandles:\n",
      "[HandleState(handle=<cdata 'struct uv_handle_s *' 0x000001D378903C28>, type=b'check', watcher=<loop at 0x1d36f4dc3c8 default pending=0 ref=0>, ref=0, active=1, closing=0),\n",
      " HandleState(handle=<cdata 'struct uv_handle_s *' 0x000001D3767BD2D8>, type=b'timer', watcher=<loop at 0x1d36f4dc3c8 default pending=0 ref=0>, ref=0, active=1, closing=0),\n",
      " HandleState(handle=<cdata 'struct uv_handle_s *' 0x000001D3789038B8>, type=b'prepare', watcher=<loop at 0x1d36f4dc3c8 default pending=0 ref=0>, ref=0, active=1, closing=0),\n",
      " HandleState(handle=<cdata 'struct uv_handle_s *' 0x000001D3789024C8>, type=b'check', watcher=<loop at 0x1d36f4dc3c8 default pending=0 ref=0>, ref=1, active=0, closing=0)]).History will not be written to the database.\n"
     ]
    }
   ],
   "source": [
    "df = pd.DataFrame(finals)\n",
    "df.to_csv('./clark.csv', index=False)"
   ]
  }
 ],
 "metadata": {
  "kernelspec": {
   "display_name": "Python 3",
   "language": "python",
   "name": "python3"
  },
  "language_info": {
   "codemirror_mode": {
    "name": "ipython",
    "version": 3
   },
   "file_extension": ".py",
   "mimetype": "text/x-python",
   "name": "python",
   "nbconvert_exporter": "python",
   "pygments_lexer": "ipython3",
   "version": "3.6.2"
  },
  "toc": {
   "base_numbering": 1,
   "nav_menu": {},
   "number_sections": true,
   "sideBar": true,
   "skip_h1_title": false,
   "title_cell": "Table of Contents",
   "title_sidebar": "Contents",
   "toc_cell": false,
   "toc_position": {},
   "toc_section_display": true,
   "toc_window_display": false
  },
  "varInspector": {
   "cols": {
    "lenName": 16,
    "lenType": 16,
    "lenVar": 40
   },
   "kernels_config": {
    "python": {
     "delete_cmd_postfix": "",
     "delete_cmd_prefix": "del ",
     "library": "var_list.py",
     "varRefreshCmd": "print(var_dic_list())"
    },
    "r": {
     "delete_cmd_postfix": ") ",
     "delete_cmd_prefix": "rm(",
     "library": "var_list.r",
     "varRefreshCmd": "cat(var_dic_list()) "
    }
   },
   "types_to_exclude": [
    "module",
    "function",
    "builtin_function_or_method",
    "instance",
    "_Feature"
   ],
   "window_display": false
  }
 },
 "nbformat": 4,
 "nbformat_minor": 2
}
