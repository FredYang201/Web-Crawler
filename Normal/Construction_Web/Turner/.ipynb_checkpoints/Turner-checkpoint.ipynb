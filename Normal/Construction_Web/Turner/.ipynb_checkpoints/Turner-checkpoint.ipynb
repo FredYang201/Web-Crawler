{
 "cells": [
  {
   "cell_type": "code",
   "execution_count": 1,
   "metadata": {
    "ExecuteTime": {
     "end_time": "2019-07-08T02:39:25.517923Z",
     "start_time": "2019-07-08T02:39:24.870180Z"
    }
   },
   "outputs": [],
   "source": [
    "import requests\n",
    "import pandas as pd\n",
    "from lxml import etree\n",
    "import re\n",
    "import gevent\n",
    "from gevent import monkey"
   ]
  },
  {
   "cell_type": "code",
   "execution_count": 2,
   "metadata": {
    "ExecuteTime": {
     "end_time": "2019-07-08T02:39:26.777036Z",
     "start_time": "2019-07-08T02:39:26.772075Z"
    }
   },
   "outputs": [],
   "source": [
    "def getHtml(url):\n",
    "    headers = {\n",
    "        'Cookie': 'co=764; __utma=164819386.1948347344.1561496847.1561496847.1561496847.1; __utmc=164819386; __utmz=164819386.1561496847.1.1.utmcsr=google|utmccn=(organic)|utmcmd=organic|utmctr=(not%20provided); __hstc=80211592.b3bc35c0093cdd56c74cb9e36cdf8673.1561496847282.1561496847282.1561496847282.1; hubspotutk=b3bc35c0093cdd56c74cb9e36cdf8673; __hssrc=1; __utmt=1; projectsPerPage=21; __atuvc=47%7C26; __atuvs=5d128d20b8ca4b8e02e; __utmb=164819386.48.10.1561496847; __hssc=80211592.48.1561496847282',\n",
    "        'Host': 'www.turnerconstruction.com',\n",
    "        'User-Agent': 'Mozilla/5.0 (Windows NT 10.0; Win64; x64) AppleWebKit/537.36 (KHTML, like Gecko) Chrome/75.0.3770.80 Safari/537.36'\n",
    "    }\n",
    "    response = requests.get(url, headers=headers)\n",
    "    response.encoding = response.apparent_encoding\n",
    "    return response"
   ]
  },
  {
   "cell_type": "code",
   "execution_count": 3,
   "metadata": {
    "ExecuteTime": {
     "end_time": "2019-07-08T02:39:29.281254Z",
     "start_time": "2019-07-08T02:39:29.276263Z"
    }
   },
   "outputs": [],
   "source": [
    "def getMaxPage(html, url):\n",
    "    page_str = 'pagination-list'\n",
    "    if html.find(page_str) == -1:\n",
    "        max_page = 1\n",
    "    else:\n",
    "        obj = etree.HTML(html)\n",
    "        reg_page = '//div[@class=\"pagination-list\"]/ul/li[last()- 1]/a/text()'\n",
    "        max_page = int(obj.xpath(reg_page)[0])\n",
    "\n",
    "    list_urls = [url + '/%s' % str(j) for j in range(1, max_page + 1)]\n",
    "    return list_urls"
   ]
  },
  {
   "cell_type": "code",
   "execution_count": 4,
   "metadata": {
    "ExecuteTime": {
     "end_time": "2019-07-08T02:39:31.276623Z",
     "start_time": "2019-07-08T02:39:31.267703Z"
    }
   },
   "outputs": [],
   "source": [
    "def get_links(html, item):\n",
    "    link_reg = '//ul[@class=\"featured-projects-list\"]/li/p[1]/a/@href'\n",
    "    name_reg = '//ul[@class=\"featured-projects-list\"]/li/p[2]/a/text()'\n",
    "    location_reg = '//ul[@class=\"featured-projects-list\"]/li/p[3]/text()'\n",
    "\n",
    "    obj = etree.HTML(html)\n",
    "    links = obj.xpath(link_reg)\n",
    "    names = obj.xpath(name_reg)\n",
    "    locations = obj.xpath(location_reg)\n",
    "\n",
    "    result = []\n",
    "    for link, name, location in zip(links, names, locations):\n",
    "        inner_link = 'http://www.turnerconstruction.com' + link\n",
    "        info_html = getHtml(inner_link).text\n",
    "        Infos = get_infos(info_html)\n",
    "        info_dict = {}\n",
    "        info_dict['Name'] = name\n",
    "        info_dict['Location'] = location\n",
    "        info_dict['Link'] = 'http://www.turnerconstruction.com' + link\n",
    "        info_dict['Info'] = Infos[0]\n",
    "        info_dict['Description'] = Infos[1]\n",
    "        info_dict['Type'] = item\n",
    "        result.append(info_dict)\n",
    "\n",
    "    return result"
   ]
  },
  {
   "cell_type": "code",
   "execution_count": 5,
   "metadata": {
    "ExecuteTime": {
     "end_time": "2019-07-08T02:39:34.585259Z",
     "start_time": "2019-07-08T02:39:34.572858Z"
    }
   },
   "outputs": [],
   "source": [
    "def get_infos(html):\n",
    "    inner_obj = etree.HTML(html)\n",
    "\n",
    "    feature_reg = '//div[@class=\"project-description-div\"]/ul/li'\n",
    "    features = inner_obj.xpath(feature_reg)\n",
    "\n",
    "    clients = []\n",
    "    for each in features:\n",
    "        key = each.xpath('./span/text()')\n",
    "        key = key[0].strip()\n",
    "        value = each.xpath('./strong/text()')\n",
    "        if len(value) == 0:\n",
    "            value = each.xpath('./a/text()')\n",
    "            if len(value) == 0:\n",
    "                value = ' '\n",
    "            else:\n",
    "                value = ', '.join([single.strip() for single in value])\n",
    "        else:\n",
    "            value = value[0].strip()\n",
    "        clients.append(key + ': ' + value)\n",
    "    clients = '\\n'.join(clients)\n",
    "\n",
    "    paragraph_reg = '//div[@id=\"content-side\"]/p/text()'\n",
    "    paragraphs = inner_obj.xpath(paragraph_reg)\n",
    "    if len(paragraphs) == 0:\n",
    "        paragraphs = None\n",
    "    else:\n",
    "        paragraphs = '\\n'.join([single.strip() for single in paragraphs])\n",
    "\n",
    "    return [clients, paragraphs]"
   ]
  },
  {
   "cell_type": "code",
   "execution_count": 6,
   "metadata": {
    "ExecuteTime": {
     "end_time": "2019-07-08T02:39:36.195392Z",
     "start_time": "2019-07-08T02:39:36.188943Z"
    }
   },
   "outputs": [],
   "source": [
    "def create_url(item, lists):\n",
    "    base_url = 'http://www.turnerconstruction.com/experience/projects/'\n",
    "    item_url = base_url + item + '/north-america'\n",
    "    res = getHtml(item_url).text\n",
    "    pages = getMaxPage(res, item_url)\n",
    "    for page in pages:\n",
    "        page_html = getHtml(page).text\n",
    "        lists.extend(get_links(page_html, item))"
   ]
  },
  {
   "cell_type": "code",
   "execution_count": 7,
   "metadata": {
    "ExecuteTime": {
     "end_time": "2019-07-08T02:39:39.076972Z",
     "start_time": "2019-07-08T02:39:38.157121Z"
    }
   },
   "outputs": [
    {
     "name": "stderr",
     "output_type": "stream",
     "text": [
      "d:\\language\\python\\lib\\site-packages\\ipykernel_launcher.py:1: MonkeyPatchWarning: Monkey-patching ssl after ssl has already been imported may lead to errors, including RecursionError on Python 3.6. It may also silently lead to incorrect behaviour on Python 3.7. Please monkey-patch earlier. See https://github.com/gevent/gevent/issues/1016. Modules that had direct imports (NOT patched): ['urllib3.contrib.pyopenssl (d:\\\\language\\\\python\\\\lib\\\\site-packages\\\\urllib3\\\\contrib\\\\pyopenssl.py)', 'urllib3.util (d:\\\\language\\\\python\\\\lib\\\\site-packages\\\\urllib3\\\\util\\\\__init__.py)']. \n",
      "  \"\"\"Entry point for launching an IPython kernel.\n",
      "Traceback (most recent call last):\n",
      "  File \"d:\\language\\python\\lib\\site-packages\\gevent\\_ffi\\loop.py\", line 234, in python_check_callback\n",
      "    def python_check_callback(self, watcher_ptr): # pylint:disable=unused-argument\n",
      "KeyboardInterrupt\n",
      "2019-07-08T02:39:38Z\n"
     ]
    },
    {
     "ename": "KeyboardInterrupt",
     "evalue": "",
     "output_type": "error",
     "traceback": [
      "\u001b[1;31m---------------------------------------------------------------------------\u001b[0m",
      "\u001b[1;31mKeyboardInterrupt\u001b[0m                         Traceback (most recent call last)",
      "\u001b[1;32m<ipython-input-7-4ea604e272f9>\u001b[0m in \u001b[0;36m<module>\u001b[1;34m\u001b[0m\n\u001b[0;32m      7\u001b[0m     \u001b[0mgens\u001b[0m\u001b[1;33m.\u001b[0m\u001b[0mappend\u001b[0m\u001b[1;33m(\u001b[0m\u001b[0mgevent\u001b[0m\u001b[1;33m.\u001b[0m\u001b[0mspawn\u001b[0m\u001b[1;33m(\u001b[0m\u001b[0mcreate_url\u001b[0m\u001b[1;33m,\u001b[0m \u001b[0msingle_item\u001b[0m\u001b[1;33m,\u001b[0m \u001b[0mfinal_list\u001b[0m\u001b[1;33m)\u001b[0m\u001b[1;33m)\u001b[0m\u001b[1;33m\u001b[0m\u001b[0m\n\u001b[0;32m      8\u001b[0m \u001b[1;33m\u001b[0m\u001b[0m\n\u001b[1;32m----> 9\u001b[1;33m \u001b[0mgevent\u001b[0m\u001b[1;33m.\u001b[0m\u001b[0mjoinall\u001b[0m\u001b[1;33m(\u001b[0m\u001b[0mgens\u001b[0m\u001b[1;33m)\u001b[0m\u001b[1;33m\u001b[0m\u001b[0m\n\u001b[0m",
      "\u001b[1;32md:\\language\\python\\lib\\site-packages\\gevent\\_greenlet.cp36-win_amd64.pyd\u001b[0m in \u001b[0;36mgevent._greenlet.joinall\u001b[1;34m()\u001b[0m\n",
      "\u001b[1;32md:\\language\\python\\lib\\site-packages\\gevent\\_greenlet.cp36-win_amd64.pyd\u001b[0m in \u001b[0;36mgevent._greenlet.joinall\u001b[1;34m()\u001b[0m\n",
      "\u001b[1;32md:\\language\\python\\lib\\site-packages\\gevent\\__hub_primitives.cp36-win_amd64.pyd\u001b[0m in \u001b[0;36mgevent.__hub_primitives.wait_on_objects\u001b[1;34m()\u001b[0m\n",
      "\u001b[1;32md:\\language\\python\\lib\\site-packages\\gevent\\__hub_primitives.cp36-win_amd64.pyd\u001b[0m in \u001b[0;36mgevent.__hub_primitives.wait_on_objects\u001b[1;34m()\u001b[0m\n",
      "\u001b[1;32md:\\language\\python\\lib\\site-packages\\gevent\\__hub_primitives.cp36-win_amd64.pyd\u001b[0m in \u001b[0;36mgevent.__hub_primitives._WaitIterator.__next__\u001b[1;34m()\u001b[0m\n",
      "\u001b[1;32md:\\language\\python\\lib\\site-packages\\gevent\\__hub_primitives.cp36-win_amd64.pyd\u001b[0m in \u001b[0;36mgevent.__hub_primitives._WaitIterator.__next__\u001b[1;34m()\u001b[0m\n",
      "\u001b[1;32md:\\language\\python\\lib\\site-packages\\gevent\\__waiter.cp36-win_amd64.pyd\u001b[0m in \u001b[0;36mgevent.__waiter.MultipleWaiter.get\u001b[1;34m()\u001b[0m\n",
      "\u001b[1;32md:\\language\\python\\lib\\site-packages\\gevent\\__waiter.cp36-win_amd64.pyd\u001b[0m in \u001b[0;36mgevent.__waiter.Waiter.get\u001b[1;34m()\u001b[0m\n",
      "\u001b[1;32md:\\language\\python\\lib\\site-packages\\gevent\\__greenlet_primitives.cp36-win_amd64.pyd\u001b[0m in \u001b[0;36mgevent.__greenlet_primitives.SwitchOutGreenletWithLoop.switch\u001b[1;34m()\u001b[0m\n",
      "\u001b[1;32md:\\language\\python\\lib\\site-packages\\gevent\\__greenlet_primitives.cp36-win_amd64.pyd\u001b[0m in \u001b[0;36mgevent.__greenlet_primitives.SwitchOutGreenletWithLoop.switch\u001b[1;34m()\u001b[0m\n",
      "\u001b[1;32md:\\language\\python\\lib\\site-packages\\gevent\\__greenlet_primitives.cp36-win_amd64.pyd\u001b[0m in \u001b[0;36mgevent.__greenlet_primitives.SwitchOutGreenletWithLoop.switch\u001b[1;34m()\u001b[0m\n",
      "\u001b[1;32msrc\\gevent\\__greenlet_primitives.pxd\u001b[0m in \u001b[0;36mgevent.__greenlet_primitives._greenlet_switch\u001b[1;34m()\u001b[0m\n",
      "\u001b[1;31mKeyboardInterrupt\u001b[0m: "
     ]
    },
    {
     "name": "stderr",
     "output_type": "stream",
     "text": [
      "d:\\language\\python\\lib\\site-packages\\gevent\\hub.py:154: UserWarning: libuv only supports millisecond timer resolution; all times less will be set to 1 ms\n",
      "  with loop.timer(seconds, ref=ref) as t:\n"
     ]
    }
   ],
   "source": [
    "monkey.patch_all()\n",
    "item_lists = ['commercial', 'education', 'government',\n",
    "              'healthcare', 'research-development', 'residential-hotel']\n",
    "gens = []\n",
    "final_list = []\n",
    "for single_item in item_lists:\n",
    "    gens.append(gevent.spawn(create_url, single_item, final_list))\n",
    "\n",
    "gevent.joinall(gens)"
   ]
  },
  {
   "cell_type": "code",
   "execution_count": 8,
   "metadata": {
    "ExecuteTime": {
     "end_time": "2019-07-08T02:39:45.269172Z",
     "start_time": "2019-07-08T02:39:45.252804Z"
    }
   },
   "outputs": [],
   "source": [
    "df = pd.DataFrame(final_list)\n",
    "df.to_csv('./turner.csv', index=False)"
   ]
  }
 ],
 "metadata": {
  "kernelspec": {
   "display_name": "Python 3",
   "language": "python",
   "name": "python3"
  },
  "language_info": {
   "codemirror_mode": {
    "name": "ipython",
    "version": 3
   },
   "file_extension": ".py",
   "mimetype": "text/x-python",
   "name": "python",
   "nbconvert_exporter": "python",
   "pygments_lexer": "ipython3",
   "version": "3.6.2"
  },
  "toc": {
   "base_numbering": 1,
   "nav_menu": {},
   "number_sections": true,
   "sideBar": true,
   "skip_h1_title": false,
   "title_cell": "Table of Contents",
   "title_sidebar": "Contents",
   "toc_cell": false,
   "toc_position": {},
   "toc_section_display": true,
   "toc_window_display": false
  },
  "varInspector": {
   "cols": {
    "lenName": 16,
    "lenType": 16,
    "lenVar": 40
   },
   "kernels_config": {
    "python": {
     "delete_cmd_postfix": "",
     "delete_cmd_prefix": "del ",
     "library": "var_list.py",
     "varRefreshCmd": "print(var_dic_list())"
    },
    "r": {
     "delete_cmd_postfix": ") ",
     "delete_cmd_prefix": "rm(",
     "library": "var_list.r",
     "varRefreshCmd": "cat(var_dic_list()) "
    }
   },
   "types_to_exclude": [
    "module",
    "function",
    "builtin_function_or_method",
    "instance",
    "_Feature"
   ],
   "window_display": false
  }
 },
 "nbformat": 4,
 "nbformat_minor": 2
}
