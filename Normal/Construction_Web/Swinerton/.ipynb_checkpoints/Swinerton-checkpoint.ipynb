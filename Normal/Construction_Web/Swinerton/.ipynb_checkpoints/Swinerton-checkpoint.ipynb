{
 "cells": [
  {
   "cell_type": "code",
   "execution_count": 1,
   "metadata": {
    "ExecuteTime": {
     "end_time": "2019-07-08T02:51:46.125203Z",
     "start_time": "2019-07-08T02:51:44.727972Z"
    }
   },
   "outputs": [],
   "source": [
    "import requests\n",
    "import pandas as pd\n",
    "from lxml import etree\n",
    "import re\n",
    "import gevent\n",
    "from gevent import monkey\n",
    "from urllib import parse"
   ]
  },
  {
   "cell_type": "code",
   "execution_count": 2,
   "metadata": {
    "ExecuteTime": {
     "end_time": "2019-07-08T02:51:47.988673Z",
     "start_time": "2019-07-08T02:51:47.982225Z"
    }
   },
   "outputs": [],
   "source": [
    "def gethtml(url):\n",
    "    headers = {\n",
    "        'Cookie': '_ga=GA1.2.1062770350.1562542561; _gid=GA1.2.420871618.1562542561; aviaCookieConsent=a6fe7a635a3ae90b600d28d9abace894',\n",
    "        'authority': 'swinerton.com',\n",
    "        'User-Agent': 'Mozilla/5.0 (Windows NT 10.0; Win64; x64) AppleWebKit/537.36 (KHTML, like Gecko) Chrome/75.0.3770.80 Safari/537.36'\n",
    "    }\n",
    "    response = requests.get(url, headers=headers)\n",
    "    response.encoding = response.apparent_encoding\n",
    "    return response"
   ]
  },
  {
   "cell_type": "code",
   "execution_count": 3,
   "metadata": {
    "ExecuteTime": {
     "end_time": "2019-07-08T02:51:50.757839Z",
     "start_time": "2019-07-08T02:51:50.752879Z"
    }
   },
   "outputs": [],
   "source": [
    "def parse_page(item):\n",
    "    baseUrl = 'https://swinerton.com/projects/?'\n",
    "    data = {\n",
    "        '_sft_market': item\n",
    "    }\n",
    "    x = parse.urlencode(data)\n",
    "    final_url = baseUrl + x\n",
    "    inner_html = gethtml(final_url).text\n",
    "    return inner_html"
   ]
  },
  {
   "cell_type": "code",
   "execution_count": 4,
   "metadata": {
    "ExecuteTime": {
     "end_time": "2019-07-08T02:51:52.934780Z",
     "start_time": "2019-07-08T02:51:52.924861Z"
    }
   },
   "outputs": [],
   "source": [
    "def get_infos(html):\n",
    "    inner_obj = etree.HTML(html)\n",
    "\n",
    "    title_reg = '//div[@class=\"avia_textblock  \"]/h3/text()'\n",
    "    attribute_reg = '//div[@class=\"avia_textblock  \"]/p'\n",
    "\n",
    "    title = inner_obj.xpath(title_reg)\n",
    "    if len(title) == 0:\n",
    "        title = None\n",
    "    else:\n",
    "        title = title[0].strip()\n",
    "\n",
    "    attributes = inner_obj.xpath(attribute_reg)\n",
    "    if len(attributes) == 0:\n",
    "        attribute = None\n",
    "\n",
    "    else:\n",
    "        attribute = []\n",
    "        for single in attributes:\n",
    "            one = single.xpath('string(.)')\n",
    "            single = ': '.join([each.strip() for each in one.split('\\n')])\n",
    "            attribute.append(single)\n",
    "        attribute = '\\n'.join(attribute)\n",
    "\n",
    "    return title, attribute"
   ]
  },
  {
   "cell_type": "code",
   "execution_count": 5,
   "metadata": {
    "ExecuteTime": {
     "end_time": "2019-07-08T02:51:54.958459Z",
     "start_time": "2019-07-08T02:51:54.949036Z"
    }
   },
   "outputs": [],
   "source": [
    "def get_links(item, lists):\n",
    "    html = parse_page(item)\n",
    "    obj = etree.HTML(html)\n",
    "\n",
    "    link_reg = '//a[contains(@class, \"av-masonry-entry \")]/@href'\n",
    "    links = obj.xpath(link_reg)\n",
    "\n",
    "    for link in links:\n",
    "        print(link)\n",
    "        inner_dict = {}\n",
    "        inner_html = gethtml(link).text\n",
    "        title, attributes = get_infos(inner_html)\n",
    "        inner_dict['link'] = link\n",
    "        inner_dict['type'] = item\n",
    "        inner_dict['title'] = title\n",
    "        inner_dict['attributes'] = attributes\n",
    "        lists.append(inner_dict)"
   ]
  },
  {
   "cell_type": "code",
   "execution_count": null,
   "metadata": {
    "ExecuteTime": {
     "start_time": "2019-07-08T02:51:57.787Z"
    }
   },
   "outputs": [
    {
     "name": "stderr",
     "output_type": "stream",
     "text": [
      "d:\\language\\python\\lib\\site-packages\\ipykernel_launcher.py:1: MonkeyPatchWarning: Monkey-patching ssl after ssl has already been imported may lead to errors, including RecursionError on Python 3.6. It may also silently lead to incorrect behaviour on Python 3.7. Please monkey-patch earlier. See https://github.com/gevent/gevent/issues/1016. Modules that had direct imports (NOT patched): ['urllib3.util (d:\\\\language\\\\python\\\\lib\\\\site-packages\\\\urllib3\\\\util\\\\__init__.py)', 'urllib3.contrib.pyopenssl (d:\\\\language\\\\python\\\\lib\\\\site-packages\\\\urllib3\\\\contrib\\\\pyopenssl.py)']. \n",
      "  \"\"\"Entry point for launching an IPython kernel.\n"
     ]
    },
    {
     "name": "stdout",
     "output_type": "stream",
     "text": [
      "https://swinerton.com/project/palm-desert-critical-support-services-project/\n",
      "https://swinerton.com/project/four-season-hotel-private-residences/\n",
      "https://swinerton.com/project/newport-mesa-unified-school-district-costa-mesa-middle-school-enclave/\n",
      "https://swinerton.com/project/monterey-peninsula-community-college-student-services-center/\n",
      "https://swinerton.com/project/cherry-creek-medical-office-building/\n",
      "https://swinerton.com/project/san-francisco-state-university-at-westfield-sf-centre/\n",
      "https://swinerton.com/project/ucsc-coastal-biology-building/\n",
      "https://swinerton.com/project/palo-alto-parking-garage/\n",
      "https://swinerton.com/project/broadmoor-fitness-center/\n",
      "https://swinerton.com/project/christopher-high-school/\n",
      "https://swinerton.com/project/newport-mesa-unified-school-district-costa-mesa-middle-school-enclave/\n",
      "https://swinerton.com/project/san-jose-city-college-math-and-sciences-building/\n",
      "https://swinerton.com/project/adventist-health/\n",
      "https://swinerton.com/project/pepperdine-university-payson-library-renovation/\n",
      "https://swinerton.com/project/evergreen-valley-college-library-technology-center/\n",
      "https://swinerton.com/project/christopher-high-school/\n",
      "https://swinerton.com/project/salinas-police-service-headquarters/\n",
      "https://swinerton.com/project/basis-fremont-primary-school/\n",
      "https://swinerton.com/project/post-centennial-park/\n",
      "https://swinerton.com/project/soka-university-of-america/\n",
      "https://swinerton.com/project/kaiser-redwood-city-specialty-medical-office-building-and-parking-garage/\n",
      "https://swinerton.com/project/evergreen-valley-college-visual-performing-arts-center/\n",
      "https://swinerton.com/project/ucsd-charles-david-keeling-apartments/\n",
      "https://swinerton.com/project/basis-fremont-primary-school/\n",
      "https://swinerton.com/project/west-morehead-lofts/\n",
      "https://swinerton.com/project/salesforce-com-childcare-50-fremont/\n",
      "https://swinerton.com/project/el-gabilan-library/\n",
      "https://swinerton.com/project/kaiser-roseville-behavioral-health/\n",
      "https://swinerton.com/project/salesforce-com-childcare-50-fremont/\n",
      "https://swinerton.com/project/east-los-angeles-college-student-services-center-administration-building-main-entry-plaza/\n",
      "https://swinerton.com/project/hawaii-pacific-university-waterfront-lofts/\n",
      "https://swinerton.com/project/buchser-middle-school-multipurpose-classroom/\n",
      "https://swinerton.com/project/ucla-northwest-campus-student-housing-infill-sproul-complex-west-south-residence-halls-2/\n",
      "https://swinerton.com/project/los-banos-courthouse/\n",
      "https://swinerton.com/project/vacavalley-wellness-center/\n",
      "https://swinerton.com/project/buchser-middle-school-multipurpose-classroom/\n",
      "https://swinerton.com/project/lausd-jordan-high-school-redevelopment/\n",
      "https://swinerton.com/project/fire-station-35/\n",
      "https://swinerton.com/project/ucsd-housing-dining-administration-services-building/\n",
      "https://swinerton.com/project/san-bernardino-valley-college-gymnasium/\n",
      "https://swinerton.com/project/olmsted-chamblee/\n",
      "https://swinerton.com/project/kaiser-oakland-demo/\n",
      "https://swinerton.com/project/lausd-jordan-high-school-redevelopment/\n",
      "https://swinerton.com/project/ucsd-rady-school-of-management/\n",
      "https://swinerton.com/project/lila-burbank-campus-renovations/\n",
      "https://swinerton.com/project/palo-alto-parking-garage-2/\n",
      "https://swinerton.com/project/i-d-e-a-district-1/\n",
      "https://swinerton.com/project/golden-west-college-criminal-justice-training-center/\n",
      "https://swinerton.com/project/swedish-medical-center/\n",
      "https://swinerton.com/project/lila-burbank-campus-renovations/\n",
      "https://swinerton.com/project/aven-south-park/\n",
      "https://swinerton.com/project/ucsd-revelle-plaza-cafe-renovation/\n",
      "https://swinerton.com/project/nasa-jpl-flight-projects-center-simulator/\n",
      "https://swinerton.com/project/gusd-org-projects-hoover-high-school/\n",
      "https://swinerton.com/project/palomar-community-college-health-sciences-building/\n",
      "https://swinerton.com/project/university-of-washington-medical-center-mri-patient-holding-space/\n",
      "https://swinerton.com/project/basis-fremont-primary-school-2/\n",
      "https://swinerton.com/project/gusd-org-projects-hoover-high-school/\n",
      "https://swinerton.com/project/1066-market-street/\n",
      "https://swinerton.com/project/presidio-parks/\n",
      "https://swinerton.com/project/ucsd-telemedicine-learning-center/\n",
      "https://swinerton.com/project/irvine-valley-college-a400-building/\n",
      "https://swinerton.com/project/poudre-valley-health-system-office-building-and-parking/\n",
      "https://swinerton.com/project/va-puget-sound-parking-structure/\n",
      "https://swinerton.com/project/basis-fremont-primary-school-2/\n",
      "https://swinerton.com/project/sandra-cisneros-learning-academy/\n",
      "https://swinerton.com/project/ucsd-warren-apartments-phase-1-fire-life-safety-renovations/\n",
      "https://swinerton.com/project/390-first-street/\n",
      "https://swinerton.com/project/mesa-college-social-behavioral-sciences-building/\n",
      "https://swinerton.com/project/high-desert-health-system-2/\n",
      "https://swinerton.com/project/rincon-u-s-forest-service-fire-station-barracks/\n",
      "https://swinerton.com/project/sandra-cisneros-learning-academy/\n",
      "https://swinerton.com/project/875-california/\n",
      "https://swinerton.com/project/homestead-high-school-field-house/\n",
      "https://swinerton.com/project/miramar-college-fire-emt-building/\n",
      "https://swinerton.com/project/caltech-solar-project/\n",
      "https://swinerton.com/project/lodi-memorial-hospital/\n",
      "https://swinerton.com/project/homestead-high-school-field-house/\n",
      "https://swinerton.com/project/el-dorado-high-school-performing-arts-center/\n",
      "https://swinerton.com/project/usda-forest-acton-district-office/\n",
      "https://swinerton.com/project/3033-wilshire-apartments/\n",
      "https://swinerton.com/project/palomar-college-baseball-field/\n",
      "https://swinerton.com/project/university-of-southern-california-university-club/\n",
      "https://swinerton.com/project/kaiser-permanente-antioch/\n",
      "https://swinerton.com/project/east-quad-campus-high-school-phase-1/\n",
      "https://swinerton.com/project/el-dorado-high-school-performing-arts-center/\n",
      "https://swinerton.com/project/ariel-suites/\n",
      "https://swinerton.com/project/pjkk-federal-building-courthouse/\n",
      "https://swinerton.com/project/palomar-south-education-center/\n",
      "https://swinerton.com/project/bayhealth-outpatient-clinic/\n",
      "https://swinerton.com/project/csu-long-beach-peterson-hall-2-renovation/\n",
      "https://swinerton.com/project/10000-santa-monica/\n",
      "https://swinerton.com/project/nasa-sustainability-base/\n",
      "https://swinerton.com/project/bvsd-emerald-elementary/\n",
      "https://swinerton.com/project/east-quad-campus-high-school-phase-1/\n",
      "https://swinerton.com/project/caltech-thomas-laboratory-renovation/\n",
      "https://swinerton.com/project/uc-davis-surgery-emergency-services-pavilion/\n",
      "https://swinerton.com/project/dps-strive-prep-rise-high-school/\n",
      "https://swinerton.com/project/nabisco-lofts/\n",
      "https://swinerton.com/project/bvsd-emerald-elementary/\n",
      "https://swinerton.com/project/c-40-aircraft-maintenance-hangar/\n",
      "https://swinerton.com/project/university-of-hawaii-manoa-frear-hall/\n",
      "https://swinerton.com/project/harborview-ct-scan/\n",
      "https://swinerton.com/project/dps-kipp-n-e-high-school/\n",
      "https://swinerton.com/project/dps-strive-prep-rise-high-school/\n",
      "https://swinerton.com/project/sapphire-tower/\n",
      "https://swinerton.com/project/kaiser-permanente-garfield/\n",
      "https://swinerton.com/project/hawaii-pacific-university-waterfront-lofts/\n",
      "https://swinerton.com/project/bessie-carmichael-elementary-school/\n",
      "https://swinerton.com/project/shift-tower/\n",
      "https://swinerton.com/project/dps-kipp-n-e-high-school/\n",
      "https://swinerton.com/project/sharp-mesa-vista/\n",
      "https://swinerton.com/project/block-8l-university-of-oregon-executive-masters-of-business-administration/\n",
      "https://swinerton.com/project/agnews-campus/\n",
      "https://swinerton.com/project/bessie-carmichael-elementary-school/\n",
      "https://swinerton.com/project/the-alexan/\n"
     ]
    }
   ],
   "source": [
    "monkey.patch_all()\n",
    "item_lists = ['education', 'government', 'healthcare', 'higher-education',\n",
    "              'k-12-education', 'multifamily-residential', 'community-college']\n",
    "gens = []\n",
    "finals = []\n",
    "\n",
    "for item in item_lists:\n",
    "    gens.append(gevent.spawn(get_links, item, finals))\n",
    "\n",
    "gevent.joinall(gens)"
   ]
  },
  {
   "cell_type": "code",
   "execution_count": 7,
   "metadata": {
    "ExecuteTime": {
     "end_time": "2019-07-08T01:59:24.550663Z",
     "start_time": "2019-07-08T01:59:24.511974Z"
    }
   },
   "outputs": [
    {
     "name": "stdout",
     "output_type": "stream",
     "text": [
      "https://swinerton.com/project/ucsd-charles-david-keeling-apartments/\n",
      "The history saving thread hit an unexpected error (This operation would block forever\n",
      "\tHub: <Hub '' at 0x1e03c7fcf60 default pending=0 ref=0 thread_ident=0x6e0f0>\n",
      "\tHandles:\n",
      "[HandleState(handle=<cdata 'struct uv_handle_s *' 0x000001E03CA8D328>, type=b'check', watcher=<loop at 0x1e0335ac358 default pending=0 ref=0>, ref=0, active=1, closing=0),\n",
      " HandleState(handle=<cdata 'struct uv_handle_s *' 0x000001E03A78CD38>, type=b'timer', watcher=<loop at 0x1e0335ac358 default pending=0 ref=0>, ref=0, active=1, closing=0),\n",
      " HandleState(handle=<cdata 'struct uv_handle_s *' 0x000001E03CA8E038>, type=b'prepare', watcher=<loop at 0x1e0335ac358 default pending=0 ref=0>, ref=0, active=1, closing=0),\n",
      " HandleState(handle=<cdata 'struct uv_handle_s *' 0x000001E03CA8E0E8>, type=b'check', watcher=<loop at 0x1e0335ac358 default pending=0 ref=0>, ref=1, active=0, closing=0)]).History will not be written to the database.\n"
     ]
    }
   ],
   "source": [
    "df = pd.DataFrame(finals)\n",
    "df.to_csv('./Swinerton.csv', index=False)"
   ]
  }
 ],
 "metadata": {
  "kernelspec": {
   "display_name": "Python 3",
   "language": "python",
   "name": "python3"
  },
  "language_info": {
   "codemirror_mode": {
    "name": "ipython",
    "version": 3
   },
   "file_extension": ".py",
   "mimetype": "text/x-python",
   "name": "python",
   "nbconvert_exporter": "python",
   "pygments_lexer": "ipython3",
   "version": "3.6.2"
  },
  "toc": {
   "base_numbering": 1,
   "nav_menu": {},
   "number_sections": true,
   "sideBar": true,
   "skip_h1_title": false,
   "title_cell": "Table of Contents",
   "title_sidebar": "Contents",
   "toc_cell": false,
   "toc_position": {},
   "toc_section_display": true,
   "toc_window_display": false
  },
  "varInspector": {
   "cols": {
    "lenName": 16,
    "lenType": 16,
    "lenVar": 40
   },
   "kernels_config": {
    "python": {
     "delete_cmd_postfix": "",
     "delete_cmd_prefix": "del ",
     "library": "var_list.py",
     "varRefreshCmd": "print(var_dic_list())"
    },
    "r": {
     "delete_cmd_postfix": ") ",
     "delete_cmd_prefix": "rm(",
     "library": "var_list.r",
     "varRefreshCmd": "cat(var_dic_list()) "
    }
   },
   "types_to_exclude": [
    "module",
    "function",
    "builtin_function_or_method",
    "instance",
    "_Feature"
   ],
   "window_display": false
  }
 },
 "nbformat": 4,
 "nbformat_minor": 2
}
