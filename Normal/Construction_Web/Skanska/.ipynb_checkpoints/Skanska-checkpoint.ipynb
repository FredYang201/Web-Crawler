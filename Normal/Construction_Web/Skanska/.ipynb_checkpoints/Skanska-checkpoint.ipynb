{
 "cells": [
  {
   "cell_type": "code",
   "execution_count": 1,
   "metadata": {
    "ExecuteTime": {
     "end_time": "2019-07-08T02:41:37.965879Z",
     "start_time": "2019-07-08T02:41:37.117150Z"
    }
   },
   "outputs": [],
   "source": [
    "import requests\n",
    "import pandas as pd\n",
    "from lxml import etree\n",
    "import re\n",
    "import gevent\n",
    "from gevent import monkey\n",
    "from urllib import parse"
   ]
  },
  {
   "cell_type": "code",
   "execution_count": 2,
   "metadata": {
    "ExecuteTime": {
     "end_time": "2019-07-08T02:41:40.985295Z",
     "start_time": "2019-07-08T02:41:40.980824Z"
    }
   },
   "outputs": [],
   "source": [
    "def getHtml(url):\n",
    "    headers = {\n",
    "        'Cookie': '__cfduid=d1623f4d7911ad55e242e9e220c21dbbf1562507100; _ga=GA1.2.1495779873.1562507105; _gid=GA1.2.1919867462.1562507105; ASP.NET_SessionId=2wppyyej311dketw5gqaigpq; ARRAffinity=5eeab78d6455543a22f554067b5ffc2554ae5a81fdb79bf3895f6432e74245ad; ai_user=e3lZW|2019-07-07T13:45:14.230Z; Skanska.NW.CookiesAccepted.31276=1; __atuvc=11%7C28; __atuvs=5d22075063dad9ea006; ai_session=bBO60|1562511057404|1562511373544.515',\n",
    "        'authority': 'www.usa.skanska.com',\n",
    "        'User-Agent': 'Mozilla/5.0 (Windows NT 10.0; Win64; x64) AppleWebKit/537.36 (KHTML, like Gecko) Chrome/75.0.3770.80 Safari/537.36'\n",
    "    }\n",
    "    response = requests.get(url, headers=headers)\n",
    "    response.encoding = response.apparent_encoding\n",
    "    return response"
   ]
  },
  {
   "cell_type": "code",
   "execution_count": 3,
   "metadata": {
    "ExecuteTime": {
     "end_time": "2019-07-08T02:41:42.713354Z",
     "start_time": "2019-07-08T02:41:42.704423Z"
    }
   },
   "outputs": [],
   "source": [
    "def parse_page(one, two=None, take=8):\n",
    "    baseUrl = 'https://www.usa.skanska.com/api/projectsearch?'\n",
    "    data = {\n",
    "        'Language': 'en-US',\n",
    "        'SearchQuery': '',\n",
    "        'SearchYear': '',\n",
    "        'SectionFilters': '',\n",
    "        'Skip': 0,\n",
    "        'Take': take,\n",
    "        'Cache': False,\n",
    "        'epslanguage': 'en-US',\n",
    "        'ExcludeByDataBaseId': 0,\n",
    "        'SortOrder': 'PublishedDate',\n",
    "        'CategoryFilter[]': one,\n",
    "        'CategoryFilter*': two\n",
    "    }\n",
    "    x = parse.urlencode(data)\n",
    "    if two == None:\n",
    "        final_url = baseUrl + x.split('CategoryFilter%2A')[0].strip(\"&\")\n",
    "\n",
    "    else:\n",
    "        final_url = baseUrl + x.replace('%2A', '%5B%5D')\n",
    "\n",
    "    inner_html = getHtml(final_url).json()\n",
    "\n",
    "    return inner_html"
   ]
  },
  {
   "cell_type": "code",
   "execution_count": 4,
   "metadata": {
    "ExecuteTime": {
     "end_time": "2019-07-08T02:41:44.425982Z",
     "start_time": "2019-07-08T02:41:44.417053Z"
    }
   },
   "outputs": [],
   "source": [
    "def get_infos(html):\n",
    "\n",
    "    fact_reg = '//div[@class=\"info-box\"]/div'\n",
    "    obj = etree.HTML(html)\n",
    "    facts = obj.xpath(fact_reg)\n",
    "\n",
    "    if len(facts) == 0:\n",
    "        facts = None\n",
    "    else:\n",
    "        fact = []\n",
    "        for item in facts:\n",
    "            cont = '\\n'.join([single.strip() for single in item.xpath(\n",
    "                'string(.)').strip().split('\\n')])\n",
    "            fact.append(cont)\n",
    "        facts = '\\n'.join(fact)\n",
    "\n",
    "    return facts"
   ]
  },
  {
   "cell_type": "code",
   "execution_count": 5,
   "metadata": {
    "ExecuteTime": {
     "end_time": "2019-07-08T02:41:46.641198Z",
     "start_time": "2019-07-08T02:41:46.631776Z"
    },
    "scrolled": true
   },
   "outputs": [],
   "source": [
    "def parse_links(name, inner_html):\n",
    "    projects = inner_html['ProjectHits']\n",
    "    inner_items = []\n",
    "    for each in projects:\n",
    "        inner_dict = {}\n",
    "        url = 'https://www.usa.skanska.com' + each['SearchHitUrl']\n",
    "        city = each['City']\n",
    "        clientname = ','.join(each['ClientNames'])\n",
    "        content = each['ProjectTranslation']['Description'].replace(\n",
    "            '<p>', '').replace('</p>', '')\n",
    "        facts = get_infos(getHtml(url).text)\n",
    "        inner_dict['city'] = city\n",
    "        inner_dict['clientname'] = clientname\n",
    "        inner_dict['content'] = content\n",
    "        inner_dict['type'] = name\n",
    "        inner_dict['facts'] = facts\n",
    "        inner_items.append(inner_dict)\n",
    "    return inner_items"
   ]
  },
  {
   "cell_type": "code",
   "execution_count": 6,
   "metadata": {
    "ExecuteTime": {
     "end_time": "2019-07-08T02:41:48.472406Z",
     "start_time": "2019-07-08T02:41:48.464967Z"
    }
   },
   "outputs": [],
   "source": [
    "def crwaler(name, lists, one, two=None):\n",
    "    page = parse_page(one, two)['TotalMatching']\n",
    "    new_html = parse_page(one, two, take=page)\n",
    "    links = parse_links(name, new_html)\n",
    "    lists.extend(links)"
   ]
  },
  {
   "cell_type": "code",
   "execution_count": null,
   "metadata": {
    "ExecuteTime": {
     "start_time": "2019-07-08T02:41:50.410Z"
    },
    "scrolled": false
   },
   "outputs": [
    {
     "name": "stderr",
     "output_type": "stream",
     "text": [
      "d:\\language\\python\\lib\\site-packages\\ipykernel_launcher.py:1: MonkeyPatchWarning: Monkey-patching ssl after ssl has already been imported may lead to errors, including RecursionError on Python 3.6. It may also silently lead to incorrect behaviour on Python 3.7. Please monkey-patch earlier. See https://github.com/gevent/gevent/issues/1016. Modules that had direct imports (NOT patched): ['urllib3.util (d:\\\\language\\\\python\\\\lib\\\\site-packages\\\\urllib3\\\\util\\\\__init__.py)', 'urllib3.contrib.pyopenssl (d:\\\\language\\\\python\\\\lib\\\\site-packages\\\\urllib3\\\\contrib\\\\pyopenssl.py)']. \n",
      "  \"\"\"Entry point for launching an IPython kernel.\n"
     ]
    }
   ],
   "source": [
    "monkey.patch_all()\n",
    "item_dict = {'Mixed Use': [314, 317], 'Commercial': [342, 535],\n",
    "             'Government': [354, None], 'Higher Education': [107, 329],\n",
    "             'K-12 Education': [654, 106], 'Hotel': [236, None],\n",
    "             'Hospital': [561, 39]}\n",
    "finals = []\n",
    "gens = []\n",
    "for key in item_dict:\n",
    "    gen = gevent.spawn(crwaler, key, finals,\n",
    "                       item_dict[key][0], two=item_dict[key][1])\n",
    "    gens.append(gen)\n",
    "\n",
    "gevent.joinall(gens)"
   ]
  },
  {
   "cell_type": "code",
   "execution_count": 8,
   "metadata": {
    "ExecuteTime": {
     "end_time": "2019-07-08T01:57:05.498819Z",
     "start_time": "2019-07-08T01:57:05.472005Z"
    }
   },
   "outputs": [],
   "source": [
    "data = pd.DataFrame(finals)\n",
    "data.to_csv('./skanska.csv', index=False)"
   ]
  }
 ],
 "metadata": {
  "kernelspec": {
   "display_name": "Python 3",
   "language": "python",
   "name": "python3"
  },
  "language_info": {
   "codemirror_mode": {
    "name": "ipython",
    "version": 3
   },
   "file_extension": ".py",
   "mimetype": "text/x-python",
   "name": "python",
   "nbconvert_exporter": "python",
   "pygments_lexer": "ipython3",
   "version": "3.6.2"
  },
  "toc": {
   "base_numbering": 1,
   "nav_menu": {},
   "number_sections": true,
   "sideBar": true,
   "skip_h1_title": false,
   "title_cell": "Table of Contents",
   "title_sidebar": "Contents",
   "toc_cell": false,
   "toc_position": {},
   "toc_section_display": true,
   "toc_window_display": false
  },
  "varInspector": {
   "cols": {
    "lenName": 16,
    "lenType": 16,
    "lenVar": 40
   },
   "kernels_config": {
    "python": {
     "delete_cmd_postfix": "",
     "delete_cmd_prefix": "del ",
     "library": "var_list.py",
     "varRefreshCmd": "print(var_dic_list())"
    },
    "r": {
     "delete_cmd_postfix": ") ",
     "delete_cmd_prefix": "rm(",
     "library": "var_list.r",
     "varRefreshCmd": "cat(var_dic_list()) "
    }
   },
   "types_to_exclude": [
    "module",
    "function",
    "builtin_function_or_method",
    "instance",
    "_Feature"
   ],
   "window_display": false
  }
 },
 "nbformat": 4,
 "nbformat_minor": 2
}
