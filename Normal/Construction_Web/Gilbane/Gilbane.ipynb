{
 "cells": [
  {
   "cell_type": "code",
   "execution_count": 2,
   "metadata": {
    "ExecuteTime": {
     "end_time": "2019-06-26T20:35:26.085897Z",
     "start_time": "2019-06-26T20:35:25.992117Z"
    }
   },
   "outputs": [],
   "source": [
    "import requests\n",
    "from lxml import etree\n",
    "import re\n",
    "import pandas as pd\n",
    "import gevent\n",
    "from gevent import monkey"
   ]
  },
  {
   "cell_type": "code",
   "execution_count": 76,
   "metadata": {
    "ExecuteTime": {
     "end_time": "2019-06-26T22:09:41.647058Z",
     "start_time": "2019-06-26T22:09:41.235274Z"
    }
   },
   "outputs": [
    {
     "name": "stderr",
     "output_type": "stream",
     "text": [
      "d:\\language\\python\\lib\\site-packages\\gevent\\hub.py:154: UserWarning: libuv only supports millisecond timer resolution; all times less will be set to 1 ms\n",
      "  with loop.timer(seconds, ref=ref) as t:\n"
     ]
    }
   ],
   "source": [
    "def download(url, params = None, datas = None, method = 'get'):\n",
    "    if url is None:\n",
    "        return\n",
    "\n",
    "    sess = requests.Session()\n",
    "    headers = {\n",
    "        'cookie': 'wp-session=db36a0b93c0091e789f7188ad076ca6d; site-visited=yes; office-location=RI%2C%2CProvidence%2Chttps%3A%2F%2Fwww.gilbaneco.com%2Flocations%2Fprovidence-rhode-island%2F; _ga=GA1.2.1487181666.1561564106; _gid=GA1.2.259433025.1561564106; __atssc=google%3B1; __hstc=37448447.5e84b15e88c98f1ec4c4953bcae80c00.1561564108705.1561564108705.1561564108705.1; hubspotutk=5e84b15e88c98f1ec4c4953bcae80c00; __hssrc=1; tk_ai=woo%3ABUYxKl5aZplQogedenWWPK0E; project-location=0; _gat=1; __atuvc=17%7C26; __atuvs=5d13d43a3a33efc3001',\n",
    "        'origin': 'https://www.gilbaneco.com',\n",
    "       'user-agent': 'Mozilla/5.0 (Windows NT 10.0; Win64; x64) AppleWebKit/537.36 (KHTML, like Gecko) Chrome/75.0.3770.80 Safari/537.36'\n",
    "    }\n",
    "    if method == 'get':\n",
    "        response = sess.get(url, headers = headers, params = params)\n",
    "    else:\n",
    "        response = sess.post(url,headers = headers, data = datas)\n",
    "\n",
    "    if response.status_code == 200:\n",
    "        response.encoding = response.apparent_encoding\n",
    "        return response\n",
    "    else:\n",
    "        return"
   ]
  },
  {
   "cell_type": "code",
   "execution_count": 77,
   "metadata": {
    "ExecuteTime": {
     "end_time": "2019-06-26T22:09:44.683095Z",
     "start_time": "2019-06-26T22:09:44.087367Z"
    }
   },
   "outputs": [],
   "source": [
    "def get_info(html):\n",
    "    \n",
    "    inner_obj = etree.HTML(html)\n",
    "    \n",
    "    content_reg = '//div[@class=\"project-content\"]/p/text()'\n",
    "    contents = inner_obj.xpath(content_reg)\n",
    "    if len(contents) == 0:\n",
    "        contents = None\n",
    "    else:\n",
    "        contents = '\\n'.join([single.strip() for single in contents])\n",
    "    \n",
    "    stats_reg = '//div[@class=\"callout quickstats\"]/div/dl/dd'\n",
    "    first_stats = inner_obj.xpath(stats_reg)\n",
    "    if len(first_stats) == 0:\n",
    "        stats = None\n",
    "    else:\n",
    "        stats = []\n",
    "        for item in first_stats:\n",
    "            cont = ': '.join([zeta.strip() for zeta in item.xpath('string(.)').strip().split(':')])\n",
    "            stats.append(cont)\n",
    "        stats = '\\n'.join(stats)\n",
    "        \n",
    "    return stats, contents"
   ]
  },
  {
   "cell_type": "code",
   "execution_count": 79,
   "metadata": {
    "ExecuteTime": {
     "end_time": "2019-06-26T22:09:50.735123Z",
     "start_time": "2019-06-26T22:09:50.269417Z"
    },
    "scrolled": true
   },
   "outputs": [],
   "source": [
    "def get_links(html, item_name):\n",
    "    links = html.split('<a class=')[1:]\n",
    "    infos = []\n",
    "    for each in links:\n",
    "        info_dict = {}\n",
    "        each_link = ''.join(each.split('href=')[1].split('\"')[1].split('\\\\')).strip()\n",
    "        each_html = download(each_link).text\n",
    "        Stats, Content = get_info(each_html)\n",
    "        info_dict['Link'] = each_link\n",
    "        info_dict['Stats'] = Stats\n",
    "        info_dict['Content'] = Content\n",
    "        info_dict['Type'] = item_name\n",
    "        infos.append(info_dict)\n",
    "    return infos"
   ]
  },
  {
   "cell_type": "code",
   "execution_count": 80,
   "metadata": {
    "ExecuteTime": {
     "end_time": "2019-06-26T22:09:52.857513Z",
     "start_time": "2019-06-26T22:09:52.351072Z"
    }
   },
   "outputs": [],
   "source": [
    "def create_url(single_item, lists):\n",
    "    base_url = 'https://www.gilbaneco.com/wp-admin/admin-ajax.php?action=filter_projects'\n",
    "    datas = {'action': 'filter_projects',\n",
    "    'filterMarket': single_item,\n",
    "    'filterLocation': 0 }\n",
    "    html = download(base_url, datas = datas, method = 'post').text\n",
    "    final = get_links(html, item_name)\n",
    "    lists.extend(final)\n",
    "    "
   ]
  },
  {
   "cell_type": "code",
   "execution_count": 81,
   "metadata": {
    "ExecuteTime": {
     "end_time": "2019-06-26T22:15:51.709918Z",
     "start_time": "2019-06-26T22:09:55.533073Z"
    }
   },
   "outputs": [
    {
     "data": {
      "text/plain": [
       "[<Greenlet at 0x233febd1c48: _run>,\n",
       " <Greenlet at 0x233febd1d48: _run>,\n",
       " <Greenlet at 0x233ffa47048: _run>,\n",
       " <Greenlet at 0x233febd1948: _run>,\n",
       " <Greenlet at 0x233febd1b48: _run>,\n",
       " <Greenlet at 0x233febd1448: _run>,\n",
       " <Greenlet at 0x233febd1e48: _run>]"
      ]
     },
     "execution_count": 81,
     "metadata": {},
     "output_type": "execute_result"
    }
   ],
   "source": [
    "item_lists = ['commercial-corporate', 'healthcare', 'k12-schools', 'mixed-use', 'municipalgovernment', 'college-university', 'hotel-residential']\n",
    "finals = []\n",
    "gens = []\n",
    "for item_name in item_lists:\n",
    "    gens.append(gevent.spawn(create_url, item_name, finals))\n",
    "\n",
    "monkey.patch_all()\n",
    "gevent.joinall(gens)"
   ]
  },
  {
   "cell_type": "code",
   "execution_count": 82,
   "metadata": {
    "ExecuteTime": {
     "end_time": "2019-06-26T22:18:20.255905Z",
     "start_time": "2019-06-26T22:18:19.569046Z"
    }
   },
   "outputs": [],
   "source": [
    "df = pd.DataFrame(finals)\n",
    "df.to_csv('./glibane.csv',index = False)"
   ]
  },
  {
   "cell_type": "code",
   "execution_count": null,
   "metadata": {},
   "outputs": [],
   "source": []
  }
 ],
 "metadata": {
  "kernelspec": {
   "display_name": "Python 3",
   "language": "python",
   "name": "python3"
  },
  "language_info": {
   "codemirror_mode": {
    "name": "ipython",
    "version": 3
   },
   "file_extension": ".py",
   "mimetype": "text/x-python",
   "name": "python",
   "nbconvert_exporter": "python",
   "pygments_lexer": "ipython3",
   "version": "3.6.2"
  },
  "toc": {
   "base_numbering": 1,
   "nav_menu": {},
   "number_sections": true,
   "sideBar": true,
   "skip_h1_title": false,
   "title_cell": "Table of Contents",
   "title_sidebar": "Contents",
   "toc_cell": false,
   "toc_position": {},
   "toc_section_display": true,
   "toc_window_display": false
  },
  "varInspector": {
   "cols": {
    "lenName": 16,
    "lenType": 16,
    "lenVar": 40
   },
   "kernels_config": {
    "python": {
     "delete_cmd_postfix": "",
     "delete_cmd_prefix": "del ",
     "library": "var_list.py",
     "varRefreshCmd": "print(var_dic_list())"
    },
    "r": {
     "delete_cmd_postfix": ") ",
     "delete_cmd_prefix": "rm(",
     "library": "var_list.r",
     "varRefreshCmd": "cat(var_dic_list()) "
    }
   },
   "types_to_exclude": [
    "module",
    "function",
    "builtin_function_or_method",
    "instance",
    "_Feature"
   ],
   "window_display": false
  }
 },
 "nbformat": 4,
 "nbformat_minor": 2
}
