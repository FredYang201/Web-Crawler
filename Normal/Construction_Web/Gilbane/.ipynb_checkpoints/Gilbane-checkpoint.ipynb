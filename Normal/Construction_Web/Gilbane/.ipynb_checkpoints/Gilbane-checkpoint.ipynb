{
 "cells": [
  {
   "cell_type": "code",
   "execution_count": 1,
   "metadata": {
    "ExecuteTime": {
     "end_time": "2019-07-08T02:35:46.519383Z",
     "start_time": "2019-07-08T02:35:45.569045Z"
    }
   },
   "outputs": [],
   "source": [
    "import requests\n",
    "from lxml import etree\n",
    "import re\n",
    "import pandas as pd\n",
    "import gevent\n",
    "from gevent import monkey"
   ]
  },
  {
   "cell_type": "code",
   "execution_count": 2,
   "metadata": {
    "ExecuteTime": {
     "end_time": "2019-07-08T02:35:48.407652Z",
     "start_time": "2019-07-08T02:35:48.398226Z"
    }
   },
   "outputs": [],
   "source": [
    "def download(url, params=None, datas=None, method='get'):\n",
    "    if url is None:\n",
    "        return\n",
    "    sess = requests.Session()\n",
    "    headers = {\n",
    "        'cookie': 'wp-session=db36a0b93c0091e789f7188ad076ca6d; site-visited=yes; office-location=RI%2C%2CProvidence%2Chttps%3A%2F%2Fwww.gilbaneco.com%2Flocations%2Fprovidence-rhode-island%2F; _ga=GA1.2.1487181666.1561564106; _gid=GA1.2.259433025.1561564106; __atssc=google%3B1; __hstc=37448447.5e84b15e88c98f1ec4c4953bcae80c00.1561564108705.1561564108705.1561564108705.1; hubspotutk=5e84b15e88c98f1ec4c4953bcae80c00; __hssrc=1; tk_ai=woo%3ABUYxKl5aZplQogedenWWPK0E; project-location=0; _gat=1; __atuvc=17%7C26; __atuvs=5d13d43a3a33efc3001',\n",
    "        'origin': 'https://www.gilbaneco.com',\n",
    "        'user-agent': 'Mozilla/5.0 (Windows NT 10.0; Win64; x64) AppleWebKit/537.36 (KHTML, like Gecko) Chrome/75.0.3770.80 Safari/537.36'\n",
    "    }\n",
    "    if method == 'get':\n",
    "        response = sess.get(url, headers=headers, params=params)\n",
    "    else:\n",
    "        response = sess.post(url, headers=headers, data=datas)\n",
    "\n",
    "    if response.status_code == 200:\n",
    "        response.encoding = response.apparent_encoding\n",
    "        return response\n",
    "    else:\n",
    "        return"
   ]
  },
  {
   "cell_type": "code",
   "execution_count": 3,
   "metadata": {
    "ExecuteTime": {
     "end_time": "2019-07-08T02:35:51.232368Z",
     "start_time": "2019-07-08T02:35:51.221455Z"
    }
   },
   "outputs": [],
   "source": [
    "def get_info(html):\n",
    "    inner_obj = etree.HTML(html)\n",
    "\n",
    "    content_reg = '//div[@class=\"project-content\"]/p/text()'\n",
    "    contents = inner_obj.xpath(content_reg)\n",
    "    if len(contents) == 0:\n",
    "        contents = None\n",
    "    else:\n",
    "        contents = '\\n'.join([single.strip() for single in contents])\n",
    "\n",
    "    stats_reg = '//div[@class=\"callout quickstats\"]/div/dl/dd'\n",
    "    first_stats = inner_obj.xpath(stats_reg)\n",
    "    if len(first_stats) == 0:\n",
    "        stats = None\n",
    "    else:\n",
    "        stats = []\n",
    "        for item in first_stats:\n",
    "            cont = ': '.join(\n",
    "                [zeta.strip() for zeta in item.xpath('string(.)').strip().split(':')])\n",
    "            stats.append(cont)\n",
    "        stats = '\\n'.join(stats)\n",
    "\n",
    "    return stats, contents"
   ]
  },
  {
   "cell_type": "code",
   "execution_count": 4,
   "metadata": {
    "ExecuteTime": {
     "end_time": "2019-07-08T02:35:52.795262Z",
     "start_time": "2019-07-08T02:35:52.785838Z"
    },
    "scrolled": true
   },
   "outputs": [],
   "source": [
    "def get_links(html, item_name):\n",
    "    links = html.split('<a class=')[1:]\n",
    "    infos = []\n",
    "    for each in links:\n",
    "        info_dict = {}\n",
    "        each_link = ''.join(each.split('href=')[1].split('\"')[\n",
    "                            1].split('\\\\')).strip()\n",
    "        each_html = download(each_link).text\n",
    "        Stats, Content = get_info(each_html)\n",
    "        info_dict['Link'] = each_link\n",
    "        info_dict['Stats'] = Stats\n",
    "        info_dict['Content'] = Content\n",
    "        info_dict['Type'] = item_name\n",
    "        infos.append(info_dict)\n",
    "    return infos"
   ]
  },
  {
   "cell_type": "code",
   "execution_count": 5,
   "metadata": {
    "ExecuteTime": {
     "end_time": "2019-07-08T02:35:55.047101Z",
     "start_time": "2019-07-08T02:35:55.041149Z"
    }
   },
   "outputs": [],
   "source": [
    "def create_url(single_item, lists):\n",
    "    base_url = 'https://www.gilbaneco.com/wp-admin/admin-ajax.php?action=filter_projects'\n",
    "    datas = {'action': 'filter_projects',\n",
    "             'filterMarket': single_item,\n",
    "             'filterLocation': 0}\n",
    "    html = download(base_url, datas=datas, method='post').text\n",
    "    final = get_links(html, item_name)\n",
    "    lists.extend(final)"
   ]
  },
  {
   "cell_type": "code",
   "execution_count": 6,
   "metadata": {
    "ExecuteTime": {
     "end_time": "2019-07-08T02:35:58.397082Z",
     "start_time": "2019-07-08T02:35:56.469132Z"
    }
   },
   "outputs": [
    {
     "name": "stderr",
     "output_type": "stream",
     "text": [
      "d:\\language\\python\\lib\\site-packages\\ipykernel_launcher.py:8: MonkeyPatchWarning: Monkey-patching ssl after ssl has already been imported may lead to errors, including RecursionError on Python 3.6. It may also silently lead to incorrect behaviour on Python 3.7. Please monkey-patch earlier. See https://github.com/gevent/gevent/issues/1016. Modules that had direct imports (NOT patched): ['urllib3.util (d:\\\\language\\\\python\\\\lib\\\\site-packages\\\\urllib3\\\\util\\\\__init__.py)', 'urllib3.contrib.pyopenssl (d:\\\\language\\\\python\\\\lib\\\\site-packages\\\\urllib3\\\\contrib\\\\pyopenssl.py)']. \n",
      "  \n",
      "Traceback (most recent call last):\n",
      "  File \"d:\\language\\python\\lib\\site-packages\\gevent\\_ffi\\loop.py\", line 234, in python_check_callback\n",
      "    def python_check_callback(self, watcher_ptr): # pylint:disable=unused-argument\n",
      "KeyboardInterrupt\n",
      "2019-07-08T02:35:57Z\n"
     ]
    },
    {
     "ename": "KeyboardInterrupt",
     "evalue": "",
     "output_type": "error",
     "traceback": [
      "\u001b[1;31m---------------------------------------------------------------------------\u001b[0m",
      "\u001b[1;31mKeyboardInterrupt\u001b[0m                         Traceback (most recent call last)",
      "\u001b[1;32m<ipython-input-6-37c3d8cb4157>\u001b[0m in \u001b[0;36m<module>\u001b[1;34m\u001b[0m\n\u001b[0;32m      7\u001b[0m \u001b[1;33m\u001b[0m\u001b[0m\n\u001b[0;32m      8\u001b[0m \u001b[0mmonkey\u001b[0m\u001b[1;33m.\u001b[0m\u001b[0mpatch_all\u001b[0m\u001b[1;33m(\u001b[0m\u001b[1;33m)\u001b[0m\u001b[1;33m\u001b[0m\u001b[0m\n\u001b[1;32m----> 9\u001b[1;33m \u001b[0mgevent\u001b[0m\u001b[1;33m.\u001b[0m\u001b[0mjoinall\u001b[0m\u001b[1;33m(\u001b[0m\u001b[0mgens\u001b[0m\u001b[1;33m)\u001b[0m\u001b[1;33m\u001b[0m\u001b[0m\n\u001b[0m",
      "\u001b[1;32md:\\language\\python\\lib\\site-packages\\gevent\\_greenlet.cp36-win_amd64.pyd\u001b[0m in \u001b[0;36mgevent._greenlet.joinall\u001b[1;34m()\u001b[0m\n",
      "\u001b[1;32md:\\language\\python\\lib\\site-packages\\gevent\\_greenlet.cp36-win_amd64.pyd\u001b[0m in \u001b[0;36mgevent._greenlet.joinall\u001b[1;34m()\u001b[0m\n",
      "\u001b[1;32md:\\language\\python\\lib\\site-packages\\gevent\\__hub_primitives.cp36-win_amd64.pyd\u001b[0m in \u001b[0;36mgevent.__hub_primitives.wait_on_objects\u001b[1;34m()\u001b[0m\n",
      "\u001b[1;32md:\\language\\python\\lib\\site-packages\\gevent\\__hub_primitives.cp36-win_amd64.pyd\u001b[0m in \u001b[0;36mgevent.__hub_primitives.wait_on_objects\u001b[1;34m()\u001b[0m\n",
      "\u001b[1;32md:\\language\\python\\lib\\site-packages\\gevent\\__hub_primitives.cp36-win_amd64.pyd\u001b[0m in \u001b[0;36mgevent.__hub_primitives._WaitIterator.__next__\u001b[1;34m()\u001b[0m\n",
      "\u001b[1;32md:\\language\\python\\lib\\site-packages\\gevent\\__hub_primitives.cp36-win_amd64.pyd\u001b[0m in \u001b[0;36mgevent.__hub_primitives._WaitIterator.__next__\u001b[1;34m()\u001b[0m\n",
      "\u001b[1;32md:\\language\\python\\lib\\site-packages\\gevent\\__waiter.cp36-win_amd64.pyd\u001b[0m in \u001b[0;36mgevent.__waiter.MultipleWaiter.get\u001b[1;34m()\u001b[0m\n",
      "\u001b[1;32md:\\language\\python\\lib\\site-packages\\gevent\\__waiter.cp36-win_amd64.pyd\u001b[0m in \u001b[0;36mgevent.__waiter.Waiter.get\u001b[1;34m()\u001b[0m\n",
      "\u001b[1;32md:\\language\\python\\lib\\site-packages\\gevent\\__greenlet_primitives.cp36-win_amd64.pyd\u001b[0m in \u001b[0;36mgevent.__greenlet_primitives.SwitchOutGreenletWithLoop.switch\u001b[1;34m()\u001b[0m\n",
      "\u001b[1;32md:\\language\\python\\lib\\site-packages\\gevent\\__greenlet_primitives.cp36-win_amd64.pyd\u001b[0m in \u001b[0;36mgevent.__greenlet_primitives.SwitchOutGreenletWithLoop.switch\u001b[1;34m()\u001b[0m\n",
      "\u001b[1;32md:\\language\\python\\lib\\site-packages\\gevent\\__greenlet_primitives.cp36-win_amd64.pyd\u001b[0m in \u001b[0;36mgevent.__greenlet_primitives.SwitchOutGreenletWithLoop.switch\u001b[1;34m()\u001b[0m\n",
      "\u001b[1;32msrc\\gevent\\__greenlet_primitives.pxd\u001b[0m in \u001b[0;36mgevent.__greenlet_primitives._greenlet_switch\u001b[1;34m()\u001b[0m\n",
      "\u001b[1;31mKeyboardInterrupt\u001b[0m: "
     ]
    },
    {
     "name": "stderr",
     "output_type": "stream",
     "text": [
      "d:\\language\\python\\lib\\site-packages\\gevent\\hub.py:154: UserWarning: libuv only supports millisecond timer resolution; all times less will be set to 1 ms\n",
      "  with loop.timer(seconds, ref=ref) as t:\n"
     ]
    }
   ],
   "source": [
    "item_lists = ['commercial-corporate', 'healthcare', 'k12-schools', 'mixed-use',\n",
    "              'municipalgovernment', 'college-university', 'hotel-residential']\n",
    "finals = []\n",
    "gens = []\n",
    "for item_name in item_lists:\n",
    "    gens.append(gevent.spawn(create_url, item_name, finals))\n",
    "\n",
    "monkey.patch_all()\n",
    "gevent.joinall(gens)"
   ]
  },
  {
   "cell_type": "code",
   "execution_count": 7,
   "metadata": {
    "ExecuteTime": {
     "end_time": "2019-07-08T02:36:03.461732Z",
     "start_time": "2019-07-08T02:36:01.700438Z"
    }
   },
   "outputs": [
    {
     "name": "stdout",
     "output_type": "stream",
     "text": [
      "The history saving thread hit an unexpected error (This operation would block forever\n",
      "\tHub: <Hub '' at 0x11f0281ae10 default pending=0 ref=0 thread_ident=0x6dddc>\n",
      "\tHandles:\n",
      "[HandleState(handle=<cdata 'struct uv_handle_s *' 0x0000011F00FC9878>, type=b'check', watcher=<loop at 0x11f03874f98 default pending=0 ref=0>, ref=0, active=1, closing=0),\n",
      " HandleState(handle=<cdata 'struct uv_handle_s *' 0x0000011F00F36118>, type=b'timer', watcher=<loop at 0x11f03874f98 default pending=0 ref=0>, ref=0, active=1, closing=0),\n",
      " HandleState(handle=<cdata 'struct uv_handle_s *' 0x0000011F00FC9928>, type=b'prepare', watcher=<loop at 0x11f03874f98 default pending=0 ref=0>, ref=0, active=1, closing=0),\n",
      " HandleState(handle=<cdata 'struct uv_handle_s *' 0x0000011F00FC9A88>, type=b'check', watcher=<loop at 0x11f03874f98 default pending=0 ref=0>, ref=1, active=0, closing=0)]).History will not be written to the database.\n"
     ]
    }
   ],
   "source": [
    "df = pd.DataFrame(finals)\n",
    "df.to_csv('./glibane.csv', index=False)"
   ]
  }
 ],
 "metadata": {
  "kernelspec": {
   "display_name": "Python 3",
   "language": "python",
   "name": "python3"
  },
  "language_info": {
   "codemirror_mode": {
    "name": "ipython",
    "version": 3
   },
   "file_extension": ".py",
   "mimetype": "text/x-python",
   "name": "python",
   "nbconvert_exporter": "python",
   "pygments_lexer": "ipython3",
   "version": "3.6.2"
  },
  "toc": {
   "base_numbering": 1,
   "nav_menu": {},
   "number_sections": true,
   "sideBar": true,
   "skip_h1_title": false,
   "title_cell": "Table of Contents",
   "title_sidebar": "Contents",
   "toc_cell": false,
   "toc_position": {},
   "toc_section_display": true,
   "toc_window_display": false
  },
  "varInspector": {
   "cols": {
    "lenName": 16,
    "lenType": 16,
    "lenVar": 40
   },
   "kernels_config": {
    "python": {
     "delete_cmd_postfix": "",
     "delete_cmd_prefix": "del ",
     "library": "var_list.py",
     "varRefreshCmd": "print(var_dic_list())"
    },
    "r": {
     "delete_cmd_postfix": ") ",
     "delete_cmd_prefix": "rm(",
     "library": "var_list.r",
     "varRefreshCmd": "cat(var_dic_list()) "
    }
   },
   "types_to_exclude": [
    "module",
    "function",
    "builtin_function_or_method",
    "instance",
    "_Feature"
   ],
   "window_display": false
  }
 },
 "nbformat": 4,
 "nbformat_minor": 2
}
