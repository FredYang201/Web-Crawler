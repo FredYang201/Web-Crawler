{
 "cells": [
  {
   "cell_type": "code",
   "execution_count": 1,
   "metadata": {
    "ExecuteTime": {
     "end_time": "2019-06-09T23:09:27.272594Z",
     "start_time": "2019-06-09T23:09:26.722813Z"
    }
   },
   "outputs": [],
   "source": [
    "import requests \n",
    "import pandas as pd\n",
    "import re\n",
    "from lxml import etree"
   ]
  },
  {
   "cell_type": "code",
   "execution_count": 3,
   "metadata": {
    "ExecuteTime": {
     "end_time": "2019-06-09T23:13:14.408790Z",
     "start_time": "2019-06-09T23:13:14.403336Z"
    }
   },
   "outputs": [],
   "source": [
    "def getHtml(url):\n",
    "    header = {\n",
    "        'Referer': 'https://www.ibigroup.com/services/architecture/',\n",
    "        'User-Agent': 'Mozilla/5.0 (Windows NT 10.0; Win64; x64) AppleWebKit/537.36 (KHTML, like Gecko) Chrome/75.0.3770.80 Safari/537.36'\n",
    "    }\n",
    "    response = requests.get(url, headers = header)\n",
    "    response.encoding = response.apparent_encoding\n",
    "    return response"
   ]
  },
  {
   "cell_type": "code",
   "execution_count": 114,
   "metadata": {
    "ExecuteTime": {
     "end_time": "2019-06-10T00:50:52.555739Z",
     "start_time": "2019-06-10T00:50:52.538379Z"
    }
   },
   "outputs": [],
   "source": [
    "def getInfo(html):\n",
    "    reg_client = re.compile('<h6>Client</h6>(.*?)<div')\n",
    "    if len(re.findall(reg_client, html)) != 0:\n",
    "        clients = re.findall(reg_client, html)[0]\n",
    "    else:\n",
    "        clients = None\n",
    "        \n",
    "    reg_types = re.compile('<h3>Services and Project Types</h3>.*?<li>(.*?)</ul>')\n",
    "    if len(re.findall(reg_types, html)) != 0:\n",
    "\n",
    "        types = re.findall(reg_types, html)[0].split('</li></a>')[:-1]\n",
    "        types = '\\n'.join([single.split('<li>')[-1] for single in types])\n",
    "    \n",
    "    else:\n",
    "        types = None\n",
    "    \n",
    "    reg_leaders = re.compile('Project Leaders<(.*?)</div></div></div></div>')\n",
    "    if len(re.findall(reg_leaders, html)) != 0:\n",
    "\n",
    "        leaders = re.findall(reg_leaders, html)[0].split('<h3>')[1:]\n",
    "        comBins = []\n",
    "        for i_leader in leaders:\n",
    "            name = i_leader.split('</h3><p>')[0]\n",
    "            position = i_leader.split('</h3><p>')[1].split('<br>')[0]\n",
    "            combine = name + ': ' + position\n",
    "            comBins.append(combine)\n",
    "        leaders = '\\n'.join(comBins)\n",
    "    \n",
    "    else:\n",
    "        leaders = None\n",
    "        \n",
    "    \n",
    "    lxml_obj = etree.HTML(html)\n",
    "    reg_title = '//ul[@id=\"breadcrumbs\"]/following-sibling::p[1]//text()'\n",
    "    introduction = lxml_obj.xpath(reg_title)\n",
    "    introduction = ''.join(introduction).replace('’',\"'\").replace(' “',' \"').replace('” ','\" ')\n",
    "    \n",
    "    reg_info = '//div[@class=\"fast-fact__item\"]/span/text()'\n",
    "    inner_infos = lxml_obj.xpath(reg_info)\n",
    "    infos = []\n",
    "    length = int(len(inner_infos) / 2)\n",
    "    for ij in range(length):\n",
    "        key = inner_infos[2 * ij + 1]\n",
    "        value = inner_infos[2 * ij]\n",
    "        infos.append(key + ': ' + value)\n",
    "    infos = '\\n'.join(infos)\n",
    "    \n",
    "    return [clients, types, infos, leaders, introduction]"
   ]
  },
  {
   "cell_type": "code",
   "execution_count": 111,
   "metadata": {
    "ExecuteTime": {
     "end_time": "2019-06-10T00:47:30.492835Z",
     "start_time": "2019-06-10T00:47:30.484898Z"
    }
   },
   "outputs": [],
   "source": [
    "def getLinks(html):\n",
    "    obj = etree.HTML(html)\n",
    "    reg_links = '//div[@class=\"filter-item__inner__title\"]/a/@href'\n",
    "    reg_titles = '//div[@class=\"filter-item__inner__title\"]/a/h3/text()'\n",
    "    reg_locations = '//div[@class=\"filter-item__inner__title\"]/span/text()'\n",
    "    \n",
    "    links = obj.xpath(reg_links)\n",
    "    titles = obj.xpath(reg_titles)\n",
    "    locations = obj.xpath(reg_locations)\n",
    "    \n",
    "    finalResult = []\n",
    "    \n",
    "    for i, each in enumerate(links):\n",
    "        each_html = getHtml(each).text\n",
    "        zeta = [titles[i], locations[i]]\n",
    "        zeta.extend(getInfo(each_html))\n",
    "        finalResult.append(zeta)\n",
    "        \n",
    "    return finalResult"
   ]
  },
  {
   "cell_type": "code",
   "execution_count": 115,
   "metadata": {
    "ExecuteTime": {
     "end_time": "2019-06-10T00:54:56.063221Z",
     "start_time": "2019-06-10T00:50:59.211022Z"
    }
   },
   "outputs": [
    {
     "ename": "NameError",
     "evalue": "name 'result' is not defined",
     "output_type": "error",
     "traceback": [
      "\u001b[1;31m---------------------------------------------------------------------------\u001b[0m",
      "\u001b[1;31mNameError\u001b[0m                                 Traceback (most recent call last)",
      "\u001b[1;32m<ipython-input-115-61486097d51b>\u001b[0m in \u001b[0;36m<module>\u001b[1;34m\u001b[0m\n\u001b[0;32m      1\u001b[0m \u001b[0mreuslt\u001b[0m \u001b[1;33m=\u001b[0m \u001b[0mgetLinks\u001b[0m\u001b[1;33m(\u001b[0m\u001b[0morig\u001b[0m\u001b[1;33m)\u001b[0m\u001b[1;33m\u001b[0m\u001b[0m\n\u001b[1;32m----> 2\u001b[1;33m \u001b[0mprint\u001b[0m\u001b[1;33m(\u001b[0m\u001b[0mresult\u001b[0m\u001b[1;33m[\u001b[0m\u001b[1;36m0\u001b[0m\u001b[1;33m:\u001b[0m\u001b[1;36m10\u001b[0m\u001b[1;33m]\u001b[0m\u001b[1;33m)\u001b[0m\u001b[1;33m\u001b[0m\u001b[0m\n\u001b[0m",
      "\u001b[1;31mNameError\u001b[0m: name 'result' is not defined"
     ]
    }
   ],
   "source": [
    "result = getLinks(orig)"
   ]
  },
  {
   "cell_type": "code",
   "execution_count": 4,
   "metadata": {
    "ExecuteTime": {
     "end_time": "2019-06-09T23:13:53.486353Z",
     "start_time": "2019-06-09T23:13:49.338388Z"
    }
   },
   "outputs": [],
   "source": [
    "baseUrl = 'https://www.ibigroup.com/projects/?&tags=architecture,&regions=north%20america,'\n",
    "orig = getHtml(baseUrl).text\n",
    "result = getLinks(orig)"
   ]
  },
  {
   "cell_type": "code",
   "execution_count": 117,
   "metadata": {
    "ExecuteTime": {
     "end_time": "2019-06-10T00:55:47.945630Z",
     "start_time": "2019-06-10T00:55:47.910912Z"
    }
   },
   "outputs": [],
   "source": [
    "resultSave = pd.DataFrame(result, columns = ['Titles', 'Location', 'Client', 'Type', 'Info', 'Leader', 'Introduction'])\n",
    "resultSave.to_csv('C:/Users/fred/desktop/IBI.csv', index = False)"
   ]
  },
  {
   "cell_type": "code",
   "execution_count": null,
   "metadata": {},
   "outputs": [],
   "source": []
  }
 ],
 "metadata": {
  "kernelspec": {
   "display_name": "Python 3",
   "language": "python",
   "name": "python3"
  },
  "language_info": {
   "codemirror_mode": {
    "name": "ipython",
    "version": 3
   },
   "file_extension": ".py",
   "mimetype": "text/x-python",
   "name": "python",
   "nbconvert_exporter": "python",
   "pygments_lexer": "ipython3",
   "version": "3.6.2"
  },
  "toc": {
   "base_numbering": 1,
   "nav_menu": {},
   "number_sections": true,
   "sideBar": true,
   "skip_h1_title": false,
   "title_cell": "Table of Contents",
   "title_sidebar": "Contents",
   "toc_cell": false,
   "toc_position": {},
   "toc_section_display": true,
   "toc_window_display": false
  },
  "varInspector": {
   "cols": {
    "lenName": 16,
    "lenType": 16,
    "lenVar": 40
   },
   "kernels_config": {
    "python": {
     "delete_cmd_postfix": "",
     "delete_cmd_prefix": "del ",
     "library": "var_list.py",
     "varRefreshCmd": "print(var_dic_list())"
    },
    "r": {
     "delete_cmd_postfix": ") ",
     "delete_cmd_prefix": "rm(",
     "library": "var_list.r",
     "varRefreshCmd": "cat(var_dic_list()) "
    }
   },
   "types_to_exclude": [
    "module",
    "function",
    "builtin_function_or_method",
    "instance",
    "_Feature"
   ],
   "window_display": false
  }
 },
 "nbformat": 4,
 "nbformat_minor": 2
}
