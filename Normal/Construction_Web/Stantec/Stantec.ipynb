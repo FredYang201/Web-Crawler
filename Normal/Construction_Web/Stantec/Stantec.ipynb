{
 "cells": [
  {
   "cell_type": "code",
   "execution_count": 1,
   "metadata": {
    "ExecuteTime": {
     "end_time": "2019-06-11T15:19:09.299927Z",
     "start_time": "2019-06-11T15:19:08.075021Z"
    }
   },
   "outputs": [],
   "source": [
    "import requests\n",
    "import re\n",
    "from lxml import etree\n",
    "import pandas as pd"
   ]
  },
  {
   "cell_type": "code",
   "execution_count": 2,
   "metadata": {
    "ExecuteTime": {
     "end_time": "2019-06-11T15:19:41.768932Z",
     "start_time": "2019-06-11T15:19:41.762485Z"
    }
   },
   "outputs": [],
   "source": [
    "def getHtml(url,params = None):\n",
    "    headers = {\n",
    "        'Cookie': 'language=en; _ga=GA1.2.1395522767.1560196786; _gid=GA1.2.372820212.1560196786; _fbp=fb.1.1560196785986.898141374; region=localization:north-america; _hjIncludedInSample=1',\n",
    "        'Host': 'www.stantec.com',\n",
    "        'Referer': 'https://www.stantec.com/en/services/landscape-architecture/Projects',\n",
    "        'User-Agent': 'Mozilla/5.0 (Windows NT 10.0; Win64; x64) AppleWebKit/537.36 (KHTML, like Gecko) Chrome/75.0.3770.80 Safari/537.36'\n",
    "    }\n",
    "    response = requests.get(url, headers = headers, params = params)\n",
    "    response.encoding = response.apparent_encoding\n",
    "    return response"
   ]
  },
  {
   "cell_type": "code",
   "execution_count": 20,
   "metadata": {
    "ExecuteTime": {
     "end_time": "2019-06-11T15:48:39.492445Z",
     "start_time": "2019-06-11T15:48:39.477068Z"
    }
   },
   "outputs": [],
   "source": [
    "def getInfo(html):\n",
    "    obj = etree.HTML(html)\n",
    "    \n",
    "    reg_stats_key = '//div[@class=\"project-overview-module__stats-number\"]/text()'\n",
    "    reg_stats_value = '//p[@class=\"project-overview-module__stats-caption\"]/text()'\n",
    "    stats_key = obj.xpath(reg_stats_key)\n",
    "    if len(stats_key) == 0:\n",
    "        final_stats = None\n",
    "    else:\n",
    "        stats_value = obj.xpath(reg_stats_value)\n",
    "        final_stats = ''\n",
    "        for key, value in zip(stats_key, stats_value):\n",
    "            final_stats += value.strip() + ': ' + key.strip() + '\\n'   \n",
    "        final_stats = final_stats.strip('\\n')\n",
    "        \n",
    "    reg_headtitle = '//h3[@class=\"two-column__headline\"]/text()'\n",
    "    reg_content = '//div[@class=\"two-column__body\"]/p/text()'\n",
    "\n",
    "    title = obj.xpath(reg_headtitle)\n",
    "    if len(title) == 0:\n",
    "        title = None\n",
    "    else:\n",
    "        title = ''.join([eachtitle.strip() for eachtitle in title])\n",
    "        \n",
    "    content = obj.xpath(reg_content)\n",
    "    if len(content) == 0:\n",
    "        content = None\n",
    "    else:\n",
    "        content = '\\n'.join([eachii.strip() for eachii in content])\n",
    "#     print(title)\n",
    "#     print(content)\n",
    "    \n",
    "    reg_name = '//dt//text()'\n",
    "    reg_value = re.compile('<dd>(.*?)</dd>', re.S)\n",
    "    name = obj.xpath(reg_name)\n",
    "    final_item = None\n",
    "    if len(name) != 0:\n",
    "        value = re.findall(reg_value, html)\n",
    "#         print(value)\n",
    "        final_item = ''\n",
    "        for item_name, item_value in zip(name, value):\n",
    "            medir = '\\n'.join([eachitem.strip() for eachitem in  item_value.split('\\n') if '>' not in eachitem])\n",
    "            final_item += item_name.strip() + ': ' + medir + '\\n'\n",
    "        final_item.strip('\\n')\n",
    "    \n",
    "    return [final_stats, title, content, final_item]"
   ]
  },
  {
   "cell_type": "code",
   "execution_count": 21,
   "metadata": {
    "ExecuteTime": {
     "end_time": "2019-06-11T15:48:43.961577Z",
     "start_time": "2019-06-11T15:48:43.955113Z"
    }
   },
   "outputs": [],
   "source": [
    "def getLinks(html):\n",
    "    items = html['pages']\n",
    "    finalResult = []\n",
    "    for item in items:\n",
    "        headline = item['headline']\n",
    "        subhead = item['subhead']\n",
    "        lede = item['lede']\n",
    "        link = 'https://www.stantec.com' + item['link']\n",
    "        inner_html = getHtml(link).text\n",
    "        inner_result = getInfo(inner_html)\n",
    "        hbc = [headline, subhead, lede,link]\n",
    "        hbc.extend(inner_result)\n",
    "        finalResult.append(hbc)\n",
    "    return finalResult"
   ]
  },
  {
   "cell_type": "code",
   "execution_count": 22,
   "metadata": {
    "ExecuteTime": {
     "end_time": "2019-06-11T15:51:01.748106Z",
     "start_time": "2019-06-11T15:48:47.378164Z"
    }
   },
   "outputs": [],
   "source": [
    "baseUrl = 'https://www.stantec.com/content/stantec/en/services/architecture-interior-design/projects/_jcr_content.more.json'\n",
    "param = {'currPage':1}\n",
    "Original = getHtml(baseUrl, params = param).json()\n",
    "total = Original['totalResults']\n",
    "numbers =  total // 42 + 1\n",
    "\n",
    "Result = []\n",
    "for ii in range(1, numbers + 1):\n",
    "    param = {'currPage':ii}\n",
    "    ii_html = getHtml(baseUrl, params = param).json()\n",
    "    joke = getLinks(ii_html)\n",
    "    \n",
    "    Result.extend(joke)"
   ]
  },
  {
   "cell_type": "code",
   "execution_count": 24,
   "metadata": {
    "ExecuteTime": {
     "end_time": "2019-06-11T15:51:26.543395Z",
     "start_time": "2019-06-11T15:51:26.524054Z"
    }
   },
   "outputs": [],
   "source": [
    "dataSave = pd.DataFrame(Result, columns = ['Headline', 'Subhead', 'Lede','Link','Stats', 'Title', 'Content', 'Item'])\n",
    "dataSave.to_csv('../Stantec.csv', index = False)"
   ]
  },
  {
   "cell_type": "code",
   "execution_count": null,
   "metadata": {},
   "outputs": [],
   "source": []
  }
 ],
 "metadata": {
  "kernelspec": {
   "display_name": "Python 3",
   "language": "python",
   "name": "python3"
  },
  "language_info": {
   "codemirror_mode": {
    "name": "ipython",
    "version": 3
   },
   "file_extension": ".py",
   "mimetype": "text/x-python",
   "name": "python",
   "nbconvert_exporter": "python",
   "pygments_lexer": "ipython3",
   "version": "3.6.2"
  },
  "toc": {
   "base_numbering": 1,
   "nav_menu": {},
   "number_sections": true,
   "sideBar": true,
   "skip_h1_title": false,
   "title_cell": "Table of Contents",
   "title_sidebar": "Contents",
   "toc_cell": false,
   "toc_position": {},
   "toc_section_display": true,
   "toc_window_display": false
  },
  "varInspector": {
   "cols": {
    "lenName": 16,
    "lenType": 16,
    "lenVar": 40
   },
   "kernels_config": {
    "python": {
     "delete_cmd_postfix": "",
     "delete_cmd_prefix": "del ",
     "library": "var_list.py",
     "varRefreshCmd": "print(var_dic_list())"
    },
    "r": {
     "delete_cmd_postfix": ") ",
     "delete_cmd_prefix": "rm(",
     "library": "var_list.r",
     "varRefreshCmd": "cat(var_dic_list()) "
    }
   },
   "types_to_exclude": [
    "module",
    "function",
    "builtin_function_or_method",
    "instance",
    "_Feature"
   ],
   "window_display": false
  }
 },
 "nbformat": 4,
 "nbformat_minor": 2
}
