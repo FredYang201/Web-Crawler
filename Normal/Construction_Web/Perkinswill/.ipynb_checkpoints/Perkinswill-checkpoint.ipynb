{
 "cells": [
  {
   "cell_type": "code",
   "execution_count": 1,
   "metadata": {
    "ExecuteTime": {
     "end_time": "2019-06-05T16:36:30.163181Z",
     "start_time": "2019-06-05T16:36:29.827657Z"
    }
   },
   "outputs": [],
   "source": [
    "import requests\n",
    "import re\n",
    "from lxml import etree"
   ]
  },
  {
   "cell_type": "code",
   "execution_count": 2,
   "metadata": {
    "ExecuteTime": {
     "end_time": "2019-06-05T16:36:32.178176Z",
     "start_time": "2019-06-05T16:36:32.172720Z"
    }
   },
   "outputs": [],
   "source": [
    "def getHtml(url):\n",
    "    response = requests.get(url)\n",
    "    response.encoding = response.apparent_encoding\n",
    "    return response.text"
   ]
  },
  {
   "cell_type": "code",
   "execution_count": 3,
   "metadata": {
    "ExecuteTime": {
     "end_time": "2019-06-05T16:36:38.147319Z",
     "start_time": "2019-06-05T16:36:34.927430Z"
    }
   },
   "outputs": [
    {
     "name": "stdout",
     "output_type": "stream",
     "text": [
      "['https://perkinswill.com/work/alice-m-young-neighborhood-branch-library', 'https://perkinswill.com/work/100-hooper', 'https://perkinswill.com/work/100-north-riverside-plaza.html', 'https://perkinswill.com/work/140-new-montgomery', 'https://perkinswill.com/work/150-holborn', 'https://perkinswill.com/work/15th-and-market', 'https://perkinswill.com/work/191-spring-street', 'https://perkinswill.com/work/201-seventeenth-street.html', 'https://perkinswill.com/work/235-w.-van-buren.html']\n",
      "[' Alice M. Young Neighborhood Branch Library', '100 Hooper', '100 North Riverside Plaza', '140 New Montgomery', '150 Holborn', '15th and Market', '191 Spring Street', '201 Seventeenth Street', '235 W. Van Buren']\n"
     ]
    }
   ],
   "source": []
  },
  {
   "cell_type": "code",
   "execution_count": 122,
   "metadata": {
    "ExecuteTime": {
     "end_time": "2019-06-06T00:04:28.158203Z",
     "start_time": "2019-06-06T00:04:28.121996Z"
    }
   },
   "outputs": [],
   "source": [
    "def processItem(html):\n",
    "    Title = html.xpath('//div[@class=\"project-description__title\"]/text()')\n",
    "    if len(Title) == 0:\n",
    "        Title = None\n",
    "    else:\n",
    "        Title = Title[0]\n",
    "\n",
    "    subTitle = html.xpath('//div[@class=\"field-subtitle\"]/text()')\n",
    "    if len(subTitle) == 0:\n",
    "        subTitle = None\n",
    "    else:\n",
    "        subTitle = subTitle[0].strip()\n",
    "\n",
    "    Location = html.xpath(\n",
    "        '//div[@class=\"project-description__location\"]/text()')\n",
    "    if len(Location) == 0:\n",
    "        Location = None\n",
    "    else:\n",
    "        Location = Location[0].strip()\n",
    "\n",
    "    Stats = html.xpath(\n",
    "        '//div[@class=\"project-description__statistics\"]/text()')\n",
    "    if len(Stats) == 0:\n",
    "        Stats = None\n",
    "    else:\n",
    "        Stats = '\\n'.join([each.strip() for each in Stats])\n",
    "\n",
    "    Descr = html.xpath('//div[@class=\"project-description__body\"]/p/text()')\n",
    "    if len(Descr) == 0:\n",
    "        Descr = None\n",
    "    else:\n",
    "        Descr = '\\n'.join([each.strip() for each in Descr])\n",
    "\n",
    "    types = html.xpath('//h2[text()=\"Type\"]/text()')\n",
    "    if len(types) == 0:\n",
    "        typeItem = None\n",
    "    else:\n",
    "        typeItem = html.xpath(\n",
    "            '//div[contains(@class, \"views-field-is-\")]//a/text()')\n",
    "        typeItem = '\\n'.join([each.strip() for each in typeItem])\n",
    "\n",
    "    services = html.xpath('//h2[text()=\"Service\"]/text()')\n",
    "    if len(services) == 0:\n",
    "        serviceItem = None\n",
    "    else:\n",
    "        serviceItem = html.xpath(\n",
    "            '//div[@class=\"views-field views-field-name\"]//a/text()')\n",
    "        serviceItem = '\\n'.join([each.strip() for each in serviceItem])\n",
    "\n",
    "    peoples = html.xpath('//h2[text()=\"People\"]/text()')\n",
    "    if len(peoples) == 0:\n",
    "        peopleItem = None\n",
    "    else:\n",
    "        peopleItem = html.xpath(\n",
    "            '//div[@class=\"views-field views-field-title\"]//a/text()')\n",
    "        peopleItem = '\\n'.join([each.strip() for each in peopleItem])\n",
    "\n",
    "    newItem = html.xpath('//span[@class=\"news--title\"]/text()')\n",
    "    if len(newItem) == 0:\n",
    "        newItem = None\n",
    "    else:\n",
    "        newItem = '\\n'.join([each.strip() for each in newItem])\n",
    "\n",
    "    finalItem = [Title, subTitle, Location, Stats, Descr,\n",
    "                 typeItem, serviceItem, peopleItem, newItem]\n",
    "    finalNames = ['Title', 'SubTitle', 'Location', 'Statistics',\n",
    "                  'Description', 'Type', 'Service', 'People', 'News']\n",
    "    return finalItem, finalNames"
   ]
  },
  {
   "cell_type": "code",
   "execution_count": 123,
   "metadata": {
    "ExecuteTime": {
     "end_time": "2019-06-06T00:04:46.917638Z",
     "start_time": "2019-06-06T00:04:30.461426Z"
    }
   },
   "outputs": [
    {
     "name": "stdout",
     "output_type": "stream",
     "text": [
      "[[' Alice M. Young Neighborhood Branch Library', 'City of Houston', 'Houston, Texas', None, 'The one-story, 16,000 square foot Alice M. Young Neighborhood Branch Library replaces an existing storefront library in the nearby Palm Center shopping mall.  This library will serve as a vital community center for the residents of the OST/South Union neighborhood of Houston.  It is located adjacent to a commuter rail line, bus stops, and pedestrian walkways on a formerly blighted corner property.\\nThrough a series of community meetings, Perkins+Will worked closely with the City of Houston and the Houston Public Library to design a dynamic, technology-intensive facility that promotes interactivity and cutting-edge library service, while promoting efficiency and value.\\nThe branch is on a highly visible corner, and will advertise its services to residents via its striking curved facades and rooflines.  It is anticipated that the replacement Alice M. Young Neighborhood Library will serve as a catalyst for business and cultural growth in its rapidly-changing neighborhood.', 'Civic + Cultural\\nLibraries', 'Architecture', 'Phil Callison\\nJohn Strasius', None], ['100 Hooper', 'Kilroy Realty/ SFMade', 'San Francisco, California', '2018, 438,000 GSF, LEED Platinum in Process', 'We are the design architect for 100 Hooper, which replaces an existing mini-storage facility with the construction of a new 427,255 sf manufacturing and office project composed of three 4-story buildings. One building will be dedicated to providing space for local manufacturers while the other two buildings will feature additional ground-floor manufacturing space with office and/or institutional uses above. The mix of office and manufacturing uses comes alive in a central alley and plaza, designed with flexibility and durability in mind. The adjacent California College of Arts and Crafts offers opportunities for students as well as recent graduates to explore and develop innovative ideas. Likewise, local businesses can take advantage of the manufacturing campus atmosphere, cross pollinating with other makers and businesses. In the upper floors, open floor plates afford views of downtown and the bay, enjoying easy freeway access and proximity to Mission Bay and Potrero Hill.', 'Corporate + Commercial\\nMixed-use Developments', 'Architecture', 'Peter Pfau', None], ['100 North Riverside Plaza', None, 'Chicago, Illinois', 'Awards:\\nNational Honor Award, 1993, AIA\\n\\n', 'The design for this 36-story high-rise allows varied program requirements to be expressed throughout separate components that solve functional problems. The site is an air-rights site over an operating railroad yard, situated along the west side of the Chicago River, and across from the downtown \"Loop.\" The program consists of a leasable 23-story tower, a 6-story data center for Illinois Bell Telephone with higher floor-to-floor height requirements, a parking garage for 435 cars and a street-level restaurant.\\nDeveloped in response to the clearance requirements of commuter rail lines crossing the site, the structural system uses steel trusses to support the suspended southwest corner of the 36-story, 1,100,000 square foot building. The success of this system earned the Structural Engineers Association of Illinois\\' \"Most Innovative\" Design Award.', 'Corporate + Commercial\\nCorporate', 'Architecture', None, 'Ahoy, Chicago! Perkins+Will Projects in the Windy City'], ['140 New Montgomery', None, 'San Francisco, California', 'Completion Date: 2014\\n\\n', 'Designed by noted art deco architect Timothy Pflueger in 1925, 140 New Montgomery was a daring structure, one of the tallest skyscrapers on the West Coast at the time of its construction. Originally home to the Pacific Telephone & Telegraph Company, this 26-story terra cotta and granite building includes a richly detailed historic facade and dramatic lobby and stands as one of the most iconic structures in downtown San Francisco. Wilson Meany, LLC and Stockbridge Capital Group purchased 140 New Montgomery in 2007. They then engaged Perkins+Will to revitalize the building, restore it to its former grandeur and position the building as a state-of-the-art contemporary office building.\\nOur preservation strategy incorporates contemporary details and systems while highlighting the building’s unique character and preserving key spaces. Along with the repair and renovation of the building’s signature lobby, we transformed the former service courtyard behind the building into a lushly planted sculpture garden and dining area for two high-end restaurants that will occupy the ground floor retail spaces. Further amenities include extensive employee bike parking and showers, a restored historic central stair for tenant circulation, and the re-use of historic wood doors throughout the building. The new garden and outdoor dining areas, community-serving retail along the street frontages, and new exterior entries and lighting provide a visible and welcoming presence both night and day, on the street, in the neighborhood, and in the city.\\nThe centerpiece of the renovation is the development of a highly flexible office floor plan. By reworking the building cores, reducing the number of elevators by providing destination control, and maintaining the historic central stair, we have maximized access to light, air, and views and provided flexibility for a variety of office layouts. Building system upgrades, developed in close collaboration with the client and contractor, include an innovative seismic strengthening scheme, contemporary life-safety systems, highly efficient, sustainable mechanical systems, and new high performance operable windows. The building was a telecommunications marvel upon its completion in 1925. Today 140 New Montgomery celebrates \"The Art of Work\" and 21st Century technology, and has become a highly sought-after address for visionary tenants seeking flexible, efficient and innovative work spaces in a beautiful legacy building.', 'Corporate + Commercial\\nCommercial', 'Architecture\\nCommercial Interiors\\nReuse + Transformation', None, 'San Francisco Business Times Interviews Cathy Simon on California Drought\\nPerkins+Will Revitalizes San Francisco’s Iconic Art Deco Skyscraper\\n140 New Montgomery: A San Francisco Landmark Reborn for the Tech Age\\nThe New York Times Reports on 140 New Montgomery\\nThe Atlantic Explores the History of 140 New Montgomery\\nNational Public Radio Interviews Cathy Simon about 140 New Montgomery'], ['150 Holborn', None, 'London, United Kingdom', 'Suze: 185,247 sqft\\nBREEAM: Excellent\\nLEED: Platinum\\nSKA Gold', '150 Holborn, a new European headquarters, is a landmark development in burgeoning ‘Midtown’ London due on site early 2018. A long overdue new-build replacement of a 1980’s office block, its 18,000 square metres is set over nine stories and will be robust and unique enough to act as an exemplar HQ, whilst being flexible enough to act as an outstanding spec office building. The new building with retail at ground floor level will be supported by an adjacent residential block comprising 13no. one and two-bedroom private residential apartments.', 'Corporate + Commercial\\nCommercial', 'Architecture\\nInterior Design', 'Chris Brandon\\nLinzi Cassels', None], ['15th and Market', 'Martin Selig Real Estate', 'Seattle, Washington', 'Completion date: 2019\\nProject size: 250,000 square feet', \"15th and Market provides a workplace environment at the corner gateway to one of the most popular residential and retail neighborhoods in Seattle. The large floor plates feature access to a central south facing courtyard and two story lobby spaces at each key corner. The design honors the Ballard community's maritime and industrial history and neighborhood context with a simple and robust masonry expression detailed and modulated in a contemporary manner.\", 'Corporate + Commercial\\nCommercial\\nCorporate\\nReuse + Transformation\\nAdaptive Reuse\\nArchitecture', '', 'Brad Hinthorne\\nErik Mott', None], ['191 Spring Street', 'Boston Properties', 'Lexington, Massachusetts', 'April 2018, 200,000 square feet', '191 Spring Street is the remarkable transformation of a 1960s, brutalist-era concrete structure in Lexington, MA. Breathing fresh life in the great bones of this building, the repositioning delivers a new destination for refined, Class-A multi-tenant office space at the intersection of major regional transit. Its refined detailing recalls a modern, industrial aesthetic that elegantly complements and strengthens the existing architecture. The building and the tenant space is transformed through transparency. Conversion of the building’s opaque, exterior mechanical shafts into multi-story glazing, presents improved interior workspace and a new identity for both building and tenants alike. The entirety of the ground floor was reconfigured to present a new building entrance and visitor drop-off with new building lobby and café immediately inside to greet visitors.\\nNew amenities include an innovation center, fitness center, café, roof terrace and newly landscaped patios; creating new spaces to work and play while enriching their workplace environment. Focusing on a mission of creating healthy workplaces, the project introduced a basketball court, workout room and yoga studio along with individual shower pods, combining into a fitness center perfectly situated for arrival via bike, or as a launching point for lunchtime exercise around the campus.', '', 'Corporate + Commercial\\nArchitecture', 'Robert Brown', None], ['201 Seventeenth Street', None, 'Atlanta, Georgia', 'Completion Date: 2007\\nSquare Footage: 323,000\\nLEED NC Gold', \"This new LEED Gold, 323,000 square foot, 15-story, Class A office building is located in Atlanta's Atlantic Station development, a large brownfield remediation project. The design intent was to create a jewel box with finely crafted spaces so that the building would stand out among the towering skyline. One of the major features of the building is an accessible roof garden protected and shaded by a steel space frame canopy clad with ceramic frit-coated laminated glass.\\nParking is accommodated on three structured levels immediately below the footprint of the building. Two elevators shuttle pedestrians from parking areas to the building lobby and retail space that occupies the street level of the building.\", 'Corporate + Commercial\\nCommercial', 'Architecture', 'Manuel Cadrecha', 'Video: 201 Seventeenth Street'], ['235 W. Van Buren', None, 'Chicago, Illinois', 'Completion Date: 2009\\nSquare Footage: 740,000', \"Following the successful completion of the Contemporaine condominium building, we were selected again by CMK Development Corporation to design a 740,000 square foot residential building in Chicago's financial district.\\nThis building is situated on a prime site that serves as a threshold to the city from the Eisenhower Expressway and is one of the first things people see as they arrive downtown. The predominantly glass southern facade corresponds to the commercial buildings of the Chicago skyline to the north while the dynamic expression of the cantilevered balconies adds a residential scale. In contrast, the articulation of concrete and glass of the north façade blends well with the residential background of the South Loop Neighborhood.\\nThe 714 condominium units are designed to target first-time homeowners. Typical 1-2 bedroom units range in size from 580 to 1,800 square feet. The 47-story tower contains 650,000 square feet of residential space and provides 11 floors of parking for a total of 572 spaces. The first and second floors of the building house approximately 10,000 square feet of retail space.\", 'Corporate + Commercial\\nCommercial\\nMulti-family Residential', 'Architecture', 'Ralph Johnson', \"Johnson's Stacks Van Buren featured in Chicago Magazine\"]]\n"
     ]
    }
   ],
   "source": [
    "baseUrl = 'https://perkinswill.com/work/Architecture?'\n",
    "baseHtml = getHtml(baseUrl)\n",
    "baseOri = etree.HTML(baseHtml)\n",
    "resultInnerURL = baseOri.xpath('//span[@class=\"field-content\"]/a/@href')\n",
    "resultTitle = baseOri.xpath('//span[@class=\"field-content\"]/a/text()')\n",
    "resultURL = ['https://perkinswill.com' + each for each in resultInnerURL]\n",
    "\n",
    "Results = []\n",
    "Names = []\n",
    "for url in resultURL:\n",
    "    innerHtml = etree.HTML(getHtml(url))\n",
    "    innerResult, innerName = processItem(innerHtml)\n",
    "    Results.append(innerResult)\n",
    "    Names.append(innerName)\n",
    "print(Results)"
   ]
  },
  {
   "cell_type": "code",
   "execution_count": 126,
   "metadata": {
    "ExecuteTime": {
     "end_time": "2019-06-06T00:09:16.138150Z",
     "start_time": "2019-06-06T00:09:16.108886Z"
    }
   },
   "outputs": [],
   "source": [
    "import pandas as pd\n",
    "data = pd.DataFrame(Results, columns = Names[0])\n",
    "data.to_csv(r'C:/Users/fred/desktop/Perkinswill.csv', index = False)"
   ]
  },
  {
   "cell_type": "code",
   "execution_count": null,
   "metadata": {},
   "outputs": [],
   "source": []
  }
 ],
 "metadata": {
  "kernelspec": {
   "display_name": "Python 3",
   "language": "python",
   "name": "python3"
  },
  "language_info": {
   "codemirror_mode": {
    "name": "ipython",
    "version": 3
   },
   "file_extension": ".py",
   "mimetype": "text/x-python",
   "name": "python",
   "nbconvert_exporter": "python",
   "pygments_lexer": "ipython3",
   "version": "3.6.2"
  },
  "toc": {
   "base_numbering": 1,
   "nav_menu": {},
   "number_sections": true,
   "sideBar": true,
   "skip_h1_title": false,
   "title_cell": "Table of Contents",
   "title_sidebar": "Contents",
   "toc_cell": false,
   "toc_position": {},
   "toc_section_display": true,
   "toc_window_display": false
  },
  "varInspector": {
   "cols": {
    "lenName": 16,
    "lenType": 16,
    "lenVar": 40
   },
   "kernels_config": {
    "python": {
     "delete_cmd_postfix": "",
     "delete_cmd_prefix": "del ",
     "library": "var_list.py",
     "varRefreshCmd": "print(var_dic_list())"
    },
    "r": {
     "delete_cmd_postfix": ") ",
     "delete_cmd_prefix": "rm(",
     "library": "var_list.r",
     "varRefreshCmd": "cat(var_dic_list()) "
    }
   },
   "types_to_exclude": [
    "module",
    "function",
    "builtin_function_or_method",
    "instance",
    "_Feature"
   ],
   "window_display": false
  }
 },
 "nbformat": 4,
 "nbformat_minor": 2
}
