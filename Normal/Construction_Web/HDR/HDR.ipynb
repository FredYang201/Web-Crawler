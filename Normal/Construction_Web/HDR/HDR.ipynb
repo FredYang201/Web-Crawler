{
 "cells": [
  {
   "cell_type": "code",
   "execution_count": 1,
   "metadata": {
    "ExecuteTime": {
     "end_time": "2019-06-09T21:07:02.206292Z",
     "start_time": "2019-06-09T21:07:01.171414Z"
    }
   },
   "outputs": [],
   "source": [
    "import requests\n",
    "import pandas as pd\n",
    "from lxml import etree\n",
    "import re"
   ]
  },
  {
   "cell_type": "code",
   "execution_count": 2,
   "metadata": {
    "ExecuteTime": {
     "end_time": "2019-06-09T21:12:06.710144Z",
     "start_time": "2019-06-09T21:12:06.704192Z"
    }
   },
   "outputs": [],
   "source": [
    "def getHtml(url):\n",
    "    header = {\n",
    "        'authority': 'www.hdrinc.com',\n",
    "        'cookie': '_ga=GA1.2.1294019488.1560113939; _gid=GA1.2.582636237.1560113939; _hjIncludedInSample=1; cookie-agreed=2; _gat_UA-12552034-1=1',\n",
    "        'user-agent': 'Mozilla/5.0 (Windows NT 10.0; Win64; x64) AppleWebKit/537.36 (KHTML, like Gecko) Chrome/75.0.3770.80 Safari/537.36'\n",
    "            }\n",
    "    response = requests.get(url, headers = header)\n",
    "    response.encoding = response.status_code\n",
    "    return response"
   ]
  },
  {
   "cell_type": "code",
   "execution_count": 142,
   "metadata": {
    "ExecuteTime": {
     "end_time": "2019-06-09T22:53:39.241519Z",
     "start_time": "2019-06-09T22:53:39.236064Z"
    }
   },
   "outputs": [],
   "source": [
    "def processItem(stuff):\n",
    "    if len(stuff) == 0:\n",
    "        return None\n",
    "    else:\n",
    "        return '\\n'.join([each.strip() for each in stuff]).replace('m²','m2')"
   ]
  },
  {
   "cell_type": "code",
   "execution_count": 143,
   "metadata": {
    "ExecuteTime": {
     "end_time": "2019-06-09T22:53:40.804985Z",
     "start_time": "2019-06-09T22:53:40.797049Z"
    }
   },
   "outputs": [],
   "source": [
    "def getInfo(html):\n",
    "    info_obj = etree.HTML(html)\n",
    "    reg_content = '//div[1][@class=\"field field--name-body field--type-text-with-summary field--label-hidden field__item\"]'\n",
    "    reg_size = '//div[@class=\"field field--name-field-project-size field--type-string field--label-above\"]//div[@class=\"field__item\"]/text()'\n",
    "    reg_certification = '//div[@class=\"field field--name-field-project-certifications field--type-string field--label-above\"]//div[@class=\"field__item\"]//text()'\n",
    "    reg_markets = '//div[@class=\"field field--name-field-markets field--type-entity-reference field--label-above\"]//div[@class=\"field__item\"]//text()'\n",
    "    reg_services = '//div[@class=\"field field--name-field-services field--type-entity-reference field--label-above\"]//div[@class=\"field__item\"]//text()'\n",
    "    reg_subservices ='//div[@class=\"field field--name-field-subservices field--type-entity-reference field--label-above\"]//div[@class=\"field__item\"]//text()'\n",
    "    \n",
    "    content_tag = info_obj.xpath(reg_content)[0]\n",
    "    content = content_tag.xpath('//p//text()')\n",
    "    content = processItem(content[:-7])\n",
    "\n",
    "    sizes = info_obj.xpath(reg_size)\n",
    "    sizes = processItem(sizes)\n",
    "     \n",
    "    certifications = info_obj.xpath(reg_certification)\n",
    "    certifications = processItem(certifications)\n",
    "    \n",
    "    markets = info_obj.xpath(reg_markets)\n",
    "    markets = processItem(markets)\n",
    "        \n",
    "    services = info_obj.xpath(reg_services)\n",
    "    services = processItem(services)\n",
    "      \n",
    "    subservices = info_obj.xpath(reg_subservices)\n",
    "    subservices = processItem(subservices)\n",
    "     \n",
    "    return [sizes, markets, services, subservices,certifications,content]"
   ]
  },
  {
   "cell_type": "code",
   "execution_count": 125,
   "metadata": {
    "ExecuteTime": {
     "end_time": "2019-06-09T22:42:40.301394Z",
     "start_time": "2019-06-09T22:42:40.286516Z"
    }
   },
   "outputs": [],
   "source": [
    "def getLinks(html):\n",
    "    obj = etree.HTML(html)\n",
    "    reg_link = '//td[@headers=\"view-title-table-column\"]/a/@href'\n",
    "    reg_title = '//td[@headers=\"view-title-table-column\"]/a/text()'\n",
    "    reg_location = '//td[@headers=\"view-field-location-table-column\"]//span/text()'\n",
    "    reg_client = '//td[@headers=\"view-field-project-client-table-column\"]//text()'\n",
    "    \n",
    "    titles = obj.xpath(reg_title)\n",
    "    \n",
    "    locations = obj.xpath(reg_location)\n",
    "    length = int(len(locations) / 3)\n",
    "    location = []\n",
    "    for i in range(length):\n",
    "        location.append(locations[3*i].strip() + ', ' + locations[3*i + 1].strip() + ' '+ locations[3*i + 2].strip()) \n",
    "    locations = location\n",
    "    \n",
    "    clients = obj.xpath(reg_client)\n",
    "    clients = [each.strip() for each in clients]\n",
    "    \n",
    "    links = obj.xpath(reg_link)\n",
    "    base_link = 'https://www.hdrinc.com'\n",
    "    next_links = [base_link + each for each in links]\n",
    "    \n",
    "    finalResult = []\n",
    "    \n",
    "    for order, single in enumerate(next_links):\n",
    "        single_html = getHtml(single).text\n",
    "        result = getInfo(single_html)\n",
    "        single_result = [titles[order], locations[order], clients[order]]\n",
    "        single_result.extend(result)\n",
    "        finalResult.append(single_result)\n",
    "    return finalResult"
   ]
  },
  {
   "cell_type": "code",
   "execution_count": 11,
   "metadata": {
    "ExecuteTime": {
     "end_time": "2019-06-09T21:51:46.206420Z",
     "start_time": "2019-06-09T21:51:45.037713Z"
    }
   },
   "outputs": [
    {
     "name": "stdout",
     "output_type": "stream",
     "text": [
      "[]\n"
     ]
    }
   ],
   "source": [
    "url = 'https://www.hdrinc.com/portfolio-list?market=&service=97&location=US'\n",
    "orig = getHtml(url).text"
   ]
  },
  {
   "cell_type": "code",
   "execution_count": 144,
   "metadata": {
    "ExecuteTime": {
     "end_time": "2019-06-09T22:53:43.493002Z",
     "start_time": "2019-06-09T22:53:42.396893Z"
    }
   },
   "outputs": [
    {
     "name": "stdout",
     "output_type": "stream",
     "text": [
      "[['Arizona State University Ross-Blakley Hall', 'Tempe, AZ United States', 'Arizona State University', '68,000 SF (539 m2)', 'Education\\nHigher Education', 'Architecture\\nPlanning & Consulting', None, None, 'HDR has completed renovations of Ross-Blakley (a former law library) and Armstrong Hall to transform the dated spaces into a beautiful new home for the College of Liberal Arts.\\nRoss-Blakley Hall is a three-story steel structure building with a partial basement. The repurposed space provides both open grad student and private faculty office spaces for the Department of English. The workplaces are focused on enhancing collaboration among the grad students and interaction of students\\xa0and faculty while improving ADA and universal design.'], ['Arizona State University Armstrong Hall', 'Tempe, AZ United States', 'Arizona State University', '100,000 SF (9,290 m2)', 'Education\\nHigher Education', 'Architecture\\nPlanning & Consulting', None, None, 'HDR has completed renovations of Armstrong Hall (a former law school) and Ross-Blakley Hall to transform\\xa0the dated spaces into a beautiful new home for the College of Liberal Arts.\\nArmstrong Hall is a two-story concrete and steel structure with a partial basement. The building is zoned into two main areas:\\nThe team was able to reuse existing materials such as the original terrazzo flooring and brick.'], ['South Placer County Arraignment Court Fit-Out', 'Roseville, CA United States', 'Placer County', '10,800 SF (1,003 m2)', 'Justice\\nCourts', 'Architecture', 'MEP-Mechanical Electrical Plumbing', 'LEED Certified Silver', 'HDR completed Phase 1 of the new South Placer Adult Correctional Facility in 2015, with a master plan that addressed growth needs including an arraignment court and additional housing units. The initial\\n192,000 square-foot, LEED Silver certified facility included cold shell space for the arraignment court and related services.\\nThis fit-out provided the arraignment courtroom, judge’s chambers, public entrance and courtroom access, lobby security, screening and interview rooms, secure custody gallery and prisoner box offices, secured holding facilities and MEP services.'], ['MG McGrath Office Fit-Out', 'Maplewood, MN United States', 'MG McGrath', '16,660 SF (1,548 m2)', 'Workplace', 'Architecture', 'Interiors', None, 'MG McGrath, an award-winning architectural surfaces company, has grown into a top-100 Minnesota company recognized for their collaborative work culture and ability to leverage a talented staff to achieve amazing results. After an extensive rebranding effort that reimagined the company’s image and logo, MG McGrath worked with HDR to create a concept for their offices that embraces and celebrates their commitment to excellence and collaboration. What was originally a 2,000 SF fit-out of their shop space, evolved into 16,660 SF of redesigned office space that speaks seamlessly to their brand.\\nOur team proposed that MG McGrath\\xa0think of their offices as a tool to showcase their expertise and highlight their capabilities. Inspiration for the design came directly from studying the unique detailing evident in their work. A series of undulating metal panels creates a flow of visual movement from the moment one arrives at the lobby; cascading from wall to ceiling, the interconnected panels provide an exciting reminder of the intricate architectural detail that MG McGrath is capable of providing.\\nThe office layout is enlivened by open areas that allow daylight to penetrate deep into the space and provide views to the outdoors. Internal gathering spaces are marked by tessellating clouds consisting of both perforated dark metal and backlit panels, a continued reminder of the\\ncompany’s manufacturing expertise.'], ['Sam Houston State University, Life Sciences Building', 'Huntsville, TX United States', 'Sam Houston State University', '97,050 SF (9,016 m2)', 'Science\\nLife Sciences\\nEducation\\nHigher Education', 'Architecture\\nPlanning & Consulting', None, None, 'Designed around three biology disciplines — molecular, systemic\\xa0and environmental — the new Biology Laboratory Building contains modern teaching and research labs and collaboration areas to enhance STEM educational trends toward active and team-based learning. This modern design positions\\nSam Houston State University\\nto expand their biology program by providing much needed space and updated technology.'], ['Eppley Airfield Parking Garage Expansion and Customer Service Building', 'Omaha, NE United States', 'Omaha Airport Authority', '2,200 stalls', 'Transportation\\nAviation', 'Architecture\\nPlanning & Consulting', 'Interiors\\nTransportation Planning', None, 'One of the fastest-growing airports in the United States in terms of passenger capacity, Omaha’s Eppley Airfield has seen its passenger numbers rise steadily in recent years. To keep pace with that growth, the airport saw an urgent need for a new parking facility and customer service building.\\nHDR partnered with Walker Parking Consultants to provide architectural design for the $66 million project, which includes a new 2,200-space, six-level parking garage, an enclosed walkway to the terminal and the relocation of rental car properties.\\nCurrently, there are times when the airport’s main parking garage is full, requiring drivers to take a shuttle to the terminal from outlying lots. The new structure will provide more convenient, easier access to the terminal for passengers, and the enclosed walkway will protect them from the elements.\\nMaterials for the structure were chosen to support the overall goals of the project: low maintenance and life-cycle costs in a secure and attractive addition to the airport campus. The new garage facade consists of perforated aluminum panels of varying transparencies. Bumpers for parked cars use a combination of an 11-strand cable tension system and/or precast concrete panels.\\nThe first level of the garage will provide security for rental cars as well as clearly define entry and exit points.\\nThe customer service building will be a replacement facility for the current customer service counter, which is located on the ground floor of the terminal building. The new facility will be located along the pedestrian path of travel at the concourse level, elevated above the street, aligning with the third level of the new garage.\\nThe structure is expected to be complete in fall 2019.'], ['Intermountain Healthcare Dixie Regional Medical Center ', 'St. George, UT United States', 'Intermountain Healthcare', '335,000 SF (31,122 m2) New Construction / 46,000 SF (4,273 m2) Renovation', 'Health\\nAcute Care\\nAmbulatory Care', 'Architecture\\nPlanning & Consulting', 'Functional & Space Programming\\nMaster Planning', None, 'Nestled into the Virgin River Gorge on a dramatic site among the Red Cliffs, Dixie Regional Medical Center (DRMC) consolidates two campuses into a single, multi-service, easy-to-navigate campus. Intermountain’s mission of helping people live the healthiest lives possible is realized in their LiveWell program. The program focuses on four components: Eat Well, Move Well, Feel Well, and Be Well.\\nSeveral steps were taken to ensure the program was enabled through design by improving the ability to move physically throughout the campus. A walking path extends around the campus with greenery and markers that detail travel distances to desired locations. LiveWell signs that deliver ways to stay healthy in your life hang on the walls of all campus buildings and open staircases encourage patients to take the stairs when possible were included.\\nCherished by its community, medical staff and patients since the 1930s, Intermountain Healthcare’s DRMC\\xa0is the prominent care provider for Northwestern Arizona, Southeastern Nevada and Southern Utah. In response to increased demand and changing community needs, DRMC set the course for an expansion of the facility and the implementation of new healthcare technologies to continue its mission to serve the surrounding population from its dramatic site among the Red Cliffs of St. George, Utah.\\nThe people of St. George are very active in the surrounding landscape of mountains, cliffs, rivers and trails. Inspired by the striation cut into the cliffs by the Virgin River, elements of nature were assigned to each of the five levels, starting with pebbles of the riverbed on the lower level, then river and water, followed by trail at the next level, then rock layers that make the cliffs of the riverside, and finally waterfall at the top level, reflecting the local environment within the facility.\\nOur design team reimagined an approach to campus growth that capitalized on what patients and visitors already loved about DRMC — its small scale and easy wayfinding. Two campuses were consolidated into the new facility at River Road, sized to relocate and expand acute-care services as well as make room for a newly designed Women & Newborn Center.\\nThe DRMC campus transformation is the largest project in southern Utah and not only increases the medical center to a Level II trauma center, but also brings the first integrated MRI to the state of Utah.\\nThe final master plan consisted of two separate bed towers: One at the northwest corner for the Women & Newborn services and another at the southeast corner expanding adult services from the existing bed tower. The Intermountain Cancer Center, designed to place cancer treatment and research under one roof, rests adjacent to the main campus.\\nEvolving the master plan from one large project to three smaller ones allows the existing infrastructure and support services — such as the clinical lab, loading dock and food service — to more seamlessly handle the increased capacity and expanded distribution.\\nNew site developments include increased parking, wellness paths for patients as well as community members, and outdoor dining and recreation spaces — all extending what is already a veritable living museum of trees and plants native to the high desert region.\\nIn this new model, the Women & Newborn Center has developed a distinct identity independent of other service lines. A dedicated entry/drop-off for patients separates these services from the rest of the program, while establishing internal adjacencies such as labor and delivery on the same floor as the NICU, and post-partum care located one floor above.\\nThe interior design creates a calming and user-friendly environment. On-stage/off-stage circulation establishes separate pathways for patient and material flows minimizing noise and eliminating clutter.\\nPatient safety is ensured through decentralized workstations for caregivers which provide high visibility and allow close proximity to patients. All patient care spaces are designed to accommodate a family member for overnight stays, have ample access to daylight and are organized to take full advantage of distant desert mountain views.'], ['Hamilton Center', 'Hamilton, WA United States', 'Forterra', None, 'Community\\nDevelopment\\nRedevelopment & Infill', 'Architecture\\nEconomics\\nEngineering\\nEnvironmental Sciences\\nPlanning & Consulting\\nSustainability & Resiliency', None, None, 'Every fall, the residents of Hamilton, Washington, wonder the same thing — will the Skagit River crest its banks and pour water into their homes and businesses? The answer to that question has been “yes” 25 times in the last century, resulting in\\xa0Federal Emergency Management Agency flood recovery costs of more than $10 million.\\nRegional sustainability non-profit\\nForterra\\nhad a big idea: create a new Hamilton Center in concert with nature using highly sustainable infrastructure. After securing an option to purchase an urban growth area above the flood plain, they brought us on board to conduct a feasibility study and conceptual master plan for infrastructure, land planning and net-zero analysis centered on a stunningly resilient town center surrounded by attainable homes. With leadership from our community designers backed by input from our engineers, environmental scientists, sustainability experts and architects, the outcome is a plan for a triple net-zero community that provides residents an option to affordably move to higher ground.\\nTriple net-zero focuses on achieving net-zero energy, net-zero water and net-zero carbon within a circular economy framework. The feasibility study imagines features like rooftop solar panels for energy, anaerobic bio-digesters to process food waste into fertilizer and a community greenhouse to contribute to the resilient, sustainable approach. Using Hamilton’s rainy climate to support the circular economy, rain and other wastewater could be reclaimed and reused.\\nBy minimizing resource use, the plan for Hamilton improves viability of land development. More than half of the development area is protected as natural land, using design elements that help to recover the ecosystem. The plan maximizes efficiency to make triple net-zero design a feasible part of an affordable housing project.\\nThe sustainable design also protects Hamilton’s neighboring sea life and environment. A collection of agencies coming together to buy out residents who choose to move is also committed to cleaning up flood sites to protect the river’s salmon. The river is the passage to and from the Salish Sea for more than half of Puget Sound’s Chinook salmon — the primary source of food for the region’s struggling Orca whale population. Options for the development include creating a connection with nature through boardwalks across the landscape buffers to wetlands and a nearby stream, as well as habitat passages for elk to pass through the community.'], ['Gilead Campus Modernization', 'Foster City, CA United States', 'Gilead Sciences', None, 'Science\\nLife Sciences\\nWorkplace', 'Architecture\\nPlanning & Consulting', 'Interiors\\nData-Driven Design\\nFunctional & Space Programming', None, 'For nearly 30 years, Gilead has brought life-enhancing and life-saving therapies to patients around the world.\\xa0Their research requires exploration and creativity and both individual and team work. To facilitate this type of work culture, Gilead knew they needed environments that encouraged employees to\\nconnect with each other\\nand do their best work.\\xa0Over the past four\\xa0years, HDR has partnered with Gilead on campus modernization projects that prioritize an engaged workforce and support a high level of innovation, employee engagement\\xa0and productivity.\\nHighlights of the new workplace design include:\\nIn addition to multiple interior design projects across campus, we’ve also used data-driven design tools to provide accurate, real\\n-\\ntime data such as occupancy, capacity, cost, functionality, space assignment\\xa0and reporting possibilities to support Gilead with long-term asset planning.\\nThis ongoing partnership is evolving as Gilead welcomes a new CEO and leadership team. The new corporate vision for agile workplace is expanding to include the global Gilead community.'], ['Cincinnati’s Interstate-71/MLK Interchange Design-Build', 'Cincinnati, OH United States', 'Ohio Department of Transportation', '2 miles of interstate, four ramps, eight bridges', 'Transportation\\nHighways & Roads', 'Architecture\\nEngineering\\nEnvironmental Sciences\\nProject Delivery', 'Infrastructure Design\\nLandscape & Site Design\\nLighting Design\\nSignage & Wayfinding\\nCivil\\nGeotechnical\\nStructural\\nDesign-Build', None, 'Cincinnati city officials believed it was high time for Interstate 71 to better serve the needs of the city’s Uptown residents and businesses. Since the 1970s, I-71 has been a major, regional thoroughfare connecting people and freight from the city’s core with its suburbs in Ohio’s southwest corridor. However, this same thoroughfare had separated neighborhoods and limited access to the Uptown area, home to two Level 1 trauma centers, Cincinnati’s second-largest job center and five of the city’s largest employers.\\nThe Ohio Department of Transportation collaborated with city officials to develop a solution that would permanently bring together the Uptown community on both sides of the freeway. Our HDR team led the design for a new, full interchange for traffic on I-71 at Martin Luther King Jr. Drive. In the process, the $80 million project became a catalyst for future economic development and thousands of new jobs in Uptown’s seven Cincinnati neighborhoods.\\nWe teamed up with Kokosing Construction Company in April 2014 to win the design-build contract to construct the interchange, which included four new entrance/exit ramps at a widened MLK Drive, reconstruction of 2 miles of I-71, and work on eight new or rehabilitated bridges. Our HDR team was responsible for the design of bridges, walls, roadway geotechnical elements, traffic signals, intelligent transportation systems, way-finding lighting, aesthetics and maintenance of traffic plans. We also provided a support role for public involvement, environmental policies, right-of-way and document control.\\nBecause of the contractual requirement to break ground by July 2014, delivery speed was vital. In order to meet this first deadline, we had to collaborate effectively with Kokosing and all project stakeholders. We expedited the project design process by dividing the work into 10 buildable units in order to get separate sections of design and construction reviewed and approved quickly. We met the contractual requirement of breaking ground less than three months after award through diligent teamwork and planning with the contractor. The rest of the design work was completed and approved on-time within a year from start to finish.\\nOur HDR team thrived on the challenges of meeting our project timetable. For example, due to the speed at which ODOT procured the DB contract, right-of-way acquisition was still ongoing when construction began. This limited the locations where initial construction could occur, \\xa0which meant the first year of construction was largely work in the interstate right of way.\\nWe developed numerous alternative technical concepts to help control the schedule and costs, including geometric improvements, pavement optimizations and structural innovations like the pre-cast wall panels used only once before on an ODOT project. Additionally, we used a geometric layout called a “combined tight and folded-diamond interchange” to fit the four new MLK Drive ramps, resulting in a smaller footprint and less impact to private property than traditional interchange types. We also realigned and flip-flopped the southbound MLK Drive and WH Taft Road off-ramps at this interchange. The reconfiguration resulted in a more intuitive exit for drivers, improved nighttime lighting conditions, eliminated a bridge span and reduced wall heights which will decrease future maintenance costs.\\nSustainable designs based on community input were essential. We worked with the City of Cincinnati Architect to develop the corridor’s aesthetic features, which included the MLK Interchange’s cable-stay bridge feel and mechanically-stabilized earth wall panel patterns. Local stakeholders chose such features and the color palette — creating the gateway concept into Uptown that the community sought.\\nConstruction was largely complete by the end of the 2017 construction season, and early estimates of time saved with the new MLK Interchange shows the intended result — reduced travel time by up to 8 minutes for drivers headed to the Uptown area. We also helped add more and safer bus stops in the area, along with a 14-foot, multi-use path to increase mobility for transit users and pedestrians.\\nIn short, our comprehensive design was completed on-time and within budget. The project reduces travel times, increases mobility, enhances way-finding and promotes economic vitality. The new interchange improves access to Uptown’s Healthcare District, home to the two trauma centers, University of Cincinnati, Xavier University, the Cincinnati Zoo and many other employers. Looking ahead, the project is expected to bring over 7,000 jobs to the Uptown area and over $700 million in new economic development.\\nLearn more about this award-winning project in our previously published article, “\\nCincinnati’s I-71/MLK Interchange: Improving Access, Building Economic Vitality\\n.”']]\n"
     ]
    }
   ],
   "source": [
    "haha = getLinks(orig)\n",
    "print(haha)"
   ]
  },
  {
   "cell_type": "code",
   "execution_count": 145,
   "metadata": {
    "ExecuteTime": {
     "end_time": "2019-06-09T22:53:50.585145Z",
     "start_time": "2019-06-09T22:53:50.556873Z"
    }
   },
   "outputs": [],
   "source": [
    "dataSave = pd.DataFrame(haha, columns = ['Title', 'Location', 'Client','Size','Market','Service','Subservice','Certification','Description'])\n",
    "dataSave.to_csv('C:/Users/fred/desktop/HDR.csv', index = False)"
   ]
  },
  {
   "cell_type": "code",
   "execution_count": null,
   "metadata": {},
   "outputs": [],
   "source": []
  }
 ],
 "metadata": {
  "kernelspec": {
   "display_name": "Python 3",
   "language": "python",
   "name": "python3"
  },
  "language_info": {
   "codemirror_mode": {
    "name": "ipython",
    "version": 3
   },
   "file_extension": ".py",
   "mimetype": "text/x-python",
   "name": "python",
   "nbconvert_exporter": "python",
   "pygments_lexer": "ipython3",
   "version": "3.6.2"
  },
  "toc": {
   "base_numbering": 1,
   "nav_menu": {},
   "number_sections": true,
   "sideBar": true,
   "skip_h1_title": false,
   "title_cell": "Table of Contents",
   "title_sidebar": "Contents",
   "toc_cell": false,
   "toc_position": {},
   "toc_section_display": true,
   "toc_window_display": false
  },
  "varInspector": {
   "cols": {
    "lenName": 16,
    "lenType": 16,
    "lenVar": 40
   },
   "kernels_config": {
    "python": {
     "delete_cmd_postfix": "",
     "delete_cmd_prefix": "del ",
     "library": "var_list.py",
     "varRefreshCmd": "print(var_dic_list())"
    },
    "r": {
     "delete_cmd_postfix": ") ",
     "delete_cmd_prefix": "rm(",
     "library": "var_list.r",
     "varRefreshCmd": "cat(var_dic_list()) "
    }
   },
   "types_to_exclude": [
    "module",
    "function",
    "builtin_function_or_method",
    "instance",
    "_Feature"
   ],
   "window_display": false
  }
 },
 "nbformat": 4,
 "nbformat_minor": 2
}
