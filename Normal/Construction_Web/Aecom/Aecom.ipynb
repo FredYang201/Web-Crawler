{
 "cells": [
  {
   "cell_type": "code",
   "execution_count": 1,
   "metadata": {
    "ExecuteTime": {
     "end_time": "2019-07-08T02:06:18.192684Z",
     "start_time": "2019-07-08T02:06:17.518524Z"
    }
   },
   "outputs": [],
   "source": [
    "import requests\n",
    "import pandas as pd\n",
    "from lxml import etree\n",
    "import re\n",
    "import gevent\n",
    "from gevent import monkey\n",
    "from urllib import parse"
   ]
  },
  {
   "cell_type": "code",
   "execution_count": 2,
   "metadata": {
    "ExecuteTime": {
     "end_time": "2019-07-08T02:06:19.336415Z",
     "start_time": "2019-07-08T02:06:19.331461Z"
    }
   },
   "outputs": [],
   "source": [
    "def getHtml(url):\n",
    "    headers = {\n",
    "        'Cookie': 'sucuri_cloudproxy_uuid_29232f6f8=556b4f084be81b3108dd16c8a1eef1c6; _ga=GA1.2.867706341.1562527044; _gid=GA1.2.1124933227.1562527044; PHPSESSID=g72qk5clc9csoglt74ldf39ij3; cookies-privacy=1',\n",
    "        'authority': 'www.aecom.com',\n",
    "        'User-Agent': 'Mozilla/5.0 (Windows NT 10.0; Win64; x64) AppleWebKit/537.36 (KHTML, like Gecko) Chrome/75.0.3770.80 Safari/537.36'\n",
    "    }\n",
    "    response = requests.get(url, headers=headers)\n",
    "    response.encoding = response.apparent_encoding\n",
    "    return response"
   ]
  },
  {
   "cell_type": "code",
   "execution_count": 3,
   "metadata": {
    "ExecuteTime": {
     "end_time": "2019-07-08T02:06:21.747030Z",
     "start_time": "2019-07-08T02:06:21.742069Z"
    }
   },
   "outputs": [],
   "source": [
    "def parse_page(market, page=1):\n",
    "    baseUrl = 'https://www.aecom.com/projects/?'\n",
    "    data = {\n",
    "        'ql[]': 199,\n",
    "        'qm[]': market,\n",
    "        'pp': page\n",
    "    }\n",
    "    x = parse.urlencode(data)\n",
    "    final_url = baseUrl + x\n",
    "    inner_html = getHtml(final_url).text\n",
    "    return inner_html"
   ]
  },
  {
   "cell_type": "code",
   "execution_count": 4,
   "metadata": {
    "ExecuteTime": {
     "end_time": "2019-07-08T02:06:24.510376Z",
     "start_time": "2019-07-08T02:06:24.505416Z"
    }
   },
   "outputs": [],
   "source": [
    "def get_infos(html):\n",
    "    inner_obj = etree.HTML(html)\n",
    "\n",
    "    cont_reg = '//div[@class=\"entry-content\"]/p/text()'\n",
    "    conts = inner_obj.xpath(cont_reg)\n",
    "    conts = '\\n'.join([single.strip() for single in conts])\n",
    "\n",
    "    service_reg = '//aside[@class=\"related-services\"]/ul//text()'\n",
    "    services = inner_obj.xpath(service_reg)\n",
    "    services = '\\n'.join([single.strip() for single in services])\n",
    "\n",
    "    location_reg = '//span[@class=\"aecom-project-location\"]/text()'\n",
    "    locations = inner_obj.xpath(location_reg)[0]\n",
    "    return services, conts, locations"
   ]
  },
  {
   "cell_type": "code",
   "execution_count": 5,
   "metadata": {
    "ExecuteTime": {
     "end_time": "2019-07-08T02:06:26.552967Z",
     "start_time": "2019-07-08T02:06:26.539082Z"
    }
   },
   "outputs": [],
   "source": [
    "def get_links(lists, name, market):\n",
    "    page = 1\n",
    "    html = parse_page(market, page)\n",
    "    while 'Load more' in html:\n",
    "        page += 1\n",
    "        html = parse_page(market, page)\n",
    "\n",
    "    obj = etree.HTML(html)\n",
    "\n",
    "    link_reg = '//li[@class=\"grid-item\"]'\n",
    "    links = obj.xpath(link_reg)\n",
    "\n",
    "    result = []\n",
    "    for each in links:\n",
    "        inner_dict = {}\n",
    "        link = each.xpath('./a/@href')[0]\n",
    "        title = each.xpath('./a/span/text()')[0].strip()\n",
    "        html_ = getHtml(link).text\n",
    "        service, contents, locations = get_infos(html_)\n",
    "        inner_dict['type'] = name\n",
    "        inner_dict['link'] = link\n",
    "        inner_dict['title'] = title\n",
    "        inner_dict['services'] = service\n",
    "        inner_dict['content'] = contents\n",
    "        inner_dict['location'] = locations\n",
    "        result.append(inner_dict)\n",
    "\n",
    "    lists.extend(result)"
   ]
  },
  {
   "cell_type": "code",
   "execution_count": 6,
   "metadata": {
    "ExecuteTime": {
     "end_time": "2019-07-08T02:06:31.770301Z",
     "start_time": "2019-07-08T02:06:30.161372Z"
    }
   },
   "outputs": [
    {
     "name": "stderr",
     "output_type": "stream",
     "text": [
      "d:\\language\\python\\lib\\site-packages\\ipykernel_launcher.py:1: MonkeyPatchWarning: Monkey-patching ssl after ssl has already been imported may lead to errors, including RecursionError on Python 3.6. It may also silently lead to incorrect behaviour on Python 3.7. Please monkey-patch earlier. See https://github.com/gevent/gevent/issues/1016. Modules that had direct imports (NOT patched): ['urllib3.util (d:\\\\language\\\\python\\\\lib\\\\site-packages\\\\urllib3\\\\util\\\\__init__.py)', 'urllib3.contrib.pyopenssl (d:\\\\language\\\\python\\\\lib\\\\site-packages\\\\urllib3\\\\contrib\\\\pyopenssl.py)']. \n",
      "  \"\"\"Entry point for launching an IPython kernel.\n",
      "Traceback (most recent call last):\n",
      "  File \"src\\gevent\\greenlet.py\", line 766, in gevent._greenlet.Greenlet.run\n",
      "  File \"<ipython-input-5-0b5a81162f87>\", line 3, in get_links\n",
      "    html = parse_page(market, page)\n",
      "  File \"<ipython-input-3-a0d6d6871945>\", line 10, in parse_page\n",
      "    inner_html = getHtml(final_url).text\n",
      "  File \"<ipython-input-2-d95bbc4cd174>\", line 7, in getHtml\n",
      "    response = requests.get(url, headers=headers)\n",
      "  File \"d:\\language\\python\\lib\\site-packages\\requests\\api.py\", line 75, in get\n",
      "    return request('get', url, params=params, **kwargs)\n",
      "  File \"d:\\language\\python\\lib\\site-packages\\requests\\api.py\", line 60, in request\n",
      "    return session.request(method=method, url=url, **kwargs)\n",
      "  File \"d:\\language\\python\\lib\\site-packages\\requests\\sessions.py\", line 533, in request\n",
      "    resp = self.send(prep, **send_kwargs)\n",
      "  File \"d:\\language\\python\\lib\\site-packages\\requests\\sessions.py\", line 646, in send\n",
      "    r = adapter.send(request, **kwargs)\n",
      "  File \"d:\\language\\python\\lib\\site-packages\\requests\\adapters.py\", line 449, in send\n",
      "    timeout=timeout\n",
      "  File \"d:\\language\\python\\lib\\site-packages\\urllib3\\connectionpool.py\", line 600, in urlopen\n",
      "    chunked=chunked)\n",
      "  File \"d:\\language\\python\\lib\\site-packages\\urllib3\\connectionpool.py\", line 343, in _make_request\n",
      "    self._validate_conn(conn)\n",
      "  File \"d:\\language\\python\\lib\\site-packages\\urllib3\\connectionpool.py\", line 839, in _validate_conn\n",
      "    conn.connect()\n",
      "  File \"d:\\language\\python\\lib\\site-packages\\urllib3\\connection.py\", line 344, in connect\n",
      "    ssl_context=context)\n",
      "  File \"d:\\language\\python\\lib\\site-packages\\urllib3\\util\\ssl_.py\", line 344, in ssl_wrap_socket\n",
      "    return context.wrap_socket(sock, server_hostname=server_hostname)\n",
      "  File \"d:\\language\\python\\lib\\site-packages\\urllib3\\contrib\\pyopenssl.py\", line 453, in wrap_socket\n",
      "    cnx.do_handshake()\n",
      "  File \"d:\\language\\python\\lib\\site-packages\\OpenSSL\\SSL.py\", line 1914, in do_handshake\n",
      "    result = _lib.SSL_do_handshake(self._ssl)\n",
      "KeyboardInterrupt\n",
      "2019-07-08T02:06:31Z <Greenlet at 0x244de724748: get_links([], 'Education', '2457')> failed with KeyboardInterrupt\n",
      "\n"
     ]
    },
    {
     "ename": "KeyboardInterrupt",
     "evalue": "",
     "output_type": "error",
     "traceback": [
      "\u001b[1;31m---------------------------------------------------------------------------\u001b[0m",
      "\u001b[1;31mKeyboardInterrupt\u001b[0m                         Traceback (most recent call last)",
      "\u001b[1;32m<ipython-input-6-fdf958ccfbc3>\u001b[0m in \u001b[0;36m<module>\u001b[1;34m\u001b[0m\n\u001b[0;32m     10\u001b[0m     \u001b[0mgens\u001b[0m\u001b[1;33m.\u001b[0m\u001b[0mappend\u001b[0m\u001b[1;33m(\u001b[0m\u001b[0mgen\u001b[0m\u001b[1;33m)\u001b[0m\u001b[1;33m\u001b[0m\u001b[0m\n\u001b[0;32m     11\u001b[0m \u001b[1;33m\u001b[0m\u001b[0m\n\u001b[1;32m---> 12\u001b[1;33m \u001b[0mgevent\u001b[0m\u001b[1;33m.\u001b[0m\u001b[0mjoinall\u001b[0m\u001b[1;33m(\u001b[0m\u001b[0mgens\u001b[0m\u001b[1;33m)\u001b[0m\u001b[1;33m\u001b[0m\u001b[0m\n\u001b[0m",
      "\u001b[1;32md:\\language\\python\\lib\\site-packages\\gevent\\_greenlet.cp36-win_amd64.pyd\u001b[0m in \u001b[0;36mgevent._greenlet.joinall\u001b[1;34m()\u001b[0m\n",
      "\u001b[1;32md:\\language\\python\\lib\\site-packages\\gevent\\_greenlet.cp36-win_amd64.pyd\u001b[0m in \u001b[0;36mgevent._greenlet.joinall\u001b[1;34m()\u001b[0m\n",
      "\u001b[1;32md:\\language\\python\\lib\\site-packages\\gevent\\__hub_primitives.cp36-win_amd64.pyd\u001b[0m in \u001b[0;36mgevent.__hub_primitives.wait_on_objects\u001b[1;34m()\u001b[0m\n",
      "\u001b[1;32md:\\language\\python\\lib\\site-packages\\gevent\\__hub_primitives.cp36-win_amd64.pyd\u001b[0m in \u001b[0;36mgevent.__hub_primitives.wait_on_objects\u001b[1;34m()\u001b[0m\n",
      "\u001b[1;32md:\\language\\python\\lib\\site-packages\\gevent\\__hub_primitives.cp36-win_amd64.pyd\u001b[0m in \u001b[0;36mgevent.__hub_primitives._WaitIterator.__next__\u001b[1;34m()\u001b[0m\n",
      "\u001b[1;32md:\\language\\python\\lib\\site-packages\\gevent\\__hub_primitives.cp36-win_amd64.pyd\u001b[0m in \u001b[0;36mgevent.__hub_primitives._WaitIterator.__next__\u001b[1;34m()\u001b[0m\n",
      "\u001b[1;32md:\\language\\python\\lib\\site-packages\\gevent\\__waiter.cp36-win_amd64.pyd\u001b[0m in \u001b[0;36mgevent.__waiter.MultipleWaiter.get\u001b[1;34m()\u001b[0m\n",
      "\u001b[1;32md:\\language\\python\\lib\\site-packages\\gevent\\__waiter.cp36-win_amd64.pyd\u001b[0m in \u001b[0;36mgevent.__waiter.Waiter.get\u001b[1;34m()\u001b[0m\n",
      "\u001b[1;32md:\\language\\python\\lib\\site-packages\\gevent\\__greenlet_primitives.cp36-win_amd64.pyd\u001b[0m in \u001b[0;36mgevent.__greenlet_primitives.SwitchOutGreenletWithLoop.switch\u001b[1;34m()\u001b[0m\n",
      "\u001b[1;32md:\\language\\python\\lib\\site-packages\\gevent\\__greenlet_primitives.cp36-win_amd64.pyd\u001b[0m in \u001b[0;36mgevent.__greenlet_primitives.SwitchOutGreenletWithLoop.switch\u001b[1;34m()\u001b[0m\n",
      "\u001b[1;32md:\\language\\python\\lib\\site-packages\\gevent\\__greenlet_primitives.cp36-win_amd64.pyd\u001b[0m in \u001b[0;36mgevent.__greenlet_primitives.SwitchOutGreenletWithLoop.switch\u001b[1;34m()\u001b[0m\n",
      "\u001b[1;32msrc\\gevent\\__greenlet_primitives.pxd\u001b[0m in \u001b[0;36mgevent.__greenlet_primitives._greenlet_switch\u001b[1;34m()\u001b[0m\n",
      "\u001b[1;31mKeyboardInterrupt\u001b[0m: "
     ]
    },
    {
     "name": "stderr",
     "output_type": "stream",
     "text": [
      "d:\\language\\python\\lib\\site-packages\\gevent\\hub.py:154: UserWarning: libuv only supports millisecond timer resolution; all times less will be set to 1 ms\n",
      "  with loop.timer(seconds, ref=ref) as t:\n"
     ]
    }
   ],
   "source": [
    "monkey.patch_all()\n",
    "item_dict = {\n",
    "    'Commercial & Residential': '2452', 'Education': '2457', 'Healthcare': '2463', 'Hotel': '2631', 'Government': '23456'\n",
    "}\n",
    "finals = []\n",
    "gens = []\n",
    "\n",
    "for key in item_dict:\n",
    "    gen = gevent.spawn(get_links, finals, key, item_dict[key])\n",
    "    gens.append(gen)\n",
    "\n",
    "gevent.joinall(gens)"
   ]
  },
  {
   "cell_type": "code",
   "execution_count": 7,
   "metadata": {
    "ExecuteTime": {
     "end_time": "2019-07-08T02:06:36.463682Z",
     "start_time": "2019-07-08T02:06:36.381359Z"
    }
   },
   "outputs": [
    {
     "name": "stdout",
     "output_type": "stream",
     "text": [
      "The history saving thread hit an unexpected error (This operation would block forever\n",
      "\tHub: <Hub '' at 0x244de92df60 default pending=0 ref=0 thread_ident=0x6e7d8>\n",
      "\tHandles:\n",
      "[HandleState(handle=<cdata 'struct uv_handle_s *' 0x00000244D6A9B318>, type=b'check', watcher=<loop at 0x244dea04748 default pending=0 ref=0>, ref=0, active=1, closing=0),\n",
      " HandleState(handle=<cdata 'struct uv_handle_s *' 0x00000244D6BEB0F8>, type=b'timer', watcher=<loop at 0x244dea04748 default pending=0 ref=0>, ref=0, active=1, closing=0),\n",
      " HandleState(handle=<cdata 'struct uv_handle_s *' 0x00000244D6A9B738>, type=b'prepare', watcher=<loop at 0x244dea04748 default pending=0 ref=0>, ref=0, active=1, closing=0),\n",
      " HandleState(handle=<cdata 'struct uv_handle_s *' 0x00000244D6A9BEC8>, type=b'check', watcher=<loop at 0x244dea04748 default pending=0 ref=0>, ref=1, active=0, closing=0)]).History will not be written to the database.\n"
     ]
    }
   ],
   "source": [
    "data = pd.DataFrame(finals)\n",
    "data.to_csv('./aecom.csv', index=False)"
   ]
  }
 ],
 "metadata": {
  "kernelspec": {
   "display_name": "Python 3",
   "language": "python",
   "name": "python3"
  },
  "toc": {
   "base_numbering": 1,
   "nav_menu": {},
   "number_sections": true,
   "sideBar": true,
   "skip_h1_title": false,
   "title_cell": "Table of Contents",
   "title_sidebar": "Contents",
   "toc_cell": false,
   "toc_position": {},
   "toc_section_display": true,
   "toc_window_display": false
  },
  "varInspector": {
   "cols": {
    "lenName": 16,
    "lenType": 16,
    "lenVar": 40
   },
   "kernels_config": {
    "python": {
     "delete_cmd_postfix": "",
     "delete_cmd_prefix": "del ",
     "library": "var_list.py",
     "varRefreshCmd": "print(var_dic_list())"
    },
    "r": {
     "delete_cmd_postfix": ") ",
     "delete_cmd_prefix": "rm(",
     "library": "var_list.r",
     "varRefreshCmd": "cat(var_dic_list()) "
    }
   },
   "types_to_exclude": [
    "module",
    "function",
    "builtin_function_or_method",
    "instance",
    "_Feature"
   ],
   "window_display": false
  }
 },
 "nbformat": 4,
 "nbformat_minor": 2
}
